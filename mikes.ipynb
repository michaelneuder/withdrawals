{
 "cells": [
  {
   "cell_type": "code",
   "execution_count": 60,
   "metadata": {},
   "outputs": [],
   "source": [
    "import matplotlib.pyplot as plt\n",
    "import matplotlib.patches as mpatches\n",
    "import numpy as np\n",
    "import pandas as pd\n",
    "from scipy.stats import poisson, uniform, expon, pareto\n",
    "from tqdm import tqdm\n",
    "from mdptoolbox import mdp, util\n",
    "import itertools\n",
    "from scipy.sparse import csr_matrix, lil_matrix\n",
    "from matplotlib.patches import Patch\n",
    "import math\n",
    "import random\n",
    "\n",
    "\n",
    "discount_factor = 0.9 #change this to change the DF everywhere. "
   ]
  },
  {
   "cell_type": "code",
   "execution_count": 111,
   "metadata": {},
   "outputs": [],
   "source": [
    "# TRANSITIONS (Actions,States,States)\n",
    "# REWARDS     (Actions,States,States)"
   ]
  },
  {
   "cell_type": "markdown",
   "metadata": {},
   "source": [
    "Histories: $\\mathcal{H} = [h_{-1}, h_{-2}, h_{-3}, h_{-4}]$. For the $(5,5)$ constraint, we only need to see that last four epoch's worth of withdrawals."
   ]
  },
  {
   "cell_type": "code",
   "execution_count": 241,
   "metadata": {},
   "outputs": [
    {
     "data": {
      "text/plain": [
       "(array([5, 0, 0, 0]), 126)"
      ]
     },
     "execution_count": 241,
     "metadata": {},
     "output_type": "execute_result"
    }
   ],
   "source": [
    "# construct possible histories\n",
    "all_combinations = itertools.product(range(6), repeat=4)\n",
    "histories = np.asarray([combination for combination in all_combinations if sum(combination) <= 5])\n",
    "histories[-1], len(histories)"
   ]
  },
  {
   "cell_type": "markdown",
   "metadata": {},
   "source": [
    "Pendings: $\\mathcal{P} = [p_{1}, p_{10}]$. We only track the number of each value of withdrawals, where at most there are 20 pending at a time."
   ]
  },
  {
   "cell_type": "code",
   "execution_count": 243,
   "metadata": {
    "scrolled": true
   },
   "outputs": [
    {
     "data": {
      "text/plain": [
       "(array([10, 10]), 121)"
      ]
     },
     "execution_count": 243,
     "metadata": {},
     "output_type": "execute_result"
    }
   ],
   "source": [
    "# construct pendings\n",
    "all_combinations = itertools.product(range(11), repeat=2)\n",
    "pendings = np.asarray([combination for combination in all_combinations if sum(combination) <= 20])\n",
    "pendings[-1], len(pendings)"
   ]
  },
  {
   "cell_type": "code",
   "execution_count": 244,
   "metadata": {},
   "outputs": [],
   "source": [
    "def tostr(arr):\n",
    "    return ','.join(str(x) for x in arr)"
   ]
  },
  {
   "cell_type": "markdown",
   "metadata": {},
   "source": [
    "Full state $\\mathcal{S} = [\\mathcal{P}, \\mathcal{H}] = [p_{1}, p_{10}, h_{-1}, h_{-2}, h_{-3}, h_{-4}]$"
   ]
  },
  {
   "cell_type": "code",
   "execution_count": 245,
   "metadata": {},
   "outputs": [
    {
     "name": "stderr",
     "output_type": "stream",
     "text": [
      "100%|██████████| 121/121 [00:00<00:00, 477.95it/s]\n"
     ]
    },
    {
     "data": {
      "text/plain": [
       "(15246, 15246)"
      ]
     },
     "execution_count": 245,
     "metadata": {},
     "output_type": "execute_result"
    }
   ],
   "source": [
    "states = []\n",
    "stateInds = {}\n",
    "ind = 0\n",
    "for i in tqdm(range(len(pendings))):\n",
    "    for j in range(len(histories)):\n",
    "        p, h = pendings[i], histories[j]\n",
    "        full = np.concatenate((p,h))\n",
    "        states.append(full)\n",
    "        strrep = tostr(full)\n",
    "        stateInds[strrep] = ind\n",
    "        ind += 1\n",
    "states = np.asarray(states)\n",
    "len(stateInds), len(states)"
   ]
  },
  {
   "cell_type": "code",
   "execution_count": 246,
   "metadata": {},
   "outputs": [],
   "source": [
    "# reward for a state is the negative of the sum of the values.\n",
    "def getReward(state, hiVal):\n",
    "    p1, p10 = state[0], state[1]\n",
    "    return - (p1 + p10*hiVal)"
   ]
  },
  {
   "cell_type": "markdown",
   "metadata": {},
   "source": [
    "Distribution for arrivals $X \\sim [0, 1, 5] \\; w.p. \\; [0.5, 0.4, 0.1]$. \n",
    "\n",
    "Distribution of values $Y \\sim [1, 10] \\; w.p. \\;  [0.9, 0.1]$."
   ]
  },
  {
   "cell_type": "code",
   "execution_count": 275,
   "metadata": {},
   "outputs": [],
   "source": [
    "# all the values and probabilities for potential new pendings\n",
    "numProbs = {0:0.5, 1:0.4, 5:0.1}\n",
    "valProbs = {1:0.9, 10:0.1}\n",
    "newPendings = [\n",
    "    (0,0),\n",
    "    (1,0),(0,1),\n",
    "    (5,0),(4,1),(3,2),(2,3),(1,4),(0,5)]\n",
    "newPendingProbs = [\n",
    "    (valProbs[1]**ones)*(valProbs[10]**tens)*math.comb(ones+tens,ones)*numProbs[ones+tens]\n",
    "    for (ones,tens) in newPendings]"
   ]
  },
  {
   "cell_type": "code",
   "execution_count": 254,
   "metadata": {},
   "outputs": [],
   "source": [
    "# all the values and probabilities for potential new pendings\n",
    "numProbs = {0:0.4, 1:0.4, 2:0.2}\n",
    "valProbs = {1:0.9, 10:0.1}\n",
    "newPendings = [\n",
    "    (0,0),\n",
    "    (1,0),(0,1),\n",
    "    (2,0),(1,1),(0,2)]\n",
    "newPendingProbs = [\n",
    "    (valProbs[1]**ones)*(valProbs[10]**tens)*math.comb(ones+tens,ones)*numProbs[ones+tens]\n",
    "    for (ones,tens) in newPendings]"
   ]
  },
  {
   "cell_type": "code",
   "execution_count": 315,
   "metadata": {},
   "outputs": [],
   "source": [
    "# all the values and probabilities for potential new pendings\n",
    "numProbs = {0:0.6, 1:0.1, 10:0.08}\n",
    "valProbs = {1:0.9, 10:0.1}\n",
    "newPendings = [\n",
    "    (0,0),\n",
    "    (1,0),(0,1),\n",
    "    (10,0),(9,1),(8,2),(7,3),(6,4),(5,5),(4,6),(3,7),(2,8),(1,9),(0,10)]\n",
    "newPendingProbs = [\n",
    "    (valProbs[1]**ones)*(valProbs[10]**tens)*math.comb(ones+tens,ones)*numProbs[ones+tens]\n",
    "    for (ones,tens) in newPendings]"
   ]
  },
  {
   "cell_type": "code",
   "execution_count": 316,
   "metadata": {},
   "outputs": [
    {
     "data": {
      "text/plain": [
       "([(0, 0),\n",
       "  (1, 0),\n",
       "  (0, 1),\n",
       "  (10, 0),\n",
       "  (9, 1),\n",
       "  (8, 2),\n",
       "  (7, 3),\n",
       "  (6, 4),\n",
       "  (5, 5),\n",
       "  (4, 6),\n",
       "  (3, 7),\n",
       "  (2, 8),\n",
       "  (1, 9),\n",
       "  (0, 10)],\n",
       " [0.6,\n",
       "  0.315,\n",
       "  0.034999999999999996,\n",
       "  0.017433922005000005,\n",
       "  0.01937102445000001,\n",
       "  0.009685512225000005,\n",
       "  0.0028697814000000015,\n",
       "  0.0005580130500000001,\n",
       "  7.440174000000003e-05,\n",
       "  6.889050000000004e-06,\n",
       "  4.3740000000000025e-07,\n",
       "  1.8225000000000013e-08,\n",
       "  4.5000000000000026e-10,\n",
       "  5.000000000000003e-12],\n",
       " 1.0000000000000002)"
      ]
     },
     "execution_count": 316,
     "metadata": {},
     "output_type": "execute_result"
    }
   ],
   "source": [
    "newPendings, newPendingProbs, sum(newPendingProbs)"
   ]
  },
  {
   "cell_type": "markdown",
   "metadata": {},
   "source": [
    "demo transtitions from initial state\n",
    "\n",
    "```\n",
    "0 [0 0 0 0 0 0] [0 0 0 0 0 0] 0.5 0 0\n",
    "1 [0 0 0 0 0 0] [1 0 0 0 0 0] 0.36000000000000004 1386 -1\n",
    "2 [0 0 0 0 0 0] [0 1 0 0 0 0] 0.04000000000000001 126 -10\n",
    "3 [0 0 0 0 0 0] [5 0 0 0 0 0] 0.05904900000000001 6930 -5\n",
    "4 [0 0 0 0 0 0] [4 1 0 0 0 0] 0.032805 5670 -14\n",
    "5 [0 0 0 0 0 0] [3 2 0 0 0 0] 0.007290000000000002 4410 -23\n",
    "6 [0 0 0 0 0 0] [2 3 0 0 0 0] 0.0008100000000000004 3150 -32\n",
    "7 [0 0 0 0 0 0] [1 4 0 0 0 0] 4.500000000000001e-05 1890 -41\n",
    "8 [0 0 0 0 0 0] [0 5 0 0 0 0] 1.0000000000000004e-06 630 -50\n",
    "```"
   ]
  },
  {
   "cell_type": "code",
   "execution_count": 317,
   "metadata": {},
   "outputs": [],
   "source": [
    "transitions = [lil_matrix((15246,15246), dtype=float) for _ in range(6)]\n",
    "rewards = [lil_matrix((15246,15246), dtype=float) for _ in range(6)]"
   ]
  },
  {
   "cell_type": "code",
   "execution_count": 318,
   "metadata": {},
   "outputs": [
    {
     "name": "stderr",
     "output_type": "stream",
     "text": [
      "15246it [00:06, 2267.26it/s]\n",
      "15246it [00:04, 3565.39it/s]\n",
      "15246it [00:02, 7419.04it/s]\n",
      "15246it [00:01, 13607.07it/s]\n",
      "15246it [00:00, 26097.75it/s]\n",
      "15246it [00:00, 33270.91it/s]\n"
     ]
    }
   ],
   "source": [
    "# action = a, pop a (if possible), reward from newstate\n",
    "for a in range(6):\n",
    "    for curInd, state in tqdm(enumerate(states)):\n",
    "        interState = np.copy(state)\n",
    "        if sum(interState[2:]) + a > 5: # illegal action: violation of constraint\n",
    "            transitions[a][curInd, curInd] += 1 # stay \n",
    "            rewards[a][curInd, curInd] = -10000 # big penalty\n",
    "        elif sum(interState[:2]) < a:   # illegal action: not enough to process\n",
    "            transitions[a][curInd, curInd] += 1 # stay\n",
    "            rewards[a][curInd, curInd] = -10000 # big penalty\n",
    "        else: # legal action: process\n",
    "            p1, p10 = interState[0], interState[1]\n",
    "            remTens = a - p10\n",
    "            if remTens <= 0:  # only 10s consumed\n",
    "                p10 -= a\n",
    "            else:             # use the remainder to process 1s\n",
    "                p10 = 0\n",
    "                p1 -= remTens\n",
    "            interState[0] = p1\n",
    "            interState[1] = p10\n",
    "\n",
    "            # shift history\n",
    "            interState[3:6] = interState[2:5]\n",
    "            interState[2] = a\n",
    "\n",
    "            # new pendings\n",
    "            for i, (ones, tens) in enumerate(newPendings):\n",
    "                newState = np.copy(interState)\n",
    "                # add new withdrawals\n",
    "                newState[0] += ones\n",
    "                newState[1] += tens\n",
    "                prob = newPendingProbs[i]\n",
    "                try:\n",
    "                    newInd = stateInds[tostr(newState)]\n",
    "                except KeyError: # not a valid new state, leave state alone\n",
    "                    newInd = curInd\n",
    "                transitions[a][curInd, newInd] += prob\n",
    "                # rewards[a][curInd, newInd] = getReward(states[newInd])\n",
    "                rewards[a][curInd, newInd] = getReward(states[curInd], hiVal=10)"
   ]
  },
  {
   "cell_type": "code",
   "execution_count": 319,
   "metadata": {},
   "outputs": [
    {
     "data": {
      "text/plain": [
       "(15246, 15246)"
      ]
     },
     "execution_count": 319,
     "metadata": {},
     "output_type": "execute_result"
    }
   ],
   "source": [
    "transitions = np.asarray([\n",
    "    csr_matrix(transitions[0]),\n",
    "    csr_matrix(transitions[1]),\n",
    "    csr_matrix(transitions[2]),\n",
    "    csr_matrix(transitions[3]),\n",
    "    csr_matrix(transitions[4]),\n",
    "    csr_matrix(transitions[5]),\n",
    "])\n",
    "rewards = np.asarray([\n",
    "    csr_matrix(rewards[0]),\n",
    "    csr_matrix(rewards[1]),\n",
    "    csr_matrix(rewards[2]),\n",
    "    csr_matrix(rewards[3]),\n",
    "    csr_matrix(rewards[4]),\n",
    "    csr_matrix(rewards[5]),\n",
    "])\n",
    "transitions[1].shape"
   ]
  },
  {
   "cell_type": "code",
   "execution_count": 280,
   "metadata": {},
   "outputs": [],
   "source": [
    "util.check(transitions, rewards)"
   ]
  },
  {
   "cell_type": "code",
   "execution_count": 320,
   "metadata": {},
   "outputs": [
    {
     "data": {
      "text/plain": [
       "44"
      ]
     },
     "execution_count": 320,
     "metadata": {},
     "output_type": "execute_result"
    }
   ],
   "source": [
    "dis = 0.9\n",
    "vi = mdp.ValueIteration(transitions, rewards, discount=dis)\n",
    "vi.run()\n",
    "vi.iter"
   ]
  },
  {
   "cell_type": "code",
   "execution_count": 321,
   "metadata": {},
   "outputs": [
    {
     "data": {
      "text/plain": [
       "(-24.882971413911697, 0)"
      ]
     },
     "execution_count": 321,
     "metadata": {},
     "output_type": "execute_result"
    }
   ],
   "source": [
    "vi.V[0], vi.policy[0]"
   ]
  },
  {
   "cell_type": "code",
   "execution_count": 322,
   "metadata": {},
   "outputs": [
    {
     "data": {
      "text/plain": [
       "(15246,)"
      ]
     },
     "execution_count": 322,
     "metadata": {},
     "output_type": "execute_result"
    }
   ],
   "source": [
    "opt_policy = np.asarray(vi.policy)\n",
    "opt_policy.shape"
   ]
  },
  {
   "cell_type": "markdown",
   "metadata": {},
   "source": [
    "---- \n",
    "---\n",
    "---\n",
    "\n",
    "`PRIO-MINSLACK`"
   ]
  },
  {
   "cell_type": "code",
   "execution_count": 323,
   "metadata": {},
   "outputs": [],
   "source": [
    "# PRIO-MINSLACK\n",
    "# stationary distribution\n",
    "prio_transitions = lil_matrix((15246,15246), dtype=float)\n",
    "prio_rewards = lil_matrix((15246,15246), dtype=float)\n",
    "prio_policy = []\n",
    "for i, state in enumerate(states):\n",
    "    slack = 5 - sum(state[2:])\n",
    "    avail = sum(state[:2])\n",
    "    policy = 6\n",
    "    if slack <= avail:\n",
    "        policy = slack\n",
    "    else: # avail > slack => can only do avail\n",
    "        policy = avail\n",
    "    prio_policy.append(policy)\n",
    "    prio_transitions[i] = transitions[policy][i]\n",
    "    prio_rewards[i] = rewards[policy][i]"
   ]
  },
  {
   "cell_type": "code",
   "execution_count": 324,
   "metadata": {},
   "outputs": [],
   "source": [
    "prio_transitions = csr_matrix(prio_transitions)\n",
    "prio_rewards = csr_matrix(prio_rewards)\n",
    "prio_policy = np.asarray(prio_policy)"
   ]
  },
  {
   "cell_type": "code",
   "execution_count": 327,
   "metadata": {},
   "outputs": [
    {
     "data": {
      "text/plain": [
       "array([[2818],\n",
       "       [2853],\n",
       "       [2873],\n",
       "       [2883],\n",
       "       [2969],\n",
       "       [2989],\n",
       "       [3080],\n",
       "       [3150],\n",
       "       [4194],\n",
       "       [4219],\n",
       "       [4229],\n",
       "       [4249],\n",
       "       [4305],\n",
       "       [4340],\n",
       "       [4410],\n",
       "       [5544],\n",
       "       [5545],\n",
       "       [5550],\n",
       "       [5565],\n",
       "       [5600],\n",
       "       [5635],\n",
       "       [5670],\n",
       "       [5726],\n",
       "       [5796],\n",
       "       [6930],\n",
       "       [6986],\n",
       "       [7056],\n",
       "       [8316]])"
      ]
     },
     "execution_count": 327,
     "metadata": {},
     "output_type": "execute_result"
    }
   ],
   "source": [
    "np.argwhere(prio_policy - opt_policy > 1)"
   ]
  },
  {
   "cell_type": "code",
   "execution_count": 328,
   "metadata": {},
   "outputs": [
    {
     "data": {
      "text/plain": [
       "(array([8, 0, 0, 0, 0, 0]), 5, 4)"
      ]
     },
     "execution_count": 328,
     "metadata": {},
     "output_type": "execute_result"
    }
   ],
   "source": [
    "ind = 11088 \n",
    "states[ind], prio_policy[ind], opt_policy[ind]"
   ]
  },
  {
   "cell_type": "markdown",
   "metadata": {},
   "source": [
    "---- \n",
    "---\n",
    "---\n",
    "\n",
    "`simulations`"
   ]
  },
  {
   "cell_type": "code",
   "execution_count": 329,
   "metadata": {},
   "outputs": [],
   "source": [
    "# sims\n",
    "def sim_both(n=None):\n",
    "    prio_state = np.array([0, 0, 0, 0, 0, 0])\n",
    "    opti_state = np.array([0, 0, 0, 0, 0, 0])\n",
    "    prio_rewards, opti_rewards = [], []\n",
    "    for curTime in range(n):\n",
    "        \n",
    "        # add rewards for existing state\n",
    "        prio_rewards.append(getReward(prio_state, hiVal=10))\n",
    "        opti_rewards.append(getReward(opti_state, hiVal=10))\n",
    "        \n",
    "        # get actions\n",
    "        try:\n",
    "            prioStateInd = stateInds[tostr(prio_state)]\n",
    "            prio_action = prio_policy[prioStateInd] \n",
    "        except KeyError:\n",
    "            # just use all capacity if we are getting long.\n",
    "            slack = 5 - sum(prio_state[2:])\n",
    "            prio_action = slack\n",
    "        try:\n",
    "            optiStateInd = stateInds[tostr(opti_state)]\n",
    "            opti_action = opt_policy[optiStateInd]\n",
    "        except KeyError:\n",
    "            # just use all capacity if we are getting long.\n",
    "            slack = 5 - sum(opti_state[2:])\n",
    "            opti_action = slack\n",
    "\n",
    "        # process withdrawals\n",
    "        p1, p10 = prio_state[0], prio_state[1]\n",
    "        remTens = prio_action - p10\n",
    "        if remTens <= 0:  # only 10s consumed\n",
    "            p10 -= prio_action\n",
    "        else:             # use the remainder to process 1s\n",
    "            p10 = 0\n",
    "            p1 -= remTens\n",
    "        prio_state[0] = p1\n",
    "        prio_state[1] = p10\n",
    "        \n",
    "        p1, p10 = opti_state[0], opti_state[1]\n",
    "        remTens = opti_action - p10\n",
    "        if remTens <= 0:  # only 10s consumed\n",
    "            p10 -= opti_action\n",
    "        else:             # use the remainder to process 1s\n",
    "            p10 = 0\n",
    "            p1 -= remTens\n",
    "        opti_state[0] = p1\n",
    "        opti_state[1] = p10\n",
    "        \n",
    "        # shift history\n",
    "        prio_state[3:6] = prio_state[2:5]\n",
    "        prio_state[2] = prio_action\n",
    "        opti_state[3:6] = opti_state[2:5]\n",
    "        opti_state[2] = opti_action\n",
    "\n",
    "        # Add new pendings\n",
    "        (newOnes, newTens) = random.choices(newPendings, weights=newPendingProbs,k=1)[0]\n",
    "        prio_state[0] += newOnes\n",
    "        prio_state[1] += newTens\n",
    "        opti_state[0] += newOnes\n",
    "        opti_state[1] += newTens\n",
    "\n",
    "    prio_rewards = np.asarray(prio_rewards)\n",
    "    opti_rewards = np.asarray(opti_rewards)\n",
    "    return prio_rewards, opti_rewards"
   ]
  },
  {
   "cell_type": "code",
   "execution_count": 330,
   "metadata": {},
   "outputs": [],
   "source": [
    "def discounted_sum(payoffs, delta):\n",
    "    discount_factors = np.array([delta**t for t in range(len(payoffs))])\n",
    "    discounted_payoffs = np.dot(payoffs, discount_factors)\n",
    "    return (1-delta) * discounted_payoffs"
   ]
  },
  {
   "cell_type": "code",
   "execution_count": 331,
   "metadata": {},
   "outputs": [],
   "source": [
    "def MCMCcomparison(no_trials, no_iters, dis):\n",
    "    prio_avg = []\n",
    "    opti_avg = []\n",
    "\n",
    "    for _ in tqdm(range(no_trials)):\n",
    "        prio_r, opti_r = sim_both(no_iters)\n",
    "        prio_avg.append(discounted_sum(prio_r, dis))\n",
    "        opti_avg.append(discounted_sum(opti_r, dis))\n",
    "\n",
    "    print(\"Optimal Discounted Reward: \", sum(opti_avg)/no_trials)\n",
    "    print(\"Prio-minslack Discounted Reward: \", sum(prio_avg)/no_trials)\n",
    "\n",
    "    return prio_avg, opti_avg"
   ]
  },
  {
   "cell_type": "code",
   "execution_count": 332,
   "metadata": {},
   "outputs": [
    {
     "name": "stderr",
     "output_type": "stream",
     "text": [
      "100%|██████████| 10000/10000 [01:47<00:00, 93.10it/s]"
     ]
    },
    {
     "name": "stdout",
     "output_type": "stream",
     "text": [
      "Optimal Discounted Reward:  -3.610810201239759\n",
      "Prio-minslack Discounted Reward:  -3.620320137887266\n"
     ]
    },
    {
     "name": "stderr",
     "output_type": "stream",
     "text": [
      "\n"
     ]
    }
   ],
   "source": [
    "prio_avg, opti_avg = MCMCcomparison(10000, 350, 0.9)"
   ]
  },
  {
   "cell_type": "code",
   "execution_count": 333,
   "metadata": {},
   "outputs": [
    {
     "data": {
      "image/png": "[encoded data removed]",
      "text/plain": [
       "<Figure size 864x360 with 2 Axes>"
      ]
     },
     "metadata": {
      "needs_background": "light"
     },
     "output_type": "display_data"
    }
   ],
   "source": [
    "f, axarr = plt.subplots(ncols = 2, figsize=(12,5))\n",
    "\n",
    "ax, ax2 = axarr\n",
    "bins=np.histogram(np.hstack((prio_avg,opti_avg)), bins=20)[1] \n",
    "\n",
    "ax.hist(prio_avg, bins, alpha=0.3, label='PRIO-MINSLACK', density=True,\n",
    "        hatch='/', edgecolor='k',fill=True, color='burlywood')  \n",
    "ax.hist(opti_avg, bins, alpha=0.3, label='OPTIMAL',density=True,\n",
    "        hatch='\\\\', edgecolor='k',fill=True, color='aqua')\n",
    "ax2.hist(prio_avg, bins, alpha=0.3, label='PRIO-MINSLACK', log=True, density=True,\n",
    "        hatch='/', edgecolor='k',fill=True, color='burlywood')  \n",
    "ax2.hist(opti_avg, bins, alpha=0.3, label='OPTIMAL', log=True, density=True,\n",
    "        hatch='\\\\', edgecolor='k',fill=True, color='aqua')\n",
    "\n",
    "ax.set_ylabel('Density', size=16)\n",
    "ax2.set_ylabel('Log-Density', size=16)\n",
    "\n",
    "for ax in axarr: \n",
    "    leg = ax.legend(loc=2, labelspacing=1., handlelength=4, borderpad=0.6)\n",
    "    for patch in leg.get_patches():\n",
    "        patch.set_height(15)\n",
    "        patch.set_y(-4.5)\n",
    "    ax.set_xlabel('Value', size=16)\n",
    "\n",
    "f.suptitle('Overlaid Histograms of Policy Values', size=23)\n",
    "# plt.savefig(\"histo.png\", dpi = 400)\n",
    "plt.show()"
   ]
  }
 ],
 "metadata": {
  "kernelspec": {
   "display_name": "Python 3",
   "language": "python",
   "name": "python3"
  },
  "language_info": {
   "codemirror_mode": {
    "name": "ipython",
    "version": 3
   },
   "file_extension": ".py",
   "mimetype": "text/x-python",
   "name": "python",
   "nbconvert_exporter": "python",
   "pygments_lexer": "ipython3",
   "version": "3.8.16"
  }
 },
 "nbformat": 4,
 "nbformat_minor": 4
}
