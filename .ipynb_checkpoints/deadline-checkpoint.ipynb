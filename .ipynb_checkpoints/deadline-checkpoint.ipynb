{
 "cells": [
  {
   "cell_type": "code",
   "execution_count": 696,
   "metadata": {},
   "outputs": [],
   "source": [
    "import matplotlib.pyplot as plt\n",
    "import numpy as np\n",
    "import pandas as pd\n",
    "from scipy.stats import poisson, uniform, expon, pareto\n",
    "from tqdm import tqdm"
   ]
  },
  {
   "cell_type": "code",
   "execution_count": 361,
   "metadata": {},
   "outputs": [
    {
     "data": {
      "text/plain": [
       "10"
      ]
     },
     "execution_count": 361,
     "metadata": {},
     "output_type": "execute_result"
    }
   ],
   "source": [
    "# constraints = [\n",
    "#     (2, 1),  # no more than 2 wdraws in  1 epochs\n",
    "#     (3, 3),  # no more than 3 wdraws in  3 epochs\n",
    "# ]\n",
    "constraints = [\n",
    "    (10, 4),  # no more than 10 wdraws in  4 epochs\n",
    "    (20, 10), # no more than 20 wdraws in 10 epochs\n",
    "]\n",
    "T_MAX = max(constraints, key=lambda x:x[1])[1]\n",
    "T_MAX"
   ]
  },
  {
   "cell_type": "code",
   "execution_count": 363,
   "metadata": {},
   "outputs": [],
   "source": [
    "class Pending:\n",
    "    def __init__(self, value, reqTime):\n",
    "        self.value = value\n",
    "        self.reqTime = reqTime\n",
    "    \n",
    "    def __str__(self):\n",
    "        return 'p: value={}, reqTime={}'.format(self.value, self.reqTime)\n",
    "\n",
    "class Processed:\n",
    "    def __init__(self, value, procTime):\n",
    "        self.value = value\n",
    "        self.procTime = procTime\n",
    "    \n",
    "    def __str__(self):\n",
    "        return 'proc: value={}, procTime={}'.format(self.value, self.procTime)"
   ]
  },
  {
   "cell_type": "code",
   "execution_count": 551,
   "metadata": {},
   "outputs": [],
   "source": [
    "def MINSLACK(n=10000, mu=1.6, dist=None):\n",
    "    pending = []\n",
    "    history = []\n",
    "    results = []\n",
    "    for curTime in range(n):\n",
    "        # Expire oldest withdrawals\n",
    "        historyNew = [h for h in history if (curTime - h.procTime) < T_MAX]\n",
    "        history = historyNew\n",
    "\n",
    "        slacks = []\n",
    "        for c in constraints:\n",
    "            delta_i, t_i = c\n",
    "            relevant_history = [h for h in history if (curTime - h.procTime) < t_i]\n",
    "            slack_i = delta_i - len(relevant_history)\n",
    "            slacks.append(slack_i)\n",
    "        minSlack = min(slacks)\n",
    "\n",
    "        # Process withdrawals\n",
    "        withdrawals = pending[:minSlack]\n",
    "        history.extend([Processed(value=p.value, procTime=curTime) for p in withdrawals])\n",
    "        pending = pending[minSlack:]\n",
    "\n",
    "        newResults = [(w.value, curTime - w.reqTime) for w in withdrawals]\n",
    "        results.extend(newResults)\n",
    "\n",
    "        # Add new pendings\n",
    "        numWdraws = poisson.rvs(mu=mu)\n",
    "        newValues = dist(numWdraws)\n",
    "        newPending = [Pending(value=vi, reqTime=curTime) for vi in newValues]\n",
    "        pending.extend(newPending)\n",
    "    results = np.asarray(results)\n",
    "    return results"
   ]
  },
  {
   "cell_type": "code",
   "execution_count": 552,
   "metadata": {},
   "outputs": [],
   "source": [
    "def MINSLACK_PRIO(n=10000, mu=1.6, dist=None):\n",
    "    pending = []\n",
    "    history = []\n",
    "    results = []\n",
    "    for curTime in range(n):\n",
    "        # Expire oldest withdrawals\n",
    "        historyNew = [h for h in history if (curTime - h.procTime) < T_MAX]\n",
    "        history = historyNew\n",
    "\n",
    "        slacks = []\n",
    "        for c in constraints:\n",
    "            delta_i, t_i = c\n",
    "            relevant_history = [h for h in history if (curTime - h.procTime) < t_i]\n",
    "            slack_i = delta_i - len(relevant_history)\n",
    "            slacks.append(slack_i)\n",
    "        minSlack = min(slacks)\n",
    "\n",
    "        # Process withdrawals\n",
    "        withdrawals = pending[:minSlack]\n",
    "        history.extend([Processed(value=p.value, procTime=curTime) for p in withdrawals])\n",
    "        pending = pending[minSlack:]\n",
    "\n",
    "        newResults = [(w.value, curTime - w.reqTime) for w in withdrawals]\n",
    "        results.extend(newResults)\n",
    "\n",
    "        # Add new pendings\n",
    "        numWdraws = poisson.rvs(mu=mu)\n",
    "        newValues = dist(numWdraws)\n",
    "        newPending = [Pending(value=vi, reqTime=curTime) for vi in newValues]\n",
    "        pending.extend(newPending)\n",
    "\n",
    "        pending.sort(reverse=True, key=lambda x:x.value)\n",
    "\n",
    "    results = np.asarray(results)\n",
    "    return results"
   ]
  },
  {
   "cell_type": "code",
   "execution_count": 1035,
   "metadata": {},
   "outputs": [],
   "source": [
    "def MINSLACK_PROP(n=10000, mu=1.6, alpha=0.5, dist=None):\n",
    "    pending = []\n",
    "    history = []\n",
    "    results = []\n",
    "    for curTime in range(10000):\n",
    "        # Expire oldest withdrawals\n",
    "        historyNew = [h for h in history if (curTime - h.procTime) < T_MAX]\n",
    "        history = historyNew\n",
    "\n",
    "        slacks = []\n",
    "        for c in constraints:\n",
    "            delta_i, t_i = c\n",
    "            relevant_history = [h for h in history if (curTime - h.procTime) < t_i]\n",
    "            slack_i = delta_i - len(relevant_history)\n",
    "            slacks.append(slack_i)\n",
    "        minSlack = min(slacks)\n",
    "\n",
    "        # PROP\n",
    "        # minSlackProp = int(minSlack * alpha)\n",
    "        minSlackProp = round(minSlack * alpha)\n",
    "\n",
    "        # Process withdrawals\n",
    "        withdrawals = pending[:minSlackProp]\n",
    "        history.extend([Processed(value=p.value, procTime=curTime) for p in withdrawals])\n",
    "        pending = pending[minSlackProp:]\n",
    "\n",
    "        newResults = [(w.value, curTime - w.reqTime) for w in withdrawals]\n",
    "        results.extend(newResults)\n",
    "\n",
    "        # Add new pendings\n",
    "        numWdraws = poisson.rvs(mu=mu)\n",
    "        newValues = dist(numWdraws)\n",
    "        newPending = [Pending(value=vi, reqTime=curTime) for vi in newValues]\n",
    "        pending.extend(newPending)\n",
    "\n",
    "        pending.sort(reverse=True, key=lambda x:x.value)\n",
    "\n",
    "\n",
    "    results = np.asarray(results)\n",
    "    return results"
   ]
  },
  {
   "cell_type": "code",
   "execution_count": 988,
   "metadata": {},
   "outputs": [
    {
     "data": {
      "text/plain": [
       "(1.1575769523182033, 2.5118771990623032, 4.026939984366577)"
      ]
     },
     "execution_count": 988,
     "metadata": {},
     "output_type": "execute_result"
    }
   ],
   "source": [
    "sample = pareto.rvs(b=1, scale=1, size=3)\n",
    "# sample = expon.rvs(scale=10, size=10000)\n",
    "sample.min(), sample.mean(), sample.max()"
   ]
  },
  {
   "cell_type": "code",
   "execution_count": 1040,
   "metadata": {},
   "outputs": [],
   "source": [
    "def exponentialRV(numWdraws):\n",
    "    return expon.rvs(scale=10, size=numWdraws)\n",
    "\n",
    "def uniformRV(numWdraws):\n",
    "    return uniform.rvs(0, 1, size=numWdraws)\n",
    "\n",
    "def paretoRV(numWdraws):\n",
    "    return pareto.rvs(b=1.25, scale=1, size=numWdraws)"
   ]
  },
  {
   "cell_type": "code",
   "execution_count": 1047,
   "metadata": {},
   "outputs": [
    {
     "name": "stdout",
     "output_type": "stream",
     "text": [
      "ms=7.24158,prio=5.06865,prop=4.84093\n"
     ]
    }
   ],
   "source": [
    "n = 5000\n",
    "mu = 1.6\n",
    "resMSStan = MINSLACK(n=n, mu=mu, dist=paretoRV)\n",
    "resMSPrio = MINSLACK_PRIO(n=n, mu=mu, dist=paretoRV)\n",
    "resMSProp = MINSLACK_PROP(n=n, mu=mu, alpha=1, dist=paretoRV)\n",
    "\n",
    "print('ms={:0.5f},prio={:0.5f},prop={:0.5f}'.format(\n",
    "      np.mean(resMSStan[:,0] * resMSStan[:,1]),\n",
    "      np.mean(resMSPrio[:,0] * resMSPrio[:,1]), \n",
    "      np.mean(resMSProp[:,0] * resMSProp[:,1])))"
   ]
  },
  {
   "cell_type": "code",
   "execution_count": null,
   "metadata": {},
   "outputs": [],
   "source": []
  },
  {
   "cell_type": "code",
   "execution_count": null,
   "metadata": {},
   "outputs": [],
   "source": []
  },
  {
   "cell_type": "code",
   "execution_count": null,
   "metadata": {},
   "outputs": [],
   "source": []
  },
  {
   "cell_type": "code",
   "execution_count": null,
   "metadata": {},
   "outputs": [],
   "source": []
  },
  {
   "cell_type": "code",
   "execution_count": null,
   "metadata": {},
   "outputs": [],
   "source": []
  },
  {
   "cell_type": "code",
   "execution_count": null,
   "metadata": {},
   "outputs": [],
   "source": []
  },
  {
   "cell_type": "code",
   "execution_count": null,
   "metadata": {},
   "outputs": [],
   "source": []
  },
  {
   "cell_type": "code",
   "execution_count": 1031,
   "metadata": {},
   "outputs": [
    {
     "data": {
      "text/plain": [
       "([0, 1, 2, 3, 4, 5, 6, 7, 8, 9, 10, 10, 11, 12, 13, 14, 15, 16, 17, 18, 19],\n",
       " [0, 0, 1, 2, 3, 4, 5, 6, 7, 8, 9, 10, 11, 12, 13, 14, 15, 16, 17, 18, 19])"
      ]
     },
     "execution_count": 1031,
     "metadata": {},
     "output_type": "execute_result"
    }
   ],
   "source": [
    "alpha = 0.95\n",
    "[round(x) for x in np.arange(0, 21)* alpha], [int(np.floor(x)) for x in np.arange(0, 21)* alpha]"
   ]
  },
  {
   "cell_type": "code",
   "execution_count": 378,
   "metadata": {},
   "outputs": [
    {
     "data": {
      "text/plain": [
       "0.6881303695290789"
      ]
     },
     "execution_count": 378,
     "metadata": {},
     "output_type": "execute_result"
    }
   ],
   "source": [
    "# MINSLACK\n",
    "pending = []\n",
    "history = []\n",
    "results = []\n",
    "for curTime in range(10000):\n",
    "    # Expire oldest withdrawals\n",
    "    historyNew = [h for h in history if (curTime - h.procTime) < T_MAX]\n",
    "    history = historyNew\n",
    "\n",
    "    slacks = []\n",
    "    for c in constraints:\n",
    "        delta_i, t_i = c\n",
    "        relevant_history = [h for h in history if (curTime - h.procTime) < t_i]\n",
    "        slack_i = delta_i - len(relevant_history)\n",
    "        slacks.append(slack_i)\n",
    "    minSlack = min(slacks)\n",
    "    \n",
    "    # Process withdrawals\n",
    "    withdrawals = pending[:minSlack]\n",
    "    history.extend([Processed(value=p.value, procTime=curTime) for p in withdrawals])\n",
    "    pending = pending[minSlack:]\n",
    "    \n",
    "    newResults = [(w.value, curTime - w.reqTime) for w in withdrawals]\n",
    "    results.extend(newResults)\n",
    "\n",
    "    # Add new pendings\n",
    "    numWdraws = poisson.rvs(mu=1.6)\n",
    "    newValues = uniform.rvs(0, 1, size=numWdraws)\n",
    "    newPending = [Pending(value=vi, reqTime=curTime) for vi in newValues]\n",
    "    pending.extend(newPending)\n",
    "results = np.asarray(results)\n",
    "np.mean(results[:,0] * results[:,1])"
   ]
  },
  {
   "cell_type": "code",
   "execution_count": 379,
   "metadata": {},
   "outputs": [
    {
     "data": {
      "image/png": "[encoded data removed]",
      "text/plain": [
       "<Figure size 648x432 with 1 Axes>"
      ]
     },
     "metadata": {
      "needs_background": "light"
     },
     "output_type": "display_data"
    }
   ],
   "source": [
    "f, ax = plt.subplots(figsize=(9,6))\n",
    "\n",
    "df = pd.DataFrame({\"vs\" : results[:,0], \"times\": results[:,1]})\n",
    "bins = np.arange(0, 1.01, 0.01)\n",
    "df[\"buckets\"] = pd.cut(df.vs, bins)\n",
    "df[\"avgs\"] = df.groupby('buckets')['times'].transform('mean')\n",
    "reduced = df[['buckets', 'avgs']].drop_duplicates()\n",
    "\n",
    "ax.plot(results[:,0], results[:,1], \n",
    "        linestyle=\"none\", marker='.', color='salmon', alpha=0.5, label='all withdrawals')\n",
    "ax.plot([b.left for b in reduced['buckets'].values], reduced['avgs'],\n",
    "        linestyle=\"none\", marker='o', color='black', alpha=1, label='bucketized average')\n",
    "\n",
    "ax.set_xlabel('value', size=14)\n",
    "ax.set_ylabel('time in queue', size=14)\n",
    "ax.legend()\n",
    "plt.show()"
   ]
  },
  {
   "cell_type": "code",
   "execution_count": 380,
   "metadata": {},
   "outputs": [
    {
     "data": {
      "text/plain": [
       "0.5929368317450942"
      ]
     },
     "execution_count": 380,
     "metadata": {},
     "output_type": "execute_result"
    }
   ],
   "source": [
    "# MINSLACK-PRIO\n",
    "pending = []\n",
    "history = []\n",
    "results = []\n",
    "for curTime in range(10000):\n",
    "    # Expire oldest withdrawals\n",
    "    historyNew = [h for h in history if (curTime - h.procTime) < T_MAX]\n",
    "    history = historyNew\n",
    "\n",
    "    slacks = []\n",
    "    for c in constraints:\n",
    "        delta_i, t_i = c\n",
    "        relevant_history = [h for h in history if (curTime - h.procTime) < t_i]\n",
    "        slack_i = delta_i - len(relevant_history)\n",
    "        slacks.append(slack_i)\n",
    "    minSlack = min(slacks)\n",
    "    \n",
    "    # Process withdrawals\n",
    "    withdrawals = pending[:minSlack]\n",
    "    history.extend([Processed(value=p.value, procTime=curTime) for p in withdrawals])\n",
    "    pending = pending[minSlack:]\n",
    "    \n",
    "    newResults = [(w.value, curTime - w.reqTime) for w in withdrawals]\n",
    "    results.extend(newResults)\n",
    "\n",
    "    # Add new pendings\n",
    "    numWdraws = poisson.rvs(mu=1.6)\n",
    "    newValues = uniform.rvs(0, 1, size=numWdraws)\n",
    "    newPending = [Pending(value=vi, reqTime=curTime) for vi in newValues]\n",
    "    pending.extend(newPending)\n",
    "    \n",
    "    pending.sort(reverse=True, key=lambda x:x.value)\n",
    "\n",
    "    \n",
    "results = np.asarray(results)\n",
    "np.mean(results[:,0] * results[:,1])"
   ]
  },
  {
   "cell_type": "code",
   "execution_count": 381,
   "metadata": {},
   "outputs": [
    {
     "data": {
      "image/png": "[encoded data removed]",
      "text/plain": [
       "<Figure size 648x432 with 1 Axes>"
      ]
     },
     "metadata": {
      "needs_background": "light"
     },
     "output_type": "display_data"
    }
   ],
   "source": [
    "f, ax = plt.subplots(figsize=(9,6))\n",
    "\n",
    "df = pd.DataFrame({\"vs\" : results[:,0], \"times\": results[:,1]})\n",
    "bins = np.arange(0, 1.01, 0.01)\n",
    "df[\"buckets\"] = pd.cut(df.vs, bins)\n",
    "df[\"avgs\"] = df.groupby('buckets')['times'].transform('mean')\n",
    "reduced = df[['buckets', 'avgs']].drop_duplicates()\n",
    "\n",
    "ax.plot(results[:,0], results[:,1], \n",
    "        linestyle=\"none\", marker='.', color='salmon', alpha=0.5, label='all withdrawals')\n",
    "ax.plot([b.left for b in reduced['buckets'].values], reduced['avgs'],\n",
    "        linestyle=\"none\", marker='o', color='black', alpha=1, label='bucketized average')\n",
    "\n",
    "ax.set_xlabel('value', size=14)\n",
    "ax.set_ylabel('time in queue', size=14)\n",
    "ax.legend()\n",
    "plt.show()"
   ]
  },
  {
   "cell_type": "code",
   "execution_count": 382,
   "metadata": {},
   "outputs": [
    {
     "data": {
      "text/plain": [
       "0.7232519365672906"
      ]
     },
     "execution_count": 382,
     "metadata": {},
     "output_type": "execute_result"
    }
   ],
   "source": [
    "# MINSLACK-PROP\n",
    "pending = []\n",
    "history = []\n",
    "results = []\n",
    "alpha = 0.5\n",
    "for curTime in range(10000):\n",
    "    # Expire oldest withdrawals\n",
    "    historyNew = [h for h in history if (curTime - h.procTime) < T_MAX]\n",
    "    history = historyNew\n",
    "\n",
    "    slacks = []\n",
    "    for c in constraints:\n",
    "        delta_i, t_i = c\n",
    "        relevant_history = [h for h in history if (curTime - h.procTime) < t_i]\n",
    "        slack_i = delta_i - len(relevant_history)\n",
    "        slacks.append(slack_i)\n",
    "    minSlack = min(slacks)\n",
    "    \n",
    "    # PROP\n",
    "    minSlackProp = int(np.floor(minSlack * alpha))\n",
    "    # Process withdrawals\n",
    "    withdrawals = pending[:minSlackProp]\n",
    "    history.extend([Processed(value=p.value, procTime=curTime) for p in withdrawals])\n",
    "    pending = pending[minSlackProp:]\n",
    "    \n",
    "    newResults = [(w.value, curTime - w.reqTime) for w in withdrawals]\n",
    "    results.extend(newResults)\n",
    "\n",
    "    # Add new pendings\n",
    "    numWdraws = poisson.rvs(mu=1.6)\n",
    "    newValues = uniform.rvs(0, 1, size=numWdraws)\n",
    "    newPending = [Pending(value=vi, reqTime=curTime) for vi in newValues]\n",
    "    pending.extend(newPending)\n",
    "    \n",
    "    pending.sort(reverse=True, key=lambda x:x.value)\n",
    "\n",
    "    \n",
    "results = np.asarray(results)\n",
    "np.mean(results[:,0] * results[:,1])"
   ]
  },
  {
   "cell_type": "code",
   "execution_count": 383,
   "metadata": {},
   "outputs": [
    {
     "data": {
      "image/png": "[encoded data removed]",
      "text/plain": [
       "<Figure size 648x432 with 1 Axes>"
      ]
     },
     "metadata": {
      "needs_background": "light"
     },
     "output_type": "display_data"
    }
   ],
   "source": [
    "f, ax = plt.subplots(figsize=(9,6))\n",
    "\n",
    "df = pd.DataFrame({\"vs\" : results[:,0], \"times\": results[:,1]})\n",
    "bins = np.arange(0, 1.01, 0.01)\n",
    "df[\"buckets\"] = pd.cut(df.vs, bins)\n",
    "df[\"avgs\"] = df.groupby('buckets')['times'].transform('mean')\n",
    "reduced = df[['buckets', 'avgs']].drop_duplicates()\n",
    "\n",
    "ax.plot(results[:,0], results[:,1], \n",
    "        linestyle=\"none\", marker='.', color='salmon', alpha=0.5, label='all withdrawals')\n",
    "ax.plot([b.left for b in reduced['buckets'].values], reduced['avgs'],\n",
    "        linestyle=\"none\", marker='o', color='black', alpha=1, label='bucketized average')\n",
    "\n",
    "ax.set_xlabel('value', size=14)\n",
    "ax.set_ylabel('time in queue', size=14)\n",
    "ax.legend()\n",
    "plt.show()"
   ]
  },
  {
   "cell_type": "code",
   "execution_count": null,
   "metadata": {},
   "outputs": [],
   "source": []
  },
  {
   "cell_type": "code",
   "execution_count": null,
   "metadata": {},
   "outputs": [],
   "source": []
  },
  {
   "cell_type": "code",
   "execution_count": null,
   "metadata": {},
   "outputs": [],
   "source": []
  },
  {
   "cell_type": "code",
   "execution_count": 103,
   "metadata": {},
   "outputs": [
    {
     "name": "stdout",
     "output_type": "stream",
     "text": [
      "1\n",
      "2\n",
      "0\n",
      "1\n",
      "2\n",
      "0\n",
      "1\n",
      "2\n",
      "0\n",
      "1\n",
      "2\n",
      "0\n",
      "1\n",
      "2\n",
      "0\n",
      "1\n",
      "2\n"
     ]
    }
   ],
   "source": [
    "pending = [Pending(value=0, reqTime=2), Pending(value=1, reqTime=2)]\n",
    "history = [Processed(value=0, procTime=0),Processed(value=0, procTime=1),Processed(value=1, procTime=1)]\n",
    "\n",
    "for curTime in range(3,20):\n",
    "    # Expire oldest withdrawals\n",
    "    historyNew = [h for h in history if (curTime - h.procTime) < T_MAX]\n",
    "    history = historyNew\n",
    "\n",
    "    slacks = []\n",
    "    for c in constraints:\n",
    "        delta_i, t_i = c\n",
    "        relevant_history = [h for h in history if (curTime - h.procTime) < t_i]\n",
    "        slack_i = delta_i - len(relevant_history)\n",
    "        slacks.append(slack_i)\n",
    "    minSlack = min(slacks)\n",
    "    print(minSlack)\n",
    "\n",
    "    # Process withdrawals\n",
    "    withdrawals = pending[:minSlack]\n",
    "    history.extend([Processed(value=p.value, procTime=curTime) for p in withdrawals])\n",
    "    pending = pending[minSlack:]\n",
    "\n",
    "    # Add new pendings\n",
    "    numWdraws = 2\n",
    "    newValues = [i for i in range(numWdraws)]\n",
    "    newPending = [Pending(value=vi, reqTime=curTime) for vi in newValues]\n",
    "    pending.extend(newPending)"
   ]
  },
  {
   "cell_type": "code",
   "execution_count": null,
   "metadata": {},
   "outputs": [],
   "source": []
  },
  {
   "cell_type": "code",
   "execution_count": null,
   "metadata": {},
   "outputs": [],
   "source": []
  },
  {
   "cell_type": "code",
   "execution_count": null,
   "metadata": {},
   "outputs": [],
   "source": []
  },
  {
   "cell_type": "code",
   "execution_count": null,
   "metadata": {},
   "outputs": [],
   "source": []
  },
  {
   "cell_type": "code",
   "execution_count": null,
   "metadata": {},
   "outputs": [],
   "source": []
  },
  {
   "cell_type": "code",
   "execution_count": null,
   "metadata": {},
   "outputs": [],
   "source": []
  },
  {
   "cell_type": "code",
   "execution_count": 111,
   "metadata": {},
   "outputs": [
    {
     "name": "stdout",
     "output_type": "stream",
     "text": [
      "['proc: value=0, procTime=0', 'proc: value=0, procTime=1', 'proc: value=1, procTime=1']\n",
      "['proc: value=0, procTime=1', 'proc: value=1, procTime=1']\n",
      "1\n",
      "['p: value=0, reqTime=2']\n",
      "['proc: value=0, procTime=1', 'proc: value=1, procTime=1', 'proc: value=0, procTime=3']\n",
      "['p: value=1, reqTime=2']\n",
      "[(0, 1)]\n",
      "['p: value=1, reqTime=2', 'p: value=0, reqTime=3', 'p: value=1, reqTime=3']\n"
     ]
    }
   ],
   "source": [
    "pending = [Pending(value=0, reqTime=2), Pending(value=1, reqTime=2)]\n",
    "history = [Processed(value=0, procTime=0),Processed(value=0, procTime=1),Processed(value=1, procTime=1)]\n",
    "results = []\n",
    "curTime = 3\n",
    "\n",
    "# Expire oldest withdrawals\n",
    "historyNew = [h for h in history if (curTime - h.procTime) < T_MAX]\n",
    "\n",
    "print([str(h) for h in history])\n",
    "print([str(h) for h in historyNew])\n",
    "\n",
    "history = historyNew\n",
    "\n",
    "slacks = []\n",
    "for c in constraints:\n",
    "    delta_i, t_i = c\n",
    "    relevant_history = [h for h in history if (curTime - h.procTime) < t_i]\n",
    "    slack_i = delta_i - len(relevant_history)\n",
    "    slacks.append(slack_i)\n",
    "minSlack = min(slacks)\n",
    "print(minSlack)\n",
    "\n",
    "# Process withdrawals\n",
    "withdrawals = pending[:minSlack]\n",
    "history.extend([Processed(value=p.value, procTime=curTime) for p in withdrawals])\n",
    "\n",
    "print([str(w) for w in withdrawals])\n",
    "print([str(h) for h in history])\n",
    "\n",
    "pending = pending[minSlack:]\n",
    "print([str(p) for p in pending])\n",
    "\n",
    "newResults = [(w.value, curTime - w.reqTime) for w in withdrawals]\n",
    "results.extend(newResults)\n",
    "print(results)\n",
    "\n",
    "# Add new pendings\n",
    "numWdraws = 2\n",
    "newValues = [i for i in range(numWdraws)]\n",
    "newPending = [Pending(value=vi, reqTime=curTime) for vi in newValues]\n",
    "pending.extend(newPending)\n",
    "\n",
    "print([str(p) for p in pending])"
   ]
  },
  {
   "cell_type": "code",
   "execution_count": 112,
   "metadata": {},
   "outputs": [
    {
     "name": "stdout",
     "output_type": "stream",
     "text": [
      "['proc: value=0, procTime=1', 'proc: value=1, procTime=1', 'proc: value=0, procTime=3']\n",
      "['proc: value=0, procTime=3']\n",
      "2\n",
      "['p: value=1, reqTime=2', 'p: value=0, reqTime=3']\n",
      "['proc: value=0, procTime=3', 'proc: value=1, procTime=4', 'proc: value=0, procTime=4']\n",
      "['p: value=1, reqTime=3']\n",
      "[(0, 1), (1, 2), (0, 1)]\n",
      "['p: value=1, reqTime=3', 'p: value=0, reqTime=4', 'p: value=1, reqTime=4']\n"
     ]
    }
   ],
   "source": [
    "curTime = 4\n",
    "\n",
    "# Expire oldest withdrawals\n",
    "historyNew = [h for h in history if (curTime - h.procTime) < T_MAX]\n",
    "\n",
    "print([str(h) for h in history])\n",
    "print([str(h) for h in historyNew])\n",
    "\n",
    "history = historyNew\n",
    "\n",
    "slacks = []\n",
    "for c in constraints:\n",
    "    delta_i, t_i = c\n",
    "    relevant_history = [h for h in history if (curTime - h.procTime) < t_i]\n",
    "    slack_i = delta_i - len(relevant_history)\n",
    "    slacks.append(slack_i)\n",
    "minSlack = min(slacks)\n",
    "print(minSlack)\n",
    "\n",
    "# Process withdrawals\n",
    "withdrawals = pending[:minSlack]\n",
    "history.extend([Processed(value=p.value, procTime=curTime) for p in withdrawals])\n",
    "\n",
    "print([str(w) for w in withdrawals])\n",
    "print([str(h) for h in history])\n",
    "\n",
    "pending = pending[minSlack:]\n",
    "print([str(p) for p in pending])\n",
    "\n",
    "newResults = [(w.value, curTime - w.reqTime) for w in withdrawals]\n",
    "results.extend(newResults)\n",
    "print(results)\n",
    "\n",
    "# Add new pendings\n",
    "numWdraws = 2\n",
    "newValues = [i for i in range(numWdraws)]\n",
    "newPending = [Pending(value=vi, reqTime=curTime) for vi in newValues]\n",
    "pending.extend(newPending)\n",
    "\n",
    "print([str(p) for p in pending])"
   ]
  },
  {
   "cell_type": "code",
   "execution_count": 113,
   "metadata": {},
   "outputs": [
    {
     "name": "stdout",
     "output_type": "stream",
     "text": [
      "['proc: value=0, procTime=3', 'proc: value=1, procTime=4', 'proc: value=0, procTime=4']\n",
      "['proc: value=0, procTime=3', 'proc: value=1, procTime=4', 'proc: value=0, procTime=4']\n",
      "0\n",
      "[]\n",
      "['proc: value=0, procTime=3', 'proc: value=1, procTime=4', 'proc: value=0, procTime=4']\n",
      "['p: value=1, reqTime=3', 'p: value=0, reqTime=4', 'p: value=1, reqTime=4']\n",
      "[(0, 1), (1, 2), (0, 1)]\n",
      "['p: value=1, reqTime=3', 'p: value=0, reqTime=4', 'p: value=1, reqTime=4', 'p: value=0, reqTime=5', 'p: value=1, reqTime=5']\n"
     ]
    }
   ],
   "source": [
    "curTime = 5\n",
    "\n",
    "# Expire oldest withdrawals\n",
    "historyNew = [h for h in history if (curTime - h.procTime) < T_MAX]\n",
    "\n",
    "print([str(h) for h in history])\n",
    "print([str(h) for h in historyNew])\n",
    "\n",
    "history = historyNew\n",
    "\n",
    "slacks = []\n",
    "for c in constraints:\n",
    "    delta_i, t_i = c\n",
    "    relevant_history = [h for h in history if (curTime - h.procTime) < t_i]\n",
    "    slack_i = delta_i - len(relevant_history)\n",
    "    slacks.append(slack_i)\n",
    "minSlack = min(slacks)\n",
    "print(minSlack)\n",
    "\n",
    "# Process withdrawals\n",
    "withdrawals = pending[:minSlack]\n",
    "history.extend([Processed(value=p.value, procTime=curTime) for p in withdrawals])\n",
    "\n",
    "print([str(w) for w in withdrawals])\n",
    "print([str(h) for h in history])\n",
    "\n",
    "pending = pending[minSlack:]\n",
    "print([str(p) for p in pending])\n",
    "\n",
    "newResults = [(w.value, curTime - w.reqTime) for w in withdrawals]\n",
    "results.extend(newResults)\n",
    "print(results)\n",
    "\n",
    "# Add new pendings\n",
    "numWdraws = 2\n",
    "newValues = [i for i in range(numWdraws)]\n",
    "newPending = [Pending(value=vi, reqTime=curTime) for vi in newValues]\n",
    "pending.extend(newPending)\n",
    "\n",
    "print([str(p) for p in pending])"
   ]
  },
  {
   "cell_type": "code",
   "execution_count": 114,
   "metadata": {},
   "outputs": [
    {
     "name": "stdout",
     "output_type": "stream",
     "text": [
      "['proc: value=0, procTime=3', 'proc: value=1, procTime=4', 'proc: value=0, procTime=4']\n",
      "['proc: value=1, procTime=4', 'proc: value=0, procTime=4']\n",
      "1\n",
      "['p: value=1, reqTime=3']\n",
      "['proc: value=1, procTime=4', 'proc: value=0, procTime=4', 'proc: value=1, procTime=6']\n",
      "['p: value=0, reqTime=4', 'p: value=1, reqTime=4', 'p: value=0, reqTime=5', 'p: value=1, reqTime=5']\n",
      "[(0, 1), (1, 2), (0, 1), (1, 3)]\n",
      "['p: value=0, reqTime=4', 'p: value=1, reqTime=4', 'p: value=0, reqTime=5', 'p: value=1, reqTime=5', 'p: value=0, reqTime=6', 'p: value=1, reqTime=6']\n"
     ]
    }
   ],
   "source": [
    "curTime = 6\n",
    "\n",
    "# Expire oldest withdrawals\n",
    "historyNew = [h for h in history if (curTime - h.procTime) < T_MAX]\n",
    "\n",
    "print([str(h) for h in history])\n",
    "print([str(h) for h in historyNew])\n",
    "\n",
    "history = historyNew\n",
    "\n",
    "slacks = []\n",
    "for c in constraints:\n",
    "    delta_i, t_i = c\n",
    "    relevant_history = [h for h in history if (curTime - h.procTime) < t_i]\n",
    "    slack_i = delta_i - len(relevant_history)\n",
    "    slacks.append(slack_i)\n",
    "minSlack = min(slacks)\n",
    "print(minSlack)\n",
    "\n",
    "# Process withdrawals\n",
    "withdrawals = pending[:minSlack]\n",
    "history.extend([Processed(value=p.value, procTime=curTime) for p in withdrawals])\n",
    "\n",
    "print([str(w) for w in withdrawals])\n",
    "print([str(h) for h in history])\n",
    "\n",
    "pending = pending[minSlack:]\n",
    "print([str(p) for p in pending])\n",
    "\n",
    "newResults = [(w.value, curTime - w.reqTime) for w in withdrawals]\n",
    "results.extend(newResults)\n",
    "print(results)\n",
    "\n",
    "# Add new pendings\n",
    "numWdraws = 2\n",
    "newValues = [i for i in range(numWdraws)]\n",
    "newPending = [Pending(value=vi, reqTime=curTime) for vi in newValues]\n",
    "pending.extend(newPending)\n",
    "\n",
    "print([str(p) for p in pending])"
   ]
  },
  {
   "cell_type": "code",
   "execution_count": 115,
   "metadata": {},
   "outputs": [
    {
     "name": "stdout",
     "output_type": "stream",
     "text": [
      "['proc: value=1, procTime=4', 'proc: value=0, procTime=4', 'proc: value=1, procTime=6']\n",
      "['proc: value=1, procTime=6']\n",
      "2\n",
      "['p: value=0, reqTime=4', 'p: value=1, reqTime=4']\n",
      "['proc: value=1, procTime=6', 'proc: value=0, procTime=7', 'proc: value=1, procTime=7']\n",
      "['p: value=0, reqTime=5', 'p: value=1, reqTime=5', 'p: value=0, reqTime=6', 'p: value=1, reqTime=6']\n",
      "[(0, 1), (1, 2), (0, 1), (1, 3), (0, 3), (1, 3)]\n",
      "['p: value=0, reqTime=5', 'p: value=1, reqTime=5', 'p: value=0, reqTime=6', 'p: value=1, reqTime=6', 'p: value=0, reqTime=7', 'p: value=1, reqTime=7']\n"
     ]
    }
   ],
   "source": [
    "curTime = 7\n",
    "\n",
    "# Expire oldest withdrawals\n",
    "historyNew = [h for h in history if (curTime - h.procTime) < T_MAX]\n",
    "\n",
    "print([str(h) for h in history])\n",
    "print([str(h) for h in historyNew])\n",
    "\n",
    "history = historyNew\n",
    "\n",
    "slacks = []\n",
    "for c in constraints:\n",
    "    delta_i, t_i = c\n",
    "    relevant_history = [h for h in history if (curTime - h.procTime) < t_i]\n",
    "    slack_i = delta_i - len(relevant_history)\n",
    "    slacks.append(slack_i)\n",
    "minSlack = min(slacks)\n",
    "print(minSlack)\n",
    "\n",
    "# Process withdrawals\n",
    "withdrawals = pending[:minSlack]\n",
    "history.extend([Processed(value=p.value, procTime=curTime) for p in withdrawals])\n",
    "\n",
    "print([str(w) for w in withdrawals])\n",
    "print([str(h) for h in history])\n",
    "\n",
    "pending = pending[minSlack:]\n",
    "print([str(p) for p in pending])\n",
    "\n",
    "newResults = [(w.value, curTime - w.reqTime) for w in withdrawals]\n",
    "results.extend(newResults)\n",
    "print(results)\n",
    "\n",
    "# Add new pendings\n",
    "numWdraws = 2\n",
    "newValues = [i for i in range(numWdraws)]\n",
    "newPending = [Pending(value=vi, reqTime=curTime) for vi in newValues]\n",
    "pending.extend(newPending)\n",
    "\n",
    "print([str(p) for p in pending])"
   ]
  },
  {
   "cell_type": "code",
   "execution_count": 116,
   "metadata": {},
   "outputs": [
    {
     "name": "stdout",
     "output_type": "stream",
     "text": [
      "['proc: value=1, procTime=6', 'proc: value=0, procTime=7', 'proc: value=1, procTime=7']\n",
      "['proc: value=1, procTime=6', 'proc: value=0, procTime=7', 'proc: value=1, procTime=7']\n",
      "0\n",
      "[]\n",
      "['proc: value=1, procTime=6', 'proc: value=0, procTime=7', 'proc: value=1, procTime=7']\n",
      "['p: value=0, reqTime=5', 'p: value=1, reqTime=5', 'p: value=0, reqTime=6', 'p: value=1, reqTime=6', 'p: value=0, reqTime=7', 'p: value=1, reqTime=7']\n",
      "[(0, 1), (1, 2), (0, 1), (1, 3), (0, 3), (1, 3)]\n",
      "['p: value=0, reqTime=5', 'p: value=1, reqTime=5', 'p: value=0, reqTime=6', 'p: value=1, reqTime=6', 'p: value=0, reqTime=7', 'p: value=1, reqTime=7', 'p: value=0, reqTime=8', 'p: value=1, reqTime=8']\n"
     ]
    }
   ],
   "source": [
    "curTime = 8\n",
    "\n",
    "# Expire oldest withdrawals\n",
    "historyNew = [h for h in history if (curTime - h.procTime) < T_MAX]\n",
    "\n",
    "print([str(h) for h in history])\n",
    "print([str(h) for h in historyNew])\n",
    "\n",
    "history = historyNew\n",
    "\n",
    "slacks = []\n",
    "for c in constraints:\n",
    "    delta_i, t_i = c\n",
    "    relevant_history = [h for h in history if (curTime - h.procTime) < t_i]\n",
    "    slack_i = delta_i - len(relevant_history)\n",
    "    slacks.append(slack_i)\n",
    "minSlack = min(slacks)\n",
    "print(minSlack)\n",
    "\n",
    "# Process withdrawals\n",
    "withdrawals = pending[:minSlack]\n",
    "history.extend([Processed(value=p.value, procTime=curTime) for p in withdrawals])\n",
    "\n",
    "print([str(w) for w in withdrawals])\n",
    "print([str(h) for h in history])\n",
    "\n",
    "pending = pending[minSlack:]\n",
    "print([str(p) for p in pending])\n",
    "\n",
    "newResults = [(w.value, curTime - w.reqTime) for w in withdrawals]\n",
    "results.extend(newResults)\n",
    "print(results)\n",
    "\n",
    "# Add new pendings\n",
    "numWdraws = 2\n",
    "newValues = [i for i in range(numWdraws)]\n",
    "newPending = [Pending(value=vi, reqTime=curTime) for vi in newValues]\n",
    "pending.extend(newPending)\n",
    "\n",
    "print([str(p) for p in pending])"
   ]
  },
  {
   "cell_type": "code",
   "execution_count": 117,
   "metadata": {},
   "outputs": [
    {
     "name": "stdout",
     "output_type": "stream",
     "text": [
      "['proc: value=1, procTime=6', 'proc: value=0, procTime=7', 'proc: value=1, procTime=7']\n",
      "['proc: value=0, procTime=7', 'proc: value=1, procTime=7']\n",
      "1\n",
      "['p: value=0, reqTime=5']\n",
      "['proc: value=0, procTime=7', 'proc: value=1, procTime=7', 'proc: value=0, procTime=9']\n",
      "['p: value=1, reqTime=5', 'p: value=0, reqTime=6', 'p: value=1, reqTime=6', 'p: value=0, reqTime=7', 'p: value=1, reqTime=7', 'p: value=0, reqTime=8', 'p: value=1, reqTime=8']\n",
      "[(0, 1), (1, 2), (0, 1), (1, 3), (0, 3), (1, 3), (0, 4)]\n",
      "['p: value=1, reqTime=5', 'p: value=0, reqTime=6', 'p: value=1, reqTime=6', 'p: value=0, reqTime=7', 'p: value=1, reqTime=7', 'p: value=0, reqTime=8', 'p: value=1, reqTime=8', 'p: value=0, reqTime=9', 'p: value=1, reqTime=9']\n"
     ]
    }
   ],
   "source": [
    "curTime = 9\n",
    "\n",
    "# Expire oldest withdrawals\n",
    "historyNew = [h for h in history if (curTime - h.procTime) < T_MAX]\n",
    "\n",
    "print([str(h) for h in history])\n",
    "print([str(h) for h in historyNew])\n",
    "\n",
    "history = historyNew\n",
    "\n",
    "slacks = []\n",
    "for c in constraints:\n",
    "    delta_i, t_i = c\n",
    "    relevant_history = [h for h in history if (curTime - h.procTime) < t_i]\n",
    "    slack_i = delta_i - len(relevant_history)\n",
    "    slacks.append(slack_i)\n",
    "minSlack = min(slacks)\n",
    "print(minSlack)\n",
    "\n",
    "# Process withdrawals\n",
    "withdrawals = pending[:minSlack]\n",
    "history.extend([Processed(value=p.value, procTime=curTime) for p in withdrawals])\n",
    "\n",
    "print([str(w) for w in withdrawals])\n",
    "print([str(h) for h in history])\n",
    "\n",
    "pending = pending[minSlack:]\n",
    "print([str(p) for p in pending])\n",
    "\n",
    "newResults = [(w.value, curTime - w.reqTime) for w in withdrawals]\n",
    "results.extend(newResults)\n",
    "print(results)\n",
    "\n",
    "# Add new pendings\n",
    "numWdraws = 2\n",
    "newValues = [i for i in range(numWdraws)]\n",
    "newPending = [Pending(value=vi, reqTime=curTime) for vi in newValues]\n",
    "pending.extend(newPending)\n",
    "\n",
    "print([str(p) for p in pending])"
   ]
  },
  {
   "cell_type": "code",
   "execution_count": 118,
   "metadata": {},
   "outputs": [
    {
     "name": "stdout",
     "output_type": "stream",
     "text": [
      "['proc: value=0, procTime=7', 'proc: value=1, procTime=7', 'proc: value=0, procTime=9']\n",
      "['proc: value=0, procTime=9']\n",
      "2\n",
      "['p: value=1, reqTime=5', 'p: value=0, reqTime=6']\n",
      "['proc: value=0, procTime=9', 'proc: value=1, procTime=10', 'proc: value=0, procTime=10']\n",
      "['p: value=1, reqTime=6', 'p: value=0, reqTime=7', 'p: value=1, reqTime=7', 'p: value=0, reqTime=8', 'p: value=1, reqTime=8', 'p: value=0, reqTime=9', 'p: value=1, reqTime=9']\n",
      "[(0, 1), (1, 2), (0, 1), (1, 3), (0, 3), (1, 3), (0, 4), (1, 5), (0, 4)]\n",
      "['p: value=1, reqTime=6', 'p: value=0, reqTime=7', 'p: value=1, reqTime=7', 'p: value=0, reqTime=8', 'p: value=1, reqTime=8', 'p: value=0, reqTime=9', 'p: value=1, reqTime=9', 'p: value=0, reqTime=10', 'p: value=1, reqTime=10']\n"
     ]
    }
   ],
   "source": [
    "curTime = 10\n",
    "\n",
    "# Expire oldest withdrawals\n",
    "historyNew = [h for h in history if (curTime - h.procTime) < T_MAX]\n",
    "\n",
    "print([str(h) for h in history])\n",
    "print([str(h) for h in historyNew])\n",
    "\n",
    "history = historyNew\n",
    "\n",
    "slacks = []\n",
    "for c in constraints:\n",
    "    delta_i, t_i = c\n",
    "    relevant_history = [h for h in history if (curTime - h.procTime) < t_i]\n",
    "    slack_i = delta_i - len(relevant_history)\n",
    "    slacks.append(slack_i)\n",
    "minSlack = min(slacks)\n",
    "print(minSlack)\n",
    "\n",
    "# Process withdrawals\n",
    "withdrawals = pending[:minSlack]\n",
    "history.extend([Processed(value=p.value, procTime=curTime) for p in withdrawals])\n",
    "\n",
    "print([str(w) for w in withdrawals])\n",
    "print([str(h) for h in history])\n",
    "\n",
    "pending = pending[minSlack:]\n",
    "print([str(p) for p in pending])\n",
    "\n",
    "newResults = [(w.value, curTime - w.reqTime) for w in withdrawals]\n",
    "results.extend(newResults)\n",
    "print(results)\n",
    "\n",
    "# Add new pendings\n",
    "numWdraws = 2\n",
    "newValues = [i for i in range(numWdraws)]\n",
    "newPending = [Pending(value=vi, reqTime=curTime) for vi in newValues]\n",
    "pending.extend(newPending)\n",
    "\n",
    "print([str(p) for p in pending])"
   ]
  },
  {
   "cell_type": "code",
   "execution_count": 119,
   "metadata": {},
   "outputs": [
    {
     "name": "stdout",
     "output_type": "stream",
     "text": [
      "['proc: value=0, procTime=9', 'proc: value=1, procTime=10', 'proc: value=0, procTime=10']\n",
      "['proc: value=0, procTime=9', 'proc: value=1, procTime=10', 'proc: value=0, procTime=10']\n",
      "0\n",
      "[]\n",
      "['proc: value=0, procTime=9', 'proc: value=1, procTime=10', 'proc: value=0, procTime=10']\n",
      "['p: value=1, reqTime=6', 'p: value=0, reqTime=7', 'p: value=1, reqTime=7', 'p: value=0, reqTime=8', 'p: value=1, reqTime=8', 'p: value=0, reqTime=9', 'p: value=1, reqTime=9', 'p: value=0, reqTime=10', 'p: value=1, reqTime=10']\n",
      "[(0, 1), (1, 2), (0, 1), (1, 3), (0, 3), (1, 3), (0, 4), (1, 5), (0, 4)]\n",
      "['p: value=1, reqTime=6', 'p: value=0, reqTime=7', 'p: value=1, reqTime=7', 'p: value=0, reqTime=8', 'p: value=1, reqTime=8', 'p: value=0, reqTime=9', 'p: value=1, reqTime=9', 'p: value=0, reqTime=10', 'p: value=1, reqTime=10', 'p: value=0, reqTime=11', 'p: value=1, reqTime=11']\n"
     ]
    }
   ],
   "source": [
    "curTime = 11\n",
    "\n",
    "# Expire oldest withdrawals\n",
    "historyNew = [h for h in history if (curTime - h.procTime) < T_MAX]\n",
    "\n",
    "print([str(h) for h in history])\n",
    "print([str(h) for h in historyNew])\n",
    "\n",
    "history = historyNew\n",
    "\n",
    "slacks = []\n",
    "for c in constraints:\n",
    "    delta_i, t_i = c\n",
    "    relevant_history = [h for h in history if (curTime - h.procTime) < t_i]\n",
    "    slack_i = delta_i - len(relevant_history)\n",
    "    slacks.append(slack_i)\n",
    "minSlack = min(slacks)\n",
    "print(minSlack)\n",
    "\n",
    "# Process withdrawals\n",
    "withdrawals = pending[:minSlack]\n",
    "history.extend([Processed(value=p.value, procTime=curTime) for p in withdrawals])\n",
    "\n",
    "print([str(w) for w in withdrawals])\n",
    "print([str(h) for h in history])\n",
    "\n",
    "pending = pending[minSlack:]\n",
    "print([str(p) for p in pending])\n",
    "\n",
    "newResults = [(w.value, curTime - w.reqTime) for w in withdrawals]\n",
    "results.extend(newResults)\n",
    "print(results)\n",
    "\n",
    "# Add new pendings\n",
    "numWdraws = 2\n",
    "newValues = [i for i in range(numWdraws)]\n",
    "newPending = [Pending(value=vi, reqTime=curTime) for vi in newValues]\n",
    "pending.extend(newPending)\n",
    "\n",
    "print([str(p) for p in pending])"
   ]
  },
  {
   "cell_type": "code",
   "execution_count": 120,
   "metadata": {},
   "outputs": [
    {
     "name": "stdout",
     "output_type": "stream",
     "text": [
      "['proc: value=0, procTime=9', 'proc: value=1, procTime=10', 'proc: value=0, procTime=10']\n",
      "['proc: value=1, procTime=10', 'proc: value=0, procTime=10']\n",
      "1\n",
      "['p: value=1, reqTime=6']\n",
      "['proc: value=1, procTime=10', 'proc: value=0, procTime=10', 'proc: value=1, procTime=12']\n",
      "['p: value=0, reqTime=7', 'p: value=1, reqTime=7', 'p: value=0, reqTime=8', 'p: value=1, reqTime=8', 'p: value=0, reqTime=9', 'p: value=1, reqTime=9', 'p: value=0, reqTime=10', 'p: value=1, reqTime=10', 'p: value=0, reqTime=11', 'p: value=1, reqTime=11']\n",
      "[(0, 1), (1, 2), (0, 1), (1, 3), (0, 3), (1, 3), (0, 4), (1, 5), (0, 4), (1, 6)]\n",
      "['p: value=0, reqTime=7', 'p: value=1, reqTime=7', 'p: value=0, reqTime=8', 'p: value=1, reqTime=8', 'p: value=0, reqTime=9', 'p: value=1, reqTime=9', 'p: value=0, reqTime=10', 'p: value=1, reqTime=10', 'p: value=0, reqTime=11', 'p: value=1, reqTime=11', 'p: value=0, reqTime=12', 'p: value=1, reqTime=12']\n"
     ]
    }
   ],
   "source": [
    "curTime = 12\n",
    "\n",
    "# Expire oldest withdrawals\n",
    "historyNew = [h for h in history if (curTime - h.procTime) < T_MAX]\n",
    "\n",
    "print([str(h) for h in history])\n",
    "print([str(h) for h in historyNew])\n",
    "\n",
    "history = historyNew\n",
    "\n",
    "slacks = []\n",
    "for c in constraints:\n",
    "    delta_i, t_i = c\n",
    "    relevant_history = [h for h in history if (curTime - h.procTime) < t_i]\n",
    "    slack_i = delta_i - len(relevant_history)\n",
    "    slacks.append(slack_i)\n",
    "minSlack = min(slacks)\n",
    "print(minSlack)\n",
    "\n",
    "# Process withdrawals\n",
    "withdrawals = pending[:minSlack]\n",
    "history.extend([Processed(value=p.value, procTime=curTime) for p in withdrawals])\n",
    "\n",
    "print([str(w) for w in withdrawals])\n",
    "print([str(h) for h in history])\n",
    "\n",
    "pending = pending[minSlack:]\n",
    "print([str(p) for p in pending])\n",
    "\n",
    "newResults = [(w.value, curTime - w.reqTime) for w in withdrawals]\n",
    "results.extend(newResults)\n",
    "print(results)\n",
    "\n",
    "# Add new pendings\n",
    "numWdraws = 2\n",
    "newValues = [i for i in range(numWdraws)]\n",
    "newPending = [Pending(value=vi, reqTime=curTime) for vi in newValues]\n",
    "pending.extend(newPending)\n",
    "\n",
    "print([str(p) for p in pending])"
   ]
  }
 ],
 "metadata": {
  "kernelspec": {
   "display_name": "Python 3",
   "language": "python",
   "name": "python3"
  },
  "language_info": {
   "codemirror_mode": {
    "name": "ipython",
    "version": 3
   },
   "file_extension": ".py",
   "mimetype": "text/x-python",
   "name": "python",
   "nbconvert_exporter": "python",
   "pygments_lexer": "ipython3",
   "version": "3.8.16"
  }
 },
 "nbformat": 4,
 "nbformat_minor": 4
}
