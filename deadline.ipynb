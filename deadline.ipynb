{
 "cells": [
  {
   "cell_type": "code",
   "execution_count": 1902,
   "metadata": {},
   "outputs": [],
   "source": [
    "import matplotlib.pyplot as plt\n",
    "import matplotlib.patches as mpatches\n",
    "import numpy as np\n",
    "import pandas as pd\n",
    "from scipy.stats import poisson, uniform, expon, pareto\n",
    "from tqdm import tqdm\n",
    "import seaborn"
   ]
  },
  {
   "cell_type": "code",
   "execution_count": 1752,
   "metadata": {},
   "outputs": [
    {
     "data": {
      "text/plain": [
       "5"
      ]
     },
     "execution_count": 1752,
     "metadata": {},
     "output_type": "execute_result"
    }
   ],
   "source": [
    "constraints = [\n",
    "    (5, 5),  # no more than 5 wdraws in  5 epochs\n",
    "]\n",
    "T_MAX = max(constraints, key=lambda x:x[1])[1]\n",
    "T_MAX"
   ]
  },
  {
   "cell_type": "code",
   "execution_count": 1753,
   "metadata": {},
   "outputs": [],
   "source": [
    "class Pending:\n",
    "    def __init__(self, value, reqTime):\n",
    "        self.value = value\n",
    "        self.reqTime = reqTime\n",
    "    \n",
    "    def __str__(self):\n",
    "        return 'p: value={}, reqTime={}'.format(self.value, self.reqTime)\n",
    "\n",
    "class Processed:\n",
    "    def __init__(self, value, procTime):\n",
    "        self.value = value\n",
    "        self.procTime = procTime\n",
    "    \n",
    "    def __str__(self):\n",
    "        return 'proc: value={}, procTime={}'.format(self.value, self.procTime)"
   ]
  },
  {
   "cell_type": "code",
   "execution_count": 1792,
   "metadata": {},
   "outputs": [],
   "source": [
    "def MINSLACK(n=None, mu=None, dist=None):\n",
    "    pending = []\n",
    "    history = []\n",
    "    results = []\n",
    "    for curTime in range(n):\n",
    "        # Expire oldest withdrawals\n",
    "        historyNew = [h for h in history if (curTime - h.procTime) < T_MAX]\n",
    "        history = historyNew\n",
    "\n",
    "        slacks = []\n",
    "        for c in constraints:\n",
    "            delta_i, t_i = c\n",
    "            relevant_history = [h for h in history if (curTime - h.procTime) < t_i]\n",
    "            slack_i = delta_i - len(relevant_history)\n",
    "            slacks.append(slack_i)\n",
    "        minSlack = min(slacks)\n",
    "\n",
    "        # Process withdrawals\n",
    "        withdrawals = pending[:minSlack]\n",
    "        history.extend([Processed(value=p.value, procTime=curTime) for p in withdrawals])\n",
    "        pending = pending[minSlack:]\n",
    "\n",
    "        if curTime > 1000:\n",
    "            newResults = [(w.value, curTime - w.reqTime) for w in withdrawals]\n",
    "            results.extend(newResults)\n",
    "\n",
    "        # Add new pendings\n",
    "        # numWdraws = poisson.rvs(mu=mu)\n",
    "        numWdraws = np.random.choice([0,1,5], p=[0.5, 0.4, 0.1])\n",
    "        newValues = dist(numWdraws)\n",
    "        newPending = [Pending(value=vi, reqTime=curTime) for vi in newValues]\n",
    "        pending.extend(newPending)\n",
    "    results = np.asarray(results)\n",
    "    return results"
   ]
  },
  {
   "cell_type": "code",
   "execution_count": 1793,
   "metadata": {},
   "outputs": [],
   "source": [
    "def MINSLACK_PRIO(n=None, mu=None, dist=None):\n",
    "    pending = []\n",
    "    history = []\n",
    "    results = []\n",
    "    for curTime in range(n):\n",
    "        # Expire oldest withdrawals\n",
    "        historyNew = [h for h in history if (curTime - h.procTime) < T_MAX]\n",
    "        history = historyNew\n",
    "\n",
    "        slacks = []\n",
    "        for c in constraints:\n",
    "            delta_i, t_i = c\n",
    "            relevant_history = [h for h in history if (curTime - h.procTime) < t_i]\n",
    "            slack_i = delta_i - len(relevant_history)\n",
    "            slacks.append(slack_i)\n",
    "        minSlack = min(slacks)\n",
    "\n",
    "        # Process withdrawals\n",
    "        withdrawals = pending[:minSlack]\n",
    "        history.extend([Processed(value=p.value, procTime=curTime) for p in withdrawals])\n",
    "        pending = pending[minSlack:]\n",
    "\n",
    "        if curTime > 1000:\n",
    "            newResults = [(w.value, curTime - w.reqTime) for w in withdrawals]\n",
    "            results.extend(newResults)\n",
    "\n",
    "        # Add new pendings\n",
    "        # numWdraws = poisson.rvs(mu=mu)\n",
    "        numWdraws = np.random.choice([0,1,5], p=[0.5, 0.4, 0.1])\n",
    "        newValues = dist(numWdraws)\n",
    "        newPending = [Pending(value=vi, reqTime=curTime) for vi in newValues]\n",
    "        pending.extend(newPending)\n",
    "\n",
    "        pending.sort(reverse=True, key=lambda x:x.value)\n",
    "\n",
    "    results = np.asarray(results)\n",
    "    return results"
   ]
  },
  {
   "cell_type": "code",
   "execution_count": 1794,
   "metadata": {},
   "outputs": [],
   "source": [
    "def MINSLACK_PROP(n=None, mu=None, alpha=None, dist=None):\n",
    "    pending = []\n",
    "    history = []\n",
    "    results = []\n",
    "    for curTime in range(n):\n",
    "        # Expire oldest withdrawals\n",
    "        historyNew = [h for h in history if (curTime - h.procTime) < T_MAX]\n",
    "        history = historyNew\n",
    "\n",
    "        slacks = []\n",
    "        for c in constraints:\n",
    "            delta_i, t_i = c\n",
    "            relevant_history = [h for h in history if (curTime - h.procTime) < t_i]\n",
    "            slack_i = delta_i - len(relevant_history)\n",
    "            slacks.append(slack_i)\n",
    "        minSlack = min(slacks)\n",
    "\n",
    "        # PROP\n",
    "        # minSlackProp = int(minSlack * alpha)\n",
    "        minSlackProp = round(minSlack * alpha)\n",
    "\n",
    "        # Process withdrawals\n",
    "        withdrawals = pending[:minSlackProp]\n",
    "        history.extend([Processed(value=p.value, procTime=curTime) for p in withdrawals])\n",
    "        pending = pending[minSlackProp:]\n",
    "\n",
    "        if curTime > 1000:\n",
    "            newResults = [(w.value, curTime - w.reqTime) for w in withdrawals]\n",
    "            results.extend(newResults)\n",
    "\n",
    "        # Add new pendings\n",
    "        # numWdraws = poisson.rvs(mu=mu)\n",
    "        numWdraws = np.random.choice([0,1,5], p=[0.5, 0.4, 0.1])\n",
    "        newValues = dist(numWdraws)\n",
    "        newPending = [Pending(value=vi, reqTime=curTime) for vi in newValues]\n",
    "        pending.extend(newPending)\n",
    "\n",
    "        pending.sort(reverse=True, key=lambda x:x.value)\n",
    "\n",
    "    results = np.asarray(results)\n",
    "    return results"
   ]
  },
  {
   "cell_type": "code",
   "execution_count": 1795,
   "metadata": {},
   "outputs": [
    {
     "data": {
      "text/plain": [
       "(4.022057568955374, 13.505315253824488, 179.70725562192308)"
      ]
     },
     "execution_count": 1795,
     "metadata": {},
     "output_type": "execute_result"
    }
   ],
   "source": [
    "sample = pareto.rvs(b=1.5, scale=4, size=100)\n",
    "# sample = expon.rvs(scale=10, size=100)\n",
    "sample.min(), sample.mean(), sample.max()"
   ]
  },
  {
   "cell_type": "code",
   "execution_count": 1796,
   "metadata": {},
   "outputs": [],
   "source": [
    "def exponentialRV(numWdraws):\n",
    "    return expon.rvs(scale=1, size=numWdraws)\n",
    "\n",
    "def uniformRV(numWdraws):\n",
    "    return uniform.rvs(0, 1, size=numWdraws)\n",
    "\n",
    "def paretoRV(numWdraws):\n",
    "    return pareto.rvs(b=2, scale=5, size=numWdraws)"
   ]
  },
  {
   "cell_type": "code",
   "execution_count": 1797,
   "metadata": {},
   "outputs": [
    {
     "name": "stdout",
     "output_type": "stream",
     "text": [
      "ms=83.42927,prio=70.08013,prop=59.29258\n",
      "ms=139.34167,prio=73.16369,prop=67.10285\n",
      "ms=130.26206,prio=63.15345,prop=56.78325\n",
      "ms=88.73674,prio=63.39331,prop=61.71974\n",
      "ms=99.92107,prio=68.16932,prop=56.72634\n",
      "ms=189.92315,prio=73.99101,prop=81.27378\n",
      "ms=135.78036,prio=73.52582,prop=47.51607\n",
      "ms=137.34176,prio=67.25551,prop=55.37384\n",
      "ms=71.02187,prio=63.40547,prop=58.92578\n",
      "ms=97.00155,prio=93.70925,prop=68.70996\n",
      "---\n",
      "ms-stan mean=117.276 \\pm 33.897\n",
      "ms-prio mean=70.985 \\pm 8.577\n",
      "ms-prop mean=61.342 \\pm 8.740\n"
     ]
    }
   ],
   "source": [
    "msstan = []\n",
    "msprio = []\n",
    "msprop = []\n",
    "for _ in range(10):\n",
    "    n = 10000\n",
    "    mu = 0.75\n",
    "    resMSStan = MINSLACK(n=n, mu=mu, dist=paretoRV)\n",
    "    resMSPrio = MINSLACK_PRIO(n=n, mu=mu, dist=paretoRV)\n",
    "    resMSProp = MINSLACK_PROP(n=n, mu=mu, alpha=0.9, dist=paretoRV)\n",
    "    print('ms={:0.5f},prio={:0.5f},prop={:0.5f}'.format(\n",
    "          np.mean(resMSStan[:,0] * resMSStan[:,1]),\n",
    "          np.mean(resMSPrio[:,0] * resMSPrio[:,1]), \n",
    "          np.mean(resMSProp[:,0] * resMSProp[:,1])))\n",
    "    msstan.append(np.mean(resMSStan[:,0] * resMSStan[:,1]))\n",
    "    msprio.append(np.mean(resMSPrio[:,0] * resMSPrio[:,1]))\n",
    "    msprop.append(np.mean(resMSProp[:,0] * resMSProp[:,1]))\n",
    "msstan = np.asarray(msstan)\n",
    "msprio = np.asarray(msprio)\n",
    "msprop = np.asarray(msprop)\n",
    "\n",
    "print('---')\n",
    "print('ms-stan mean={:0.3f} \\pm {:0.3f}'.format(msstan.mean(), msstan.std()))\n",
    "print('ms-prio mean={:0.3f} \\pm {:0.3f}'.format(msprio.mean(), msprio.std()))\n",
    "print('ms-prop mean={:0.3f} \\pm {:0.3f}'.format(msprop.mean(), msprop.std()))"
   ]
  },
  {
   "cell_type": "code",
   "execution_count": 1742,
   "metadata": {},
   "outputs": [
    {
     "data": {
      "text/plain": [
       "[0, 1, 2, 3, 4, 4]"
      ]
     },
     "execution_count": 1742,
     "metadata": {},
     "output_type": "execute_result"
    }
   ],
   "source": [
    "alpha = 0.9\n",
    "[round(x*alpha) for x in np.arange(0, 6)]"
   ]
  },
  {
   "cell_type": "code",
   "execution_count": null,
   "metadata": {},
   "outputs": [],
   "source": []
  },
  {
   "cell_type": "code",
   "execution_count": 1918,
   "metadata": {},
   "outputs": [],
   "source": [
    "def CONSTANTSLACK(n=None, mu=None, dist=None):\n",
    "    pending = []\n",
    "    history = []\n",
    "    results = []\n",
    "    for curTime in range(n):\n",
    "        # Expire oldest withdrawals\n",
    "        historyNew = [h for h in history if (curTime - h.procTime) < T_MAX]\n",
    "        history = historyNew\n",
    "\n",
    "        minSlack = 1\n",
    "\n",
    "        # Process withdrawals\n",
    "        withdrawals = pending[:minSlack]\n",
    "        history.extend([Processed(value=p.value, procTime=curTime) for p in withdrawals])\n",
    "        pending = pending[minSlack:]\n",
    "\n",
    "        if curTime > 1000:\n",
    "            newResults = [(w.value, curTime - w.reqTime) for w in withdrawals]\n",
    "            results.extend(newResults)\n",
    "\n",
    "        # Add new pendings\n",
    "        # numWdraws = poisson.rvs(mu=mu)\n",
    "        numWdraws = np.random.choice([0,1,5], p=[0.5, 0.4, 0.1])\n",
    "        newValues = dist(numWdraws)\n",
    "        newPending = [Pending(value=vi, reqTime=curTime) for vi in newValues]\n",
    "        pending.extend(newPending)\n",
    "    results = np.asarray(results)\n",
    "    return results"
   ]
  },
  {
   "cell_type": "code",
   "execution_count": null,
   "metadata": {},
   "outputs": [],
   "source": [
    "def exponentialRV(numWdraws):\n",
    "    return expon.rvs(scale=1, size=numWdraws)\n",
    "\n",
    "def uniformRV(numWdraws):\n",
    "    return uniform.rvs(0, 1, size=numWdraws)\n",
    "\n",
    "def paretoRV(numWdraws):\n",
    "    return pareto.rvs(b=2, scale=5, size=numWdraws)"
   ]
  },
  {
   "cell_type": "code",
   "execution_count": 1926,
   "metadata": {},
   "outputs": [
    {
     "name": "stdout",
     "output_type": "stream",
     "text": [
      "cons=15.81574\n",
      "cons=9.58470\n",
      "cons=11.34103\n",
      "cons=10.68074\n",
      "cons=12.28318\n",
      "cons=10.36500\n",
      "cons=10.46045\n",
      "cons=16.11574\n",
      "cons=12.66375\n",
      "cons=13.17580\n",
      "---\n",
      "ms-cons mean=12.249 \\pm 2.141\n"
     ]
    }
   ],
   "source": [
    "mscons = []\n",
    "for _ in range(10):\n",
    "    n = 10000\n",
    "    mu = 0.75\n",
    "    resMSCons = CONSTANTSLACK(n=n, mu=mu, dist=exponentialRV)\n",
    "    print('cons={:0.5f}'.format(\n",
    "          np.mean(resMSCons[:,0] * resMSCons[:,1])))\n",
    "    mscons.append(np.mean(resMSCons[:,0] * resMSCons[:,1]))\n",
    "mscons = np.asarray(mscons)\n",
    "\n",
    "print('---')\n",
    "print('ms-cons mean={:0.3f} \\pm {:0.3f}'.format(mscons.mean(), mscons.std()))"
   ]
  },
  {
   "cell_type": "code",
   "execution_count": null,
   "metadata": {},
   "outputs": [],
   "source": []
  },
  {
   "cell_type": "code",
   "execution_count": null,
   "metadata": {},
   "outputs": [],
   "source": []
  },
  {
   "cell_type": "code",
   "execution_count": null,
   "metadata": {},
   "outputs": [],
   "source": []
  },
  {
   "cell_type": "code",
   "execution_count": 1798,
   "metadata": {},
   "outputs": [
    {
     "data": {
      "text/plain": [
       "5"
      ]
     },
     "execution_count": 1798,
     "metadata": {},
     "output_type": "execute_result"
    }
   ],
   "source": [
    "constraints = [\n",
    "    (5, 5),  # no more than 5 wdraws in  5 epochs\n",
    "]\n",
    "T_MAX = max(constraints, key=lambda x:x[1])[1]\n",
    "T_MAX"
   ]
  },
  {
   "cell_type": "code",
   "execution_count": 1799,
   "metadata": {},
   "outputs": [],
   "source": [
    "def MINSLACK(n=None, mu=None, dist=None):\n",
    "    pending = []\n",
    "    history = []\n",
    "    results = []\n",
    "    for curTime in range(n):\n",
    "        # Expire oldest withdrawals\n",
    "        historyNew = [h for h in history if (curTime - h.procTime) < T_MAX]\n",
    "        history = historyNew\n",
    "\n",
    "        slacks = []\n",
    "        for c in constraints:\n",
    "            delta_i, t_i = c\n",
    "            relevant_history = [h for h in history if (curTime - h.procTime) < t_i]\n",
    "            slack_i = delta_i - len(relevant_history)\n",
    "            slacks.append(slack_i)\n",
    "        minSlack = min(slacks)\n",
    "\n",
    "        # Process withdrawals\n",
    "        withdrawals = pending[:minSlack]\n",
    "        history.extend([Processed(value=p.value, procTime=curTime) for p in withdrawals])\n",
    "        pending = pending[minSlack:]\n",
    "\n",
    "        if curTime > 1000:\n",
    "            newResults = [(w.value, curTime - w.reqTime) for w in withdrawals]\n",
    "            results.extend(newResults)\n",
    "\n",
    "        # Add new pendings\n",
    "        numWdraws = poisson.rvs(mu=mu)\n",
    "        # numWdraws = np.random.choice([0,1,5], p=[0.5, 0.4, 0.1])\n",
    "        newValues = dist(numWdraws)\n",
    "        newPending = [Pending(value=vi, reqTime=curTime) for vi in newValues]\n",
    "        pending.extend(newPending)\n",
    "    results = np.asarray(results)\n",
    "    return results\n",
    "\n",
    "def MINSLACK_PRIO(n=None, mu=None, dist=None):\n",
    "    pending = []\n",
    "    history = []\n",
    "    results = []\n",
    "    for curTime in range(n):\n",
    "        # Expire oldest withdrawals\n",
    "        historyNew = [h for h in history if (curTime - h.procTime) < T_MAX]\n",
    "        history = historyNew\n",
    "\n",
    "        slacks = []\n",
    "        for c in constraints:\n",
    "            delta_i, t_i = c\n",
    "            relevant_history = [h for h in history if (curTime - h.procTime) < t_i]\n",
    "            slack_i = delta_i - len(relevant_history)\n",
    "            slacks.append(slack_i)\n",
    "        minSlack = min(slacks)\n",
    "\n",
    "        # Process withdrawals\n",
    "        withdrawals = pending[:minSlack]\n",
    "        history.extend([Processed(value=p.value, procTime=curTime) for p in withdrawals])\n",
    "        pending = pending[minSlack:]\n",
    "\n",
    "        if curTime > 1000:\n",
    "            newResults = [(w.value, curTime - w.reqTime) for w in withdrawals]\n",
    "            results.extend(newResults)\n",
    "\n",
    "        # Add new pendings\n",
    "        numWdraws = poisson.rvs(mu=mu)\n",
    "        #numWdraws = np.random.choice([0,1,5], p=[0.5, 0.4, 0.1])\n",
    "        newValues = dist(numWdraws)\n",
    "        newPending = [Pending(value=vi, reqTime=curTime) for vi in newValues]\n",
    "        pending.extend(newPending)\n",
    "\n",
    "        pending.sort(reverse=True, key=lambda x:x.value)\n",
    "\n",
    "    results = np.asarray(results)\n",
    "    return results"
   ]
  },
  {
   "cell_type": "code",
   "execution_count": null,
   "metadata": {},
   "outputs": [],
   "source": []
  },
  {
   "cell_type": "code",
   "execution_count": null,
   "metadata": {},
   "outputs": [],
   "source": [
    "def exponentialRV(numWdraws):\n",
    "    return expon.rvs(scale=1, size=numWdraws)\n",
    "\n",
    "def uniformRV(numWdraws):\n",
    "    return uniform.rvs(0, 1, size=numWdraws)"
   ]
  },
  {
   "cell_type": "code",
   "execution_count": 1851,
   "metadata": {},
   "outputs": [],
   "source": [
    "mu = 0.9\n",
    "resMSStan = MINSLACK(n=10000, mu=mu, dist=uniformRV)\n",
    "resMSPrio = MINSLACK_PRIO(n=10000, mu=mu, dist=uniformRV)"
   ]
  },
  {
   "cell_type": "code",
   "execution_count": 1856,
   "metadata": {},
   "outputs": [
    {
     "data": {
      "text/plain": [
       "<matplotlib.collections.PathCollection at 0x12fb48fd0>"
      ]
     },
     "execution_count": 1856,
     "metadata": {},
     "output_type": "execute_result"
    },
    {
     "data": {
      "image/png": "[encoded data removed]",
      "text/plain": [
       "<Figure size 432x288 with 1 Axes>"
      ]
     },
     "metadata": {
      "needs_background": "light"
     },
     "output_type": "display_data"
    }
   ],
   "source": [
    "plt.scatter(resMSStan[:,0], resMSStan[:,1])\n",
    "plt.scatter(resMSPrio[:,0], resMSPrio[:,1], alpha=0.3)"
   ]
  },
  {
   "cell_type": "code",
   "execution_count": 1858,
   "metadata": {},
   "outputs": [
    {
     "data": {
      "text/html": [
       "<div>\n",
       "<style scoped>\n",
       "    .dataframe tbody tr th:only-of-type {\n",
       "        vertical-align: middle;\n",
       "    }\n",
       "\n",
       "    .dataframe tbody tr th {\n",
       "        vertical-align: top;\n",
       "    }\n",
       "\n",
       "    .dataframe thead th {\n",
       "        text-align: right;\n",
       "    }\n",
       "</style>\n",
       "<table border=\"1\" class=\"dataframe\">\n",
       "  <thead>\n",
       "    <tr style=\"text-align: right;\">\n",
       "      <th></th>\n",
       "      <th>vs</th>\n",
       "      <th>times</th>\n",
       "      <th>buckets</th>\n",
       "    </tr>\n",
       "  </thead>\n",
       "  <tbody>\n",
       "    <tr>\n",
       "      <th>0</th>\n",
       "      <td>0.604094</td>\n",
       "      <td>1.0</td>\n",
       "      <td>(0.6, 0.65]</td>\n",
       "    </tr>\n",
       "    <tr>\n",
       "      <th>1</th>\n",
       "      <td>0.716907</td>\n",
       "      <td>1.0</td>\n",
       "      <td>(0.7, 0.75]</td>\n",
       "    </tr>\n",
       "    <tr>\n",
       "      <th>2</th>\n",
       "      <td>0.251302</td>\n",
       "      <td>1.0</td>\n",
       "      <td>(0.25, 0.3]</td>\n",
       "    </tr>\n",
       "    <tr>\n",
       "      <th>3</th>\n",
       "      <td>0.595809</td>\n",
       "      <td>2.0</td>\n",
       "      <td>(0.55, 0.6]</td>\n",
       "    </tr>\n",
       "    <tr>\n",
       "      <th>4</th>\n",
       "      <td>0.193386</td>\n",
       "      <td>3.0</td>\n",
       "      <td>(0.15, 0.2]</td>\n",
       "    </tr>\n",
       "  </tbody>\n",
       "</table>\n",
       "</div>"
      ],
      "text/plain": [
       "         vs  times      buckets\n",
       "0  0.604094    1.0  (0.6, 0.65]\n",
       "1  0.716907    1.0  (0.7, 0.75]\n",
       "2  0.251302    1.0  (0.25, 0.3]\n",
       "3  0.595809    2.0  (0.55, 0.6]\n",
       "4  0.193386    3.0  (0.15, 0.2]"
      ]
     },
     "execution_count": 1858,
     "metadata": {},
     "output_type": "execute_result"
    }
   ],
   "source": [
    "dfStan = pd.DataFrame({\"vs\" : resMSStan[:,0], \"times\": resMSStan[:,1]})\n",
    "bins = np.arange(0, 1.01, 0.05)\n",
    "dfStan[\"buckets\"] = pd.cut(dfStan.vs, bins)\n",
    "dfStan.head()"
   ]
  },
  {
   "cell_type": "code",
   "execution_count": 1859,
   "metadata": {},
   "outputs": [
    {
     "data": {
      "text/html": [
       "<div>\n",
       "<style scoped>\n",
       "    .dataframe tbody tr th:only-of-type {\n",
       "        vertical-align: middle;\n",
       "    }\n",
       "\n",
       "    .dataframe tbody tr th {\n",
       "        vertical-align: top;\n",
       "    }\n",
       "\n",
       "    .dataframe thead th {\n",
       "        text-align: right;\n",
       "    }\n",
       "</style>\n",
       "<table border=\"1\" class=\"dataframe\">\n",
       "  <thead>\n",
       "    <tr style=\"text-align: right;\">\n",
       "      <th></th>\n",
       "      <th>vs</th>\n",
       "      <th>times</th>\n",
       "      <th>buckets</th>\n",
       "    </tr>\n",
       "  </thead>\n",
       "  <tbody>\n",
       "    <tr>\n",
       "      <th>0</th>\n",
       "      <td>0.583102</td>\n",
       "      <td>1.0</td>\n",
       "      <td>(0.55, 0.6]</td>\n",
       "    </tr>\n",
       "    <tr>\n",
       "      <th>1</th>\n",
       "      <td>0.215920</td>\n",
       "      <td>5.0</td>\n",
       "      <td>(0.2, 0.25]</td>\n",
       "    </tr>\n",
       "    <tr>\n",
       "      <th>2</th>\n",
       "      <td>0.362282</td>\n",
       "      <td>1.0</td>\n",
       "      <td>(0.35, 0.4]</td>\n",
       "    </tr>\n",
       "    <tr>\n",
       "      <th>3</th>\n",
       "      <td>0.395974</td>\n",
       "      <td>1.0</td>\n",
       "      <td>(0.35, 0.4]</td>\n",
       "    </tr>\n",
       "    <tr>\n",
       "      <th>4</th>\n",
       "      <td>0.213073</td>\n",
       "      <td>1.0</td>\n",
       "      <td>(0.2, 0.25]</td>\n",
       "    </tr>\n",
       "  </tbody>\n",
       "</table>\n",
       "</div>"
      ],
      "text/plain": [
       "         vs  times      buckets\n",
       "0  0.583102    1.0  (0.55, 0.6]\n",
       "1  0.215920    5.0  (0.2, 0.25]\n",
       "2  0.362282    1.0  (0.35, 0.4]\n",
       "3  0.395974    1.0  (0.35, 0.4]\n",
       "4  0.213073    1.0  (0.2, 0.25]"
      ]
     },
     "execution_count": 1859,
     "metadata": {},
     "output_type": "execute_result"
    }
   ],
   "source": [
    "dfPrio = pd.DataFrame({\"vs\" : resMSPrio[:,0], \"times\": resMSPrio[:,1]})\n",
    "bins = np.arange(0, 1.01, 0.05)\n",
    "dfPrio[\"buckets\"] = pd.cut(dfPrio.vs, bins)\n",
    "dfPrio.head()"
   ]
  },
  {
   "cell_type": "code",
   "execution_count": 1860,
   "metadata": {},
   "outputs": [],
   "source": [
    "intervals = sorted(list(set(dfStan.buckets.values)))"
   ]
  },
  {
   "cell_type": "code",
   "execution_count": 1864,
   "metadata": {},
   "outputs": [],
   "source": [
    "violinLocs = []\n",
    "stanViolins = []\n",
    "prioViolins = []\n",
    "for i in intervals:\n",
    "    violinLocs.append(i.mid)\n",
    "    stanViolins.append(dfStan[dfStan.buckets == i].times.values)\n",
    "    prioViolins.append(dfPrio[dfPrio.buckets == i].times.values)"
   ]
  },
  {
   "cell_type": "code",
   "execution_count": 1887,
   "metadata": {},
   "outputs": [
    {
     "data": {
      "text/plain": [
       "<AxesSubplot:>"
      ]
     },
     "execution_count": 1887,
     "metadata": {},
     "output_type": "execute_result"
    },
    {
     "data": {
      "image/png": "[encoded data removed]",
      "text/plain": [
       "<Figure size 432x288 with 1 Axes>"
      ]
     },
     "metadata": {
      "needs_background": "light"
     },
     "output_type": "display_data"
    }
   ],
   "source": [
    "seaborn.violinplot(data=stanViolins, ax=ax)"
   ]
  },
  {
   "cell_type": "code",
   "execution_count": 1892,
   "metadata": {},
   "outputs": [
    {
     "data": {
      "text/html": [
       "<div>\n",
       "<style scoped>\n",
       "    .dataframe tbody tr th:only-of-type {\n",
       "        vertical-align: middle;\n",
       "    }\n",
       "\n",
       "    .dataframe tbody tr th {\n",
       "        vertical-align: top;\n",
       "    }\n",
       "\n",
       "    .dataframe thead th {\n",
       "        text-align: right;\n",
       "    }\n",
       "</style>\n",
       "<table border=\"1\" class=\"dataframe\">\n",
       "  <thead>\n",
       "    <tr style=\"text-align: right;\">\n",
       "      <th></th>\n",
       "      <th>locs</th>\n",
       "      <th>stan</th>\n",
       "      <th>prio</th>\n",
       "    </tr>\n",
       "  </thead>\n",
       "  <tbody>\n",
       "    <tr>\n",
       "      <th>0</th>\n",
       "      <td>0.025</td>\n",
       "      <td>[5.0, 6.0, 12.0, 9.0, 4.0, 4.0, 5.0, 10.0, 12....</td>\n",
       "      <td>[1.0, 4.0, 5.0, 1.0, 4.0, 1.0, 1.0, 1.0, 4.0, ...</td>\n",
       "    </tr>\n",
       "    <tr>\n",
       "      <th>1</th>\n",
       "      <td>0.075</td>\n",
       "      <td>[4.0, 7.0, 11.0, 10.0, 8.0, 3.0, 6.0, 11.0, 12...</td>\n",
       "      <td>[1.0, 4.0, 1.0, 1.0, 2.0, 1.0, 1.0, 1.0, 4.0, ...</td>\n",
       "    </tr>\n",
       "    <tr>\n",
       "      <th>2</th>\n",
       "      <td>0.125</td>\n",
       "      <td>[1.0, 1.0, 6.0, 3.0, 6.0, 8.0, 2.0, 2.0, 1.0, ...</td>\n",
       "      <td>[1.0, 5.0, 5.0, 1.0, 1.0, 5.0, 10.0, 4.0, 1.0,...</td>\n",
       "    </tr>\n",
       "    <tr>\n",
       "      <th>3</th>\n",
       "      <td>0.175</td>\n",
       "      <td>[3.0, 7.0, 10.0, 10.0, 10.0, 9.0, 1.0, 1.0, 6....</td>\n",
       "      <td>[1.0, 1.0, 1.0, 1.0, 1.0, 13.0, 1.0, 4.0, 2.0,...</td>\n",
       "    </tr>\n",
       "    <tr>\n",
       "      <th>4</th>\n",
       "      <td>0.225</td>\n",
       "      <td>[1.0, 1.0, 6.0, 11.0, 8.0, 9.0, 11.0, 6.0, 7.0...</td>\n",
       "      <td>[5.0, 1.0, 1.0, 2.0, 1.0, 1.0, 1.0, 1.0, 2.0, ...</td>\n",
       "    </tr>\n",
       "  </tbody>\n",
       "</table>\n",
       "</div>"
      ],
      "text/plain": [
       "    locs                                               stan  \\\n",
       "0  0.025  [5.0, 6.0, 12.0, 9.0, 4.0, 4.0, 5.0, 10.0, 12....   \n",
       "1  0.075  [4.0, 7.0, 11.0, 10.0, 8.0, 3.0, 6.0, 11.0, 12...   \n",
       "2  0.125  [1.0, 1.0, 6.0, 3.0, 6.0, 8.0, 2.0, 2.0, 1.0, ...   \n",
       "3  0.175  [3.0, 7.0, 10.0, 10.0, 10.0, 9.0, 1.0, 1.0, 6....   \n",
       "4  0.225  [1.0, 1.0, 6.0, 11.0, 8.0, 9.0, 11.0, 6.0, 7.0...   \n",
       "\n",
       "                                                prio  \n",
       "0  [1.0, 4.0, 5.0, 1.0, 4.0, 1.0, 1.0, 1.0, 4.0, ...  \n",
       "1  [1.0, 4.0, 1.0, 1.0, 2.0, 1.0, 1.0, 1.0, 4.0, ...  \n",
       "2  [1.0, 5.0, 5.0, 1.0, 1.0, 5.0, 10.0, 4.0, 1.0,...  \n",
       "3  [1.0, 1.0, 1.0, 1.0, 1.0, 13.0, 1.0, 4.0, 2.0,...  \n",
       "4  [5.0, 1.0, 1.0, 2.0, 1.0, 1.0, 1.0, 1.0, 2.0, ...  "
      ]
     },
     "execution_count": 1892,
     "metadata": {},
     "output_type": "execute_result"
    }
   ],
   "source": [
    "violinDf = pd.DataFrame({\"locs\": violinLocs, \"stan\": stanViolins, \"prio\": prioViolins})\n",
    "violinDf.head()"
   ]
  },
  {
   "cell_type": "code",
   "execution_count": 1930,
   "metadata": {},
   "outputs": [
    {
     "data": {
      "image/png": "[encoded data removed]",
      "text/plain": [
       "<Figure size 864x432 with 1 Axes>"
      ]
     },
     "metadata": {
      "needs_background": "light"
     },
     "output_type": "display_data"
    }
   ],
   "source": [
    "f, ax = plt.subplots(figsize=(12,6))\n",
    "\n",
    "labels = []\n",
    "def add_label(violin, label):\n",
    "    color = violin[\"bodies\"][0].get_facecolor().flatten()\n",
    "    labels.append((mpatches.Patch(color=color), label))\n",
    "\n",
    "\n",
    "vi1 = ax.violinplot(stanViolins, positions=violinLocs, widths=0.05, showextrema=False)\n",
    "\n",
    "for pc in vi1['bodies']:\n",
    "    pc.set_facecolor('indianred')\n",
    "    pc.set_edgecolor('black')\n",
    "\n",
    "add_label(vi1, \"MINSLACK\")\n",
    "\n",
    "vi2 = ax.violinplot(prioViolins, positions=violinLocs, widths=0.05, showextrema=False)\n",
    "\n",
    "for pc in vi2['bodies']:\n",
    "    pc.set_facecolor('skyblue')\n",
    "    pc.set_edgecolor('black')\n",
    "\n",
    "add_label(vi2, \"PRIO-MINSLACK\")\n",
    "\n",
    "ax.set_ylim(0, 40)\n",
    "ax.grid(alpha=0.4)\n",
    "\n",
    "ax.set_xlabel('value, $v_i$', size=18)\n",
    "ax.set_ylabel('time in queue, $\\Delta_i$', size=18)\n",
    "ax.set_title('MINSLACK and PRIO-SLACK waiting time distributions', size=18)\n",
    "\n",
    "plt.legend(*zip(*labels), loc=1)\n",
    "plt.savefig('test.png')\n",
    "plt.show()"
   ]
  },
  {
   "cell_type": "code",
   "execution_count": 1809,
   "metadata": {},
   "outputs": [
    {
     "data": {
      "text/plain": [
       "{'bodies': [<matplotlib.collections.PolyCollection at 0x1305bfa30>],\n",
       " 'cmaxes': <matplotlib.collections.LineCollection at 0x1305bf8b0>,\n",
       " 'cmins': <matplotlib.collections.LineCollection at 0x1305bfeb0>,\n",
       " 'cbars': <matplotlib.collections.LineCollection at 0x12fc421f0>}"
      ]
     },
     "execution_count": 1809,
     "metadata": {},
     "output_type": "execute_result"
    },
    {
     "data": {
      "image/png": "[encoded data removed]",
      "text/plain": [
       "<Figure size 432x288 with 1 Axes>"
      ]
     },
     "metadata": {
      "needs_background": "light"
     },
     "output_type": "display_data"
    }
   ],
   "source": [
    "plt.violinplot(resMSStan[:,1])\n",
    "plt.violinplot(resMSPrio[:,1])\n"
   ]
  },
  {
   "cell_type": "code",
   "execution_count": 1806,
   "metadata": {},
   "outputs": [
    {
     "data": {
      "text/plain": [
       "(3.2031633055034425, 1.0823271014608233)"
      ]
     },
     "execution_count": 1806,
     "metadata": {},
     "output_type": "execute_result"
    }
   ],
   "source": [
    "np.mean(resMSStan[:,0] * resMSStan[:,1]), np.mean(resMSPrio[:,0] * resMSPrio[:,1])"
   ]
  },
  {
   "cell_type": "code",
   "execution_count": null,
   "metadata": {},
   "outputs": [],
   "source": [
    "f, ax = plt.subplots(figsize=(9,6))\n",
    "\n",
    "df = pd.DataFrame({\"vs\" : results[:,0], \"times\": results[:,1]})\n",
    "bins = np.arange(0, 1.01, 0.01)\n",
    "df[\"buckets\"] = pd.cut(df.vs, bins)\n",
    "df[\"avgs\"] = df.groupby('buckets')['times'].transform('mean')\n",
    "reduced = df[['buckets', 'avgs']].drop_duplicates()\n",
    "\n",
    "ax.plot(results[:,0], results[:,1], \n",
    "        linestyle=\"none\", marker='.', color='salmon', alpha=0.5, label='all withdrawals')\n",
    "ax.plot([b.left for b in reduced['buckets'].values], reduced['avgs'],\n",
    "        linestyle=\"none\", marker='o', color='black', alpha=1, label='bucketized average')\n",
    "\n",
    "ax.set_xlabel('value', size=14)\n",
    "ax.set_ylabel('time in queue', size=14)\n",
    "ax.legend()\n",
    "plt.show()"
   ]
  },
  {
   "cell_type": "code",
   "execution_count": null,
   "metadata": {},
   "outputs": [],
   "source": []
  },
  {
   "cell_type": "code",
   "execution_count": null,
   "metadata": {},
   "outputs": [],
   "source": []
  },
  {
   "cell_type": "code",
   "execution_count": null,
   "metadata": {},
   "outputs": [],
   "source": []
  },
  {
   "cell_type": "code",
   "execution_count": 378,
   "metadata": {},
   "outputs": [
    {
     "data": {
      "text/plain": [
       "0.6881303695290789"
      ]
     },
     "execution_count": 378,
     "metadata": {},
     "output_type": "execute_result"
    }
   ],
   "source": [
    "# MINSLACK\n",
    "pending = []\n",
    "history = []\n",
    "results = []\n",
    "for curTime in range(10000):\n",
    "    # Expire oldest withdrawals\n",
    "    historyNew = [h for h in history if (curTime - h.procTime) < T_MAX]\n",
    "    history = historyNew\n",
    "\n",
    "    slacks = []\n",
    "    for c in constraints:\n",
    "        delta_i, t_i = c\n",
    "        relevant_history = [h for h in history if (curTime - h.procTime) < t_i]\n",
    "        slack_i = delta_i - len(relevant_history)\n",
    "        slacks.append(slack_i)\n",
    "    minSlack = min(slacks)\n",
    "    \n",
    "    # Process withdrawals\n",
    "    withdrawals = pending[:minSlack]\n",
    "    history.extend([Processed(value=p.value, procTime=curTime) for p in withdrawals])\n",
    "    pending = pending[minSlack:]\n",
    "    \n",
    "    newResults = [(w.value, curTime - w.reqTime) for w in withdrawals]\n",
    "    results.extend(newResults)\n",
    "\n",
    "    # Add new pendings\n",
    "    numWdraws = poisson.rvs(mu=1.6)\n",
    "    newValues = uniform.rvs(0, 1, size=numWdraws)\n",
    "    newPending = [Pending(value=vi, reqTime=curTime) for vi in newValues]\n",
    "    pending.extend(newPending)\n",
    "results = np.asarray(results)\n",
    "np.mean(results[:,0] * results[:,1])"
   ]
  },
  {
   "cell_type": "code",
   "execution_count": 379,
   "metadata": {},
   "outputs": [
    {
     "data": {
      "image/png": "[encoded data removed]",
      "text/plain": [
       "<Figure size 648x432 with 1 Axes>"
      ]
     },
     "metadata": {
      "needs_background": "light"
     },
     "output_type": "display_data"
    }
   ],
   "source": [
    "f, ax = plt.subplots(figsize=(9,6))\n",
    "\n",
    "df = pd.DataFrame({\"vs\" : results[:,0], \"times\": results[:,1]})\n",
    "bins = np.arange(0, 1.01, 0.01)\n",
    "df[\"buckets\"] = pd.cut(df.vs, bins)\n",
    "df[\"avgs\"] = df.groupby('buckets')['times'].transform('mean')\n",
    "reduced = df[['buckets', 'avgs']].drop_duplicates()\n",
    "\n",
    "ax.plot(results[:,0], results[:,1], \n",
    "        linestyle=\"none\", marker='.', color='salmon', alpha=0.5, label='all withdrawals')\n",
    "ax.plot([b.left for b in reduced['buckets'].values], reduced['avgs'],\n",
    "        linestyle=\"none\", marker='o', color='black', alpha=1, label='bucketized average')\n",
    "\n",
    "ax.set_xlabel('value', size=14)\n",
    "ax.set_ylabel('time in queue', size=14)\n",
    "ax.legend()\n",
    "plt.show()"
   ]
  },
  {
   "cell_type": "code",
   "execution_count": 380,
   "metadata": {},
   "outputs": [
    {
     "data": {
      "text/plain": [
       "0.5929368317450942"
      ]
     },
     "execution_count": 380,
     "metadata": {},
     "output_type": "execute_result"
    }
   ],
   "source": [
    "# MINSLACK-PRIO\n",
    "pending = []\n",
    "history = []\n",
    "results = []\n",
    "for curTime in range(10000):\n",
    "    # Expire oldest withdrawals\n",
    "    historyNew = [h for h in history if (curTime - h.procTime) < T_MAX]\n",
    "    history = historyNew\n",
    "\n",
    "    slacks = []\n",
    "    for c in constraints:\n",
    "        delta_i, t_i = c\n",
    "        relevant_history = [h for h in history if (curTime - h.procTime) < t_i]\n",
    "        slack_i = delta_i - len(relevant_history)\n",
    "        slacks.append(slack_i)\n",
    "    minSlack = min(slacks)\n",
    "    \n",
    "    # Process withdrawals\n",
    "    withdrawals = pending[:minSlack]\n",
    "    history.extend([Processed(value=p.value, procTime=curTime) for p in withdrawals])\n",
    "    pending = pending[minSlack:]\n",
    "    \n",
    "    newResults = [(w.value, curTime - w.reqTime) for w in withdrawals]\n",
    "    results.extend(newResults)\n",
    "\n",
    "    # Add new pendings\n",
    "    numWdraws = poisson.rvs(mu=1.6)\n",
    "    newValues = uniform.rvs(0, 1, size=numWdraws)\n",
    "    newPending = [Pending(value=vi, reqTime=curTime) for vi in newValues]\n",
    "    pending.extend(newPending)\n",
    "    \n",
    "    pending.sort(reverse=True, key=lambda x:x.value)\n",
    "\n",
    "    \n",
    "results = np.asarray(results)\n",
    "np.mean(results[:,0] * results[:,1])"
   ]
  },
  {
   "cell_type": "code",
   "execution_count": 381,
   "metadata": {},
   "outputs": [
    {
     "data": {
      "image/png": "[encoded data removed]",
      "text/plain": [
       "<Figure size 648x432 with 1 Axes>"
      ]
     },
     "metadata": {
      "needs_background": "light"
     },
     "output_type": "display_data"
    }
   ],
   "source": [
    "f, ax = plt.subplots(figsize=(9,6))\n",
    "\n",
    "df = pd.DataFrame({\"vs\" : results[:,0], \"times\": results[:,1]})\n",
    "bins = np.arange(0, 1.01, 0.01)\n",
    "df[\"buckets\"] = pd.cut(df.vs, bins)\n",
    "df[\"avgs\"] = df.groupby('buckets')['times'].transform('mean')\n",
    "reduced = df[['buckets', 'avgs']].drop_duplicates()\n",
    "\n",
    "ax.plot(results[:,0], results[:,1], \n",
    "        linestyle=\"none\", marker='.', color='salmon', alpha=0.5, label='all withdrawals')\n",
    "ax.plot([b.left for b in reduced['buckets'].values], reduced['avgs'],\n",
    "        linestyle=\"none\", marker='o', color='black', alpha=1, label='bucketized average')\n",
    "\n",
    "ax.set_xlabel('value', size=14)\n",
    "ax.set_ylabel('time in queue', size=14)\n",
    "ax.legend()\n",
    "plt.show()"
   ]
  },
  {
   "cell_type": "code",
   "execution_count": 382,
   "metadata": {},
   "outputs": [
    {
     "data": {
      "text/plain": [
       "0.7232519365672906"
      ]
     },
     "execution_count": 382,
     "metadata": {},
     "output_type": "execute_result"
    }
   ],
   "source": [
    "# MINSLACK-PROP\n",
    "pending = []\n",
    "history = []\n",
    "results = []\n",
    "alpha = 0.5\n",
    "for curTime in range(10000):\n",
    "    # Expire oldest withdrawals\n",
    "    historyNew = [h for h in history if (curTime - h.procTime) < T_MAX]\n",
    "    history = historyNew\n",
    "\n",
    "    slacks = []\n",
    "    for c in constraints:\n",
    "        delta_i, t_i = c\n",
    "        relevant_history = [h for h in history if (curTime - h.procTime) < t_i]\n",
    "        slack_i = delta_i - len(relevant_history)\n",
    "        slacks.append(slack_i)\n",
    "    minSlack = min(slacks)\n",
    "    \n",
    "    # PROP\n",
    "    minSlackProp = int(np.floor(minSlack * alpha))\n",
    "    # Process withdrawals\n",
    "    withdrawals = pending[:minSlackProp]\n",
    "    history.extend([Processed(value=p.value, procTime=curTime) for p in withdrawals])\n",
    "    pending = pending[minSlackProp:]\n",
    "    \n",
    "    newResults = [(w.value, curTime - w.reqTime) for w in withdrawals]\n",
    "    results.extend(newResults)\n",
    "\n",
    "    # Add new pendings\n",
    "    numWdraws = poisson.rvs(mu=1.6)\n",
    "    newValues = uniform.rvs(0, 1, size=numWdraws)\n",
    "    newPending = [Pending(value=vi, reqTime=curTime) for vi in newValues]\n",
    "    pending.extend(newPending)\n",
    "    \n",
    "    pending.sort(reverse=True, key=lambda x:x.value)\n",
    "\n",
    "    \n",
    "results = np.asarray(results)\n",
    "np.mean(results[:,0] * results[:,1])"
   ]
  },
  {
   "cell_type": "code",
   "execution_count": 383,
   "metadata": {},
   "outputs": [
    {
     "data": {
      "image/png": "[encoded data removed]",
      "text/plain": [
       "<Figure size 648x432 with 1 Axes>"
      ]
     },
     "metadata": {
      "needs_background": "light"
     },
     "output_type": "display_data"
    }
   ],
   "source": [
    "f, ax = plt.subplots(figsize=(9,6))\n",
    "\n",
    "df = pd.DataFrame({\"vs\" : results[:,0], \"times\": results[:,1]})\n",
    "bins = np.arange(0, 1.01, 0.01)\n",
    "df[\"buckets\"] = pd.cut(df.vs, bins)\n",
    "df[\"avgs\"] = df.groupby('buckets')['times'].transform('mean')\n",
    "reduced = df[['buckets', 'avgs']].drop_duplicates()\n",
    "\n",
    "ax.plot(results[:,0], results[:,1], \n",
    "        linestyle=\"none\", marker='.', color='salmon', alpha=0.5, label='all withdrawals')\n",
    "ax.plot([b.left for b in reduced['buckets'].values], reduced['avgs'],\n",
    "        linestyle=\"none\", marker='o', color='black', alpha=1, label='bucketized average')\n",
    "\n",
    "ax.set_xlabel('value', size=14)\n",
    "ax.set_ylabel('time in queue', size=14)\n",
    "ax.legend()\n",
    "plt.show()"
   ]
  },
  {
   "cell_type": "code",
   "execution_count": null,
   "metadata": {},
   "outputs": [],
   "source": []
  },
  {
   "cell_type": "code",
   "execution_count": null,
   "metadata": {},
   "outputs": [],
   "source": []
  },
  {
   "cell_type": "code",
   "execution_count": null,
   "metadata": {},
   "outputs": [],
   "source": []
  },
  {
   "cell_type": "code",
   "execution_count": 103,
   "metadata": {},
   "outputs": [
    {
     "name": "stdout",
     "output_type": "stream",
     "text": [
      "1\n",
      "2\n",
      "0\n",
      "1\n",
      "2\n",
      "0\n",
      "1\n",
      "2\n",
      "0\n",
      "1\n",
      "2\n",
      "0\n",
      "1\n",
      "2\n",
      "0\n",
      "1\n",
      "2\n"
     ]
    }
   ],
   "source": [
    "pending = [Pending(value=0, reqTime=2), Pending(value=1, reqTime=2)]\n",
    "history = [Processed(value=0, procTime=0),Processed(value=0, procTime=1),Processed(value=1, procTime=1)]\n",
    "\n",
    "for curTime in range(3,20):\n",
    "    # Expire oldest withdrawals\n",
    "    historyNew = [h for h in history if (curTime - h.procTime) < T_MAX]\n",
    "    history = historyNew\n",
    "\n",
    "    slacks = []\n",
    "    for c in constraints:\n",
    "        delta_i, t_i = c\n",
    "        relevant_history = [h for h in history if (curTime - h.procTime) < t_i]\n",
    "        slack_i = delta_i - len(relevant_history)\n",
    "        slacks.append(slack_i)\n",
    "    minSlack = min(slacks)\n",
    "    print(minSlack)\n",
    "\n",
    "    # Process withdrawals\n",
    "    withdrawals = pending[:minSlack]\n",
    "    history.extend([Processed(value=p.value, procTime=curTime) for p in withdrawals])\n",
    "    pending = pending[minSlack:]\n",
    "\n",
    "    # Add new pendings\n",
    "    numWdraws = 2\n",
    "    newValues = [i for i in range(numWdraws)]\n",
    "    newPending = [Pending(value=vi, reqTime=curTime) for vi in newValues]\n",
    "    pending.extend(newPending)"
   ]
  },
  {
   "cell_type": "code",
   "execution_count": null,
   "metadata": {},
   "outputs": [],
   "source": []
  },
  {
   "cell_type": "code",
   "execution_count": null,
   "metadata": {},
   "outputs": [],
   "source": []
  },
  {
   "cell_type": "code",
   "execution_count": null,
   "metadata": {},
   "outputs": [],
   "source": []
  },
  {
   "cell_type": "code",
   "execution_count": null,
   "metadata": {},
   "outputs": [],
   "source": []
  },
  {
   "cell_type": "code",
   "execution_count": null,
   "metadata": {},
   "outputs": [],
   "source": []
  },
  {
   "cell_type": "code",
   "execution_count": null,
   "metadata": {},
   "outputs": [],
   "source": []
  },
  {
   "cell_type": "code",
   "execution_count": 111,
   "metadata": {},
   "outputs": [
    {
     "name": "stdout",
     "output_type": "stream",
     "text": [
      "['proc: value=0, procTime=0', 'proc: value=0, procTime=1', 'proc: value=1, procTime=1']\n",
      "['proc: value=0, procTime=1', 'proc: value=1, procTime=1']\n",
      "1\n",
      "['p: value=0, reqTime=2']\n",
      "['proc: value=0, procTime=1', 'proc: value=1, procTime=1', 'proc: value=0, procTime=3']\n",
      "['p: value=1, reqTime=2']\n",
      "[(0, 1)]\n",
      "['p: value=1, reqTime=2', 'p: value=0, reqTime=3', 'p: value=1, reqTime=3']\n"
     ]
    }
   ],
   "source": [
    "pending = [Pending(value=0, reqTime=2), Pending(value=1, reqTime=2)]\n",
    "history = [Processed(value=0, procTime=0),Processed(value=0, procTime=1),Processed(value=1, procTime=1)]\n",
    "results = []\n",
    "curTime = 3\n",
    "\n",
    "# Expire oldest withdrawals\n",
    "historyNew = [h for h in history if (curTime - h.procTime) < T_MAX]\n",
    "\n",
    "print([str(h) for h in history])\n",
    "print([str(h) for h in historyNew])\n",
    "\n",
    "history = historyNew\n",
    "\n",
    "slacks = []\n",
    "for c in constraints:\n",
    "    delta_i, t_i = c\n",
    "    relevant_history = [h for h in history if (curTime - h.procTime) < t_i]\n",
    "    slack_i = delta_i - len(relevant_history)\n",
    "    slacks.append(slack_i)\n",
    "minSlack = min(slacks)\n",
    "print(minSlack)\n",
    "\n",
    "# Process withdrawals\n",
    "withdrawals = pending[:minSlack]\n",
    "history.extend([Processed(value=p.value, procTime=curTime) for p in withdrawals])\n",
    "\n",
    "print([str(w) for w in withdrawals])\n",
    "print([str(h) for h in history])\n",
    "\n",
    "pending = pending[minSlack:]\n",
    "print([str(p) for p in pending])\n",
    "\n",
    "newResults = [(w.value, curTime - w.reqTime) for w in withdrawals]\n",
    "results.extend(newResults)\n",
    "print(results)\n",
    "\n",
    "# Add new pendings\n",
    "numWdraws = 2\n",
    "newValues = [i for i in range(numWdraws)]\n",
    "newPending = [Pending(value=vi, reqTime=curTime) for vi in newValues]\n",
    "pending.extend(newPending)\n",
    "\n",
    "print([str(p) for p in pending])"
   ]
  },
  {
   "cell_type": "code",
   "execution_count": 112,
   "metadata": {},
   "outputs": [
    {
     "name": "stdout",
     "output_type": "stream",
     "text": [
      "['proc: value=0, procTime=1', 'proc: value=1, procTime=1', 'proc: value=0, procTime=3']\n",
      "['proc: value=0, procTime=3']\n",
      "2\n",
      "['p: value=1, reqTime=2', 'p: value=0, reqTime=3']\n",
      "['proc: value=0, procTime=3', 'proc: value=1, procTime=4', 'proc: value=0, procTime=4']\n",
      "['p: value=1, reqTime=3']\n",
      "[(0, 1), (1, 2), (0, 1)]\n",
      "['p: value=1, reqTime=3', 'p: value=0, reqTime=4', 'p: value=1, reqTime=4']\n"
     ]
    }
   ],
   "source": [
    "curTime = 4\n",
    "\n",
    "# Expire oldest withdrawals\n",
    "historyNew = [h for h in history if (curTime - h.procTime) < T_MAX]\n",
    "\n",
    "print([str(h) for h in history])\n",
    "print([str(h) for h in historyNew])\n",
    "\n",
    "history = historyNew\n",
    "\n",
    "slacks = []\n",
    "for c in constraints:\n",
    "    delta_i, t_i = c\n",
    "    relevant_history = [h for h in history if (curTime - h.procTime) < t_i]\n",
    "    slack_i = delta_i - len(relevant_history)\n",
    "    slacks.append(slack_i)\n",
    "minSlack = min(slacks)\n",
    "print(minSlack)\n",
    "\n",
    "# Process withdrawals\n",
    "withdrawals = pending[:minSlack]\n",
    "history.extend([Processed(value=p.value, procTime=curTime) for p in withdrawals])\n",
    "\n",
    "print([str(w) for w in withdrawals])\n",
    "print([str(h) for h in history])\n",
    "\n",
    "pending = pending[minSlack:]\n",
    "print([str(p) for p in pending])\n",
    "\n",
    "newResults = [(w.value, curTime - w.reqTime) for w in withdrawals]\n",
    "results.extend(newResults)\n",
    "print(results)\n",
    "\n",
    "# Add new pendings\n",
    "numWdraws = 2\n",
    "newValues = [i for i in range(numWdraws)]\n",
    "newPending = [Pending(value=vi, reqTime=curTime) for vi in newValues]\n",
    "pending.extend(newPending)\n",
    "\n",
    "print([str(p) for p in pending])"
   ]
  },
  {
   "cell_type": "code",
   "execution_count": 113,
   "metadata": {},
   "outputs": [
    {
     "name": "stdout",
     "output_type": "stream",
     "text": [
      "['proc: value=0, procTime=3', 'proc: value=1, procTime=4', 'proc: value=0, procTime=4']\n",
      "['proc: value=0, procTime=3', 'proc: value=1, procTime=4', 'proc: value=0, procTime=4']\n",
      "0\n",
      "[]\n",
      "['proc: value=0, procTime=3', 'proc: value=1, procTime=4', 'proc: value=0, procTime=4']\n",
      "['p: value=1, reqTime=3', 'p: value=0, reqTime=4', 'p: value=1, reqTime=4']\n",
      "[(0, 1), (1, 2), (0, 1)]\n",
      "['p: value=1, reqTime=3', 'p: value=0, reqTime=4', 'p: value=1, reqTime=4', 'p: value=0, reqTime=5', 'p: value=1, reqTime=5']\n"
     ]
    }
   ],
   "source": [
    "curTime = 5\n",
    "\n",
    "# Expire oldest withdrawals\n",
    "historyNew = [h for h in history if (curTime - h.procTime) < T_MAX]\n",
    "\n",
    "print([str(h) for h in history])\n",
    "print([str(h) for h in historyNew])\n",
    "\n",
    "history = historyNew\n",
    "\n",
    "slacks = []\n",
    "for c in constraints:\n",
    "    delta_i, t_i = c\n",
    "    relevant_history = [h for h in history if (curTime - h.procTime) < t_i]\n",
    "    slack_i = delta_i - len(relevant_history)\n",
    "    slacks.append(slack_i)\n",
    "minSlack = min(slacks)\n",
    "print(minSlack)\n",
    "\n",
    "# Process withdrawals\n",
    "withdrawals = pending[:minSlack]\n",
    "history.extend([Processed(value=p.value, procTime=curTime) for p in withdrawals])\n",
    "\n",
    "print([str(w) for w in withdrawals])\n",
    "print([str(h) for h in history])\n",
    "\n",
    "pending = pending[minSlack:]\n",
    "print([str(p) for p in pending])\n",
    "\n",
    "newResults = [(w.value, curTime - w.reqTime) for w in withdrawals]\n",
    "results.extend(newResults)\n",
    "print(results)\n",
    "\n",
    "# Add new pendings\n",
    "numWdraws = 2\n",
    "newValues = [i for i in range(numWdraws)]\n",
    "newPending = [Pending(value=vi, reqTime=curTime) for vi in newValues]\n",
    "pending.extend(newPending)\n",
    "\n",
    "print([str(p) for p in pending])"
   ]
  },
  {
   "cell_type": "code",
   "execution_count": 114,
   "metadata": {},
   "outputs": [
    {
     "name": "stdout",
     "output_type": "stream",
     "text": [
      "['proc: value=0, procTime=3', 'proc: value=1, procTime=4', 'proc: value=0, procTime=4']\n",
      "['proc: value=1, procTime=4', 'proc: value=0, procTime=4']\n",
      "1\n",
      "['p: value=1, reqTime=3']\n",
      "['proc: value=1, procTime=4', 'proc: value=0, procTime=4', 'proc: value=1, procTime=6']\n",
      "['p: value=0, reqTime=4', 'p: value=1, reqTime=4', 'p: value=0, reqTime=5', 'p: value=1, reqTime=5']\n",
      "[(0, 1), (1, 2), (0, 1), (1, 3)]\n",
      "['p: value=0, reqTime=4', 'p: value=1, reqTime=4', 'p: value=0, reqTime=5', 'p: value=1, reqTime=5', 'p: value=0, reqTime=6', 'p: value=1, reqTime=6']\n"
     ]
    }
   ],
   "source": [
    "curTime = 6\n",
    "\n",
    "# Expire oldest withdrawals\n",
    "historyNew = [h for h in history if (curTime - h.procTime) < T_MAX]\n",
    "\n",
    "print([str(h) for h in history])\n",
    "print([str(h) for h in historyNew])\n",
    "\n",
    "history = historyNew\n",
    "\n",
    "slacks = []\n",
    "for c in constraints:\n",
    "    delta_i, t_i = c\n",
    "    relevant_history = [h for h in history if (curTime - h.procTime) < t_i]\n",
    "    slack_i = delta_i - len(relevant_history)\n",
    "    slacks.append(slack_i)\n",
    "minSlack = min(slacks)\n",
    "print(minSlack)\n",
    "\n",
    "# Process withdrawals\n",
    "withdrawals = pending[:minSlack]\n",
    "history.extend([Processed(value=p.value, procTime=curTime) for p in withdrawals])\n",
    "\n",
    "print([str(w) for w in withdrawals])\n",
    "print([str(h) for h in history])\n",
    "\n",
    "pending = pending[minSlack:]\n",
    "print([str(p) for p in pending])\n",
    "\n",
    "newResults = [(w.value, curTime - w.reqTime) for w in withdrawals]\n",
    "results.extend(newResults)\n",
    "print(results)\n",
    "\n",
    "# Add new pendings\n",
    "numWdraws = 2\n",
    "newValues = [i for i in range(numWdraws)]\n",
    "newPending = [Pending(value=vi, reqTime=curTime) for vi in newValues]\n",
    "pending.extend(newPending)\n",
    "\n",
    "print([str(p) for p in pending])"
   ]
  },
  {
   "cell_type": "code",
   "execution_count": 115,
   "metadata": {},
   "outputs": [
    {
     "name": "stdout",
     "output_type": "stream",
     "text": [
      "['proc: value=1, procTime=4', 'proc: value=0, procTime=4', 'proc: value=1, procTime=6']\n",
      "['proc: value=1, procTime=6']\n",
      "2\n",
      "['p: value=0, reqTime=4', 'p: value=1, reqTime=4']\n",
      "['proc: value=1, procTime=6', 'proc: value=0, procTime=7', 'proc: value=1, procTime=7']\n",
      "['p: value=0, reqTime=5', 'p: value=1, reqTime=5', 'p: value=0, reqTime=6', 'p: value=1, reqTime=6']\n",
      "[(0, 1), (1, 2), (0, 1), (1, 3), (0, 3), (1, 3)]\n",
      "['p: value=0, reqTime=5', 'p: value=1, reqTime=5', 'p: value=0, reqTime=6', 'p: value=1, reqTime=6', 'p: value=0, reqTime=7', 'p: value=1, reqTime=7']\n"
     ]
    }
   ],
   "source": [
    "curTime = 7\n",
    "\n",
    "# Expire oldest withdrawals\n",
    "historyNew = [h for h in history if (curTime - h.procTime) < T_MAX]\n",
    "\n",
    "print([str(h) for h in history])\n",
    "print([str(h) for h in historyNew])\n",
    "\n",
    "history = historyNew\n",
    "\n",
    "slacks = []\n",
    "for c in constraints:\n",
    "    delta_i, t_i = c\n",
    "    relevant_history = [h for h in history if (curTime - h.procTime) < t_i]\n",
    "    slack_i = delta_i - len(relevant_history)\n",
    "    slacks.append(slack_i)\n",
    "minSlack = min(slacks)\n",
    "print(minSlack)\n",
    "\n",
    "# Process withdrawals\n",
    "withdrawals = pending[:minSlack]\n",
    "history.extend([Processed(value=p.value, procTime=curTime) for p in withdrawals])\n",
    "\n",
    "print([str(w) for w in withdrawals])\n",
    "print([str(h) for h in history])\n",
    "\n",
    "pending = pending[minSlack:]\n",
    "print([str(p) for p in pending])\n",
    "\n",
    "newResults = [(w.value, curTime - w.reqTime) for w in withdrawals]\n",
    "results.extend(newResults)\n",
    "print(results)\n",
    "\n",
    "# Add new pendings\n",
    "numWdraws = 2\n",
    "newValues = [i for i in range(numWdraws)]\n",
    "newPending = [Pending(value=vi, reqTime=curTime) for vi in newValues]\n",
    "pending.extend(newPending)\n",
    "\n",
    "print([str(p) for p in pending])"
   ]
  },
  {
   "cell_type": "code",
   "execution_count": 116,
   "metadata": {},
   "outputs": [
    {
     "name": "stdout",
     "output_type": "stream",
     "text": [
      "['proc: value=1, procTime=6', 'proc: value=0, procTime=7', 'proc: value=1, procTime=7']\n",
      "['proc: value=1, procTime=6', 'proc: value=0, procTime=7', 'proc: value=1, procTime=7']\n",
      "0\n",
      "[]\n",
      "['proc: value=1, procTime=6', 'proc: value=0, procTime=7', 'proc: value=1, procTime=7']\n",
      "['p: value=0, reqTime=5', 'p: value=1, reqTime=5', 'p: value=0, reqTime=6', 'p: value=1, reqTime=6', 'p: value=0, reqTime=7', 'p: value=1, reqTime=7']\n",
      "[(0, 1), (1, 2), (0, 1), (1, 3), (0, 3), (1, 3)]\n",
      "['p: value=0, reqTime=5', 'p: value=1, reqTime=5', 'p: value=0, reqTime=6', 'p: value=1, reqTime=6', 'p: value=0, reqTime=7', 'p: value=1, reqTime=7', 'p: value=0, reqTime=8', 'p: value=1, reqTime=8']\n"
     ]
    }
   ],
   "source": [
    "curTime = 8\n",
    "\n",
    "# Expire oldest withdrawals\n",
    "historyNew = [h for h in history if (curTime - h.procTime) < T_MAX]\n",
    "\n",
    "print([str(h) for h in history])\n",
    "print([str(h) for h in historyNew])\n",
    "\n",
    "history = historyNew\n",
    "\n",
    "slacks = []\n",
    "for c in constraints:\n",
    "    delta_i, t_i = c\n",
    "    relevant_history = [h for h in history if (curTime - h.procTime) < t_i]\n",
    "    slack_i = delta_i - len(relevant_history)\n",
    "    slacks.append(slack_i)\n",
    "minSlack = min(slacks)\n",
    "print(minSlack)\n",
    "\n",
    "# Process withdrawals\n",
    "withdrawals = pending[:minSlack]\n",
    "history.extend([Processed(value=p.value, procTime=curTime) for p in withdrawals])\n",
    "\n",
    "print([str(w) for w in withdrawals])\n",
    "print([str(h) for h in history])\n",
    "\n",
    "pending = pending[minSlack:]\n",
    "print([str(p) for p in pending])\n",
    "\n",
    "newResults = [(w.value, curTime - w.reqTime) for w in withdrawals]\n",
    "results.extend(newResults)\n",
    "print(results)\n",
    "\n",
    "# Add new pendings\n",
    "numWdraws = 2\n",
    "newValues = [i for i in range(numWdraws)]\n",
    "newPending = [Pending(value=vi, reqTime=curTime) for vi in newValues]\n",
    "pending.extend(newPending)\n",
    "\n",
    "print([str(p) for p in pending])"
   ]
  },
  {
   "cell_type": "code",
   "execution_count": 117,
   "metadata": {},
   "outputs": [
    {
     "name": "stdout",
     "output_type": "stream",
     "text": [
      "['proc: value=1, procTime=6', 'proc: value=0, procTime=7', 'proc: value=1, procTime=7']\n",
      "['proc: value=0, procTime=7', 'proc: value=1, procTime=7']\n",
      "1\n",
      "['p: value=0, reqTime=5']\n",
      "['proc: value=0, procTime=7', 'proc: value=1, procTime=7', 'proc: value=0, procTime=9']\n",
      "['p: value=1, reqTime=5', 'p: value=0, reqTime=6', 'p: value=1, reqTime=6', 'p: value=0, reqTime=7', 'p: value=1, reqTime=7', 'p: value=0, reqTime=8', 'p: value=1, reqTime=8']\n",
      "[(0, 1), (1, 2), (0, 1), (1, 3), (0, 3), (1, 3), (0, 4)]\n",
      "['p: value=1, reqTime=5', 'p: value=0, reqTime=6', 'p: value=1, reqTime=6', 'p: value=0, reqTime=7', 'p: value=1, reqTime=7', 'p: value=0, reqTime=8', 'p: value=1, reqTime=8', 'p: value=0, reqTime=9', 'p: value=1, reqTime=9']\n"
     ]
    }
   ],
   "source": [
    "curTime = 9\n",
    "\n",
    "# Expire oldest withdrawals\n",
    "historyNew = [h for h in history if (curTime - h.procTime) < T_MAX]\n",
    "\n",
    "print([str(h) for h in history])\n",
    "print([str(h) for h in historyNew])\n",
    "\n",
    "history = historyNew\n",
    "\n",
    "slacks = []\n",
    "for c in constraints:\n",
    "    delta_i, t_i = c\n",
    "    relevant_history = [h for h in history if (curTime - h.procTime) < t_i]\n",
    "    slack_i = delta_i - len(relevant_history)\n",
    "    slacks.append(slack_i)\n",
    "minSlack = min(slacks)\n",
    "print(minSlack)\n",
    "\n",
    "# Process withdrawals\n",
    "withdrawals = pending[:minSlack]\n",
    "history.extend([Processed(value=p.value, procTime=curTime) for p in withdrawals])\n",
    "\n",
    "print([str(w) for w in withdrawals])\n",
    "print([str(h) for h in history])\n",
    "\n",
    "pending = pending[minSlack:]\n",
    "print([str(p) for p in pending])\n",
    "\n",
    "newResults = [(w.value, curTime - w.reqTime) for w in withdrawals]\n",
    "results.extend(newResults)\n",
    "print(results)\n",
    "\n",
    "# Add new pendings\n",
    "numWdraws = 2\n",
    "newValues = [i for i in range(numWdraws)]\n",
    "newPending = [Pending(value=vi, reqTime=curTime) for vi in newValues]\n",
    "pending.extend(newPending)\n",
    "\n",
    "print([str(p) for p in pending])"
   ]
  },
  {
   "cell_type": "code",
   "execution_count": 118,
   "metadata": {},
   "outputs": [
    {
     "name": "stdout",
     "output_type": "stream",
     "text": [
      "['proc: value=0, procTime=7', 'proc: value=1, procTime=7', 'proc: value=0, procTime=9']\n",
      "['proc: value=0, procTime=9']\n",
      "2\n",
      "['p: value=1, reqTime=5', 'p: value=0, reqTime=6']\n",
      "['proc: value=0, procTime=9', 'proc: value=1, procTime=10', 'proc: value=0, procTime=10']\n",
      "['p: value=1, reqTime=6', 'p: value=0, reqTime=7', 'p: value=1, reqTime=7', 'p: value=0, reqTime=8', 'p: value=1, reqTime=8', 'p: value=0, reqTime=9', 'p: value=1, reqTime=9']\n",
      "[(0, 1), (1, 2), (0, 1), (1, 3), (0, 3), (1, 3), (0, 4), (1, 5), (0, 4)]\n",
      "['p: value=1, reqTime=6', 'p: value=0, reqTime=7', 'p: value=1, reqTime=7', 'p: value=0, reqTime=8', 'p: value=1, reqTime=8', 'p: value=0, reqTime=9', 'p: value=1, reqTime=9', 'p: value=0, reqTime=10', 'p: value=1, reqTime=10']\n"
     ]
    }
   ],
   "source": [
    "curTime = 10\n",
    "\n",
    "# Expire oldest withdrawals\n",
    "historyNew = [h for h in history if (curTime - h.procTime) < T_MAX]\n",
    "\n",
    "print([str(h) for h in history])\n",
    "print([str(h) for h in historyNew])\n",
    "\n",
    "history = historyNew\n",
    "\n",
    "slacks = []\n",
    "for c in constraints:\n",
    "    delta_i, t_i = c\n",
    "    relevant_history = [h for h in history if (curTime - h.procTime) < t_i]\n",
    "    slack_i = delta_i - len(relevant_history)\n",
    "    slacks.append(slack_i)\n",
    "minSlack = min(slacks)\n",
    "print(minSlack)\n",
    "\n",
    "# Process withdrawals\n",
    "withdrawals = pending[:minSlack]\n",
    "history.extend([Processed(value=p.value, procTime=curTime) for p in withdrawals])\n",
    "\n",
    "print([str(w) for w in withdrawals])\n",
    "print([str(h) for h in history])\n",
    "\n",
    "pending = pending[minSlack:]\n",
    "print([str(p) for p in pending])\n",
    "\n",
    "newResults = [(w.value, curTime - w.reqTime) for w in withdrawals]\n",
    "results.extend(newResults)\n",
    "print(results)\n",
    "\n",
    "# Add new pendings\n",
    "numWdraws = 2\n",
    "newValues = [i for i in range(numWdraws)]\n",
    "newPending = [Pending(value=vi, reqTime=curTime) for vi in newValues]\n",
    "pending.extend(newPending)\n",
    "\n",
    "print([str(p) for p in pending])"
   ]
  },
  {
   "cell_type": "code",
   "execution_count": 119,
   "metadata": {},
   "outputs": [
    {
     "name": "stdout",
     "output_type": "stream",
     "text": [
      "['proc: value=0, procTime=9', 'proc: value=1, procTime=10', 'proc: value=0, procTime=10']\n",
      "['proc: value=0, procTime=9', 'proc: value=1, procTime=10', 'proc: value=0, procTime=10']\n",
      "0\n",
      "[]\n",
      "['proc: value=0, procTime=9', 'proc: value=1, procTime=10', 'proc: value=0, procTime=10']\n",
      "['p: value=1, reqTime=6', 'p: value=0, reqTime=7', 'p: value=1, reqTime=7', 'p: value=0, reqTime=8', 'p: value=1, reqTime=8', 'p: value=0, reqTime=9', 'p: value=1, reqTime=9', 'p: value=0, reqTime=10', 'p: value=1, reqTime=10']\n",
      "[(0, 1), (1, 2), (0, 1), (1, 3), (0, 3), (1, 3), (0, 4), (1, 5), (0, 4)]\n",
      "['p: value=1, reqTime=6', 'p: value=0, reqTime=7', 'p: value=1, reqTime=7', 'p: value=0, reqTime=8', 'p: value=1, reqTime=8', 'p: value=0, reqTime=9', 'p: value=1, reqTime=9', 'p: value=0, reqTime=10', 'p: value=1, reqTime=10', 'p: value=0, reqTime=11', 'p: value=1, reqTime=11']\n"
     ]
    }
   ],
   "source": [
    "curTime = 11\n",
    "\n",
    "# Expire oldest withdrawals\n",
    "historyNew = [h for h in history if (curTime - h.procTime) < T_MAX]\n",
    "\n",
    "print([str(h) for h in history])\n",
    "print([str(h) for h in historyNew])\n",
    "\n",
    "history = historyNew\n",
    "\n",
    "slacks = []\n",
    "for c in constraints:\n",
    "    delta_i, t_i = c\n",
    "    relevant_history = [h for h in history if (curTime - h.procTime) < t_i]\n",
    "    slack_i = delta_i - len(relevant_history)\n",
    "    slacks.append(slack_i)\n",
    "minSlack = min(slacks)\n",
    "print(minSlack)\n",
    "\n",
    "# Process withdrawals\n",
    "withdrawals = pending[:minSlack]\n",
    "history.extend([Processed(value=p.value, procTime=curTime) for p in withdrawals])\n",
    "\n",
    "print([str(w) for w in withdrawals])\n",
    "print([str(h) for h in history])\n",
    "\n",
    "pending = pending[minSlack:]\n",
    "print([str(p) for p in pending])\n",
    "\n",
    "newResults = [(w.value, curTime - w.reqTime) for w in withdrawals]\n",
    "results.extend(newResults)\n",
    "print(results)\n",
    "\n",
    "# Add new pendings\n",
    "numWdraws = 2\n",
    "newValues = [i for i in range(numWdraws)]\n",
    "newPending = [Pending(value=vi, reqTime=curTime) for vi in newValues]\n",
    "pending.extend(newPending)\n",
    "\n",
    "print([str(p) for p in pending])"
   ]
  },
  {
   "cell_type": "code",
   "execution_count": 120,
   "metadata": {},
   "outputs": [
    {
     "name": "stdout",
     "output_type": "stream",
     "text": [
      "['proc: value=0, procTime=9', 'proc: value=1, procTime=10', 'proc: value=0, procTime=10']\n",
      "['proc: value=1, procTime=10', 'proc: value=0, procTime=10']\n",
      "1\n",
      "['p: value=1, reqTime=6']\n",
      "['proc: value=1, procTime=10', 'proc: value=0, procTime=10', 'proc: value=1, procTime=12']\n",
      "['p: value=0, reqTime=7', 'p: value=1, reqTime=7', 'p: value=0, reqTime=8', 'p: value=1, reqTime=8', 'p: value=0, reqTime=9', 'p: value=1, reqTime=9', 'p: value=0, reqTime=10', 'p: value=1, reqTime=10', 'p: value=0, reqTime=11', 'p: value=1, reqTime=11']\n",
      "[(0, 1), (1, 2), (0, 1), (1, 3), (0, 3), (1, 3), (0, 4), (1, 5), (0, 4), (1, 6)]\n",
      "['p: value=0, reqTime=7', 'p: value=1, reqTime=7', 'p: value=0, reqTime=8', 'p: value=1, reqTime=8', 'p: value=0, reqTime=9', 'p: value=1, reqTime=9', 'p: value=0, reqTime=10', 'p: value=1, reqTime=10', 'p: value=0, reqTime=11', 'p: value=1, reqTime=11', 'p: value=0, reqTime=12', 'p: value=1, reqTime=12']\n"
     ]
    }
   ],
   "source": [
    "curTime = 12\n",
    "\n",
    "# Expire oldest withdrawals\n",
    "historyNew = [h for h in history if (curTime - h.procTime) < T_MAX]\n",
    "\n",
    "print([str(h) for h in history])\n",
    "print([str(h) for h in historyNew])\n",
    "\n",
    "history = historyNew\n",
    "\n",
    "slacks = []\n",
    "for c in constraints:\n",
    "    delta_i, t_i = c\n",
    "    relevant_history = [h for h in history if (curTime - h.procTime) < t_i]\n",
    "    slack_i = delta_i - len(relevant_history)\n",
    "    slacks.append(slack_i)\n",
    "minSlack = min(slacks)\n",
    "print(minSlack)\n",
    "\n",
    "# Process withdrawals\n",
    "withdrawals = pending[:minSlack]\n",
    "history.extend([Processed(value=p.value, procTime=curTime) for p in withdrawals])\n",
    "\n",
    "print([str(w) for w in withdrawals])\n",
    "print([str(h) for h in history])\n",
    "\n",
    "pending = pending[minSlack:]\n",
    "print([str(p) for p in pending])\n",
    "\n",
    "newResults = [(w.value, curTime - w.reqTime) for w in withdrawals]\n",
    "results.extend(newResults)\n",
    "print(results)\n",
    "\n",
    "# Add new pendings\n",
    "numWdraws = 2\n",
    "newValues = [i for i in range(numWdraws)]\n",
    "newPending = [Pending(value=vi, reqTime=curTime) for vi in newValues]\n",
    "pending.extend(newPending)\n",
    "\n",
    "print([str(p) for p in pending])"
   ]
  }
 ],
 "metadata": {
  "kernelspec": {
   "display_name": "Python 3",
   "language": "python",
   "name": "python3"
  },
  "language_info": {
   "codemirror_mode": {
    "name": "ipython",
    "version": 3
   },
   "file_extension": ".py",
   "mimetype": "text/x-python",
   "name": "python",
   "nbconvert_exporter": "python",
   "pygments_lexer": "ipython3",
   "version": "3.8.16"
  }
 },
 "nbformat": 4,
 "nbformat_minor": 4
}
