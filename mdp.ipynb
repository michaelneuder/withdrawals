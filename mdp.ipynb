{
 "cells": [
  {
   "cell_type": "code",
   "execution_count": 313,
   "metadata": {},
   "outputs": [],
   "source": [
    "import matplotlib.pyplot as plt\n",
    "import matplotlib.patches as mpatches\n",
    "import numpy as np\n",
    "import pandas as pd\n",
    "from scipy.stats import poisson, uniform, expon, pareto\n",
    "from tqdm import tqdm\n",
    "from mdptoolbox import mdp, util\n",
    "import itertools\n",
    "from scipy.sparse import csr_matrix, lil_matrix\n",
    "import math"
   ]
  },
  {
   "cell_type": "code",
   "execution_count": 989,
   "metadata": {},
   "outputs": [],
   "source": [
    "# TRANSITIONS (Actions,States,States)\n",
    "# REWARDS     (Actions,States,States)"
   ]
  },
  {
   "cell_type": "markdown",
   "metadata": {},
   "source": [
    "Histories: $\\mathcal{H} = [h_{-1}, h_{-2}, h_{-3}, h_{-4}]$. For the $(5,5)$ constraint, we only need to see that last four epoch's worth of withdrawals."
   ]
  },
  {
   "cell_type": "code",
   "execution_count": 145,
   "metadata": {},
   "outputs": [
    {
     "data": {
      "text/plain": [
       "(array([5, 0, 0, 0]), 126)"
      ]
     },
     "execution_count": 145,
     "metadata": {},
     "output_type": "execute_result"
    }
   ],
   "source": [
    "# construct possible histories\n",
    "all_combinations = itertools.product(range(6), repeat=4)\n",
    "histories = np.asarray([combination for combination in all_combinations if sum(combination) <= 5])\n",
    "histories[-1], len(histories)"
   ]
  },
  {
   "cell_type": "markdown",
   "metadata": {},
   "source": [
    "Pendings: $\\mathcal{P} = [p_{1}, p_{10}]$. We only track the number of each value of withdrawals, where at most there are 20 pending at a time."
   ]
  },
  {
   "cell_type": "code",
   "execution_count": 146,
   "metadata": {
    "scrolled": true
   },
   "outputs": [
    {
     "data": {
      "text/plain": [
       "(array([10, 10]), 121)"
      ]
     },
     "execution_count": 146,
     "metadata": {},
     "output_type": "execute_result"
    }
   ],
   "source": [
    "# construct pendings\n",
    "all_combinations = itertools.product(range(11), repeat=2)\n",
    "pendings = np.asarray([combination for combination in all_combinations if sum(combination) <= 20])\n",
    "pendings[-1], len(pendings)"
   ]
  },
  {
   "cell_type": "code",
   "execution_count": 902,
   "metadata": {},
   "outputs": [
    {
     "data": {
      "text/plain": [
       "(126, 121)"
      ]
     },
     "execution_count": 902,
     "metadata": {},
     "output_type": "execute_result"
    }
   ],
   "source": [
    "len(histories), len(pendings)"
   ]
  },
  {
   "cell_type": "code",
   "execution_count": 904,
   "metadata": {},
   "outputs": [
    {
     "data": {
      "text/plain": [
       "15246"
      ]
     },
     "execution_count": 904,
     "metadata": {},
     "output_type": "execute_result"
    }
   ],
   "source": [
    "# num states\n",
    "len(pendings) * len(histories)"
   ]
  },
  {
   "cell_type": "code",
   "execution_count": 157,
   "metadata": {},
   "outputs": [],
   "source": [
    "def tostr(arr):\n",
    "    return ','.join(str(x) for x in arr)"
   ]
  },
  {
   "cell_type": "markdown",
   "metadata": {},
   "source": [
    "Full state $\\mathcal{S} = [\\mathcal{P}, \\mathcal{H}] = [p_{1}, p_{10}, h_{-1}, h_{-2}, h_{-3}, h_{-4}]$"
   ]
  },
  {
   "cell_type": "code",
   "execution_count": 434,
   "metadata": {},
   "outputs": [
    {
     "name": "stderr",
     "output_type": "stream",
     "text": [
      "100%|██████████| 121/121 [00:00<00:00, 746.25it/s]\n"
     ]
    },
    {
     "data": {
      "text/plain": [
       "(15246, 15246)"
      ]
     },
     "execution_count": 434,
     "metadata": {},
     "output_type": "execute_result"
    }
   ],
   "source": [
    "states = []\n",
    "stateInds = {}\n",
    "ind = 0\n",
    "for i in tqdm(range(len(pendings))):\n",
    "    for j in range(len(histories)):\n",
    "        p, h = pendings[i], histories[j]\n",
    "        full = np.concatenate((p,h))\n",
    "        states.append(full)\n",
    "        strrep = tostr(full)\n",
    "        stateInds[strrep] = ind\n",
    "        ind += 1\n",
    "states = np.asarray(states)\n",
    "len(stateInds), len(states)"
   ]
  },
  {
   "cell_type": "code",
   "execution_count": 360,
   "metadata": {},
   "outputs": [
    {
     "data": {
      "text/plain": [
       "1394643096"
      ]
     },
     "execution_count": 360,
     "metadata": {},
     "output_type": "execute_result"
    }
   ],
   "source": [
    "# 6 actions -> total num of elements = 1.4bn, need to use sparsity\n",
    "6*15246*15246"
   ]
  },
  {
   "cell_type": "code",
   "execution_count": 905,
   "metadata": {},
   "outputs": [],
   "source": [
    "# reward for a state is the negative of the sum of the values.\n",
    "def getReward(state):\n",
    "    p1, p10 = state[0], state[1]\n",
    "    return - (p1 + p10*10)"
   ]
  },
  {
   "cell_type": "code",
   "execution_count": 906,
   "metadata": {},
   "outputs": [
    {
     "data": {
      "text/plain": [
       "(array([8, 8, 0, 5, 0, 0]), -88)"
      ]
     },
     "execution_count": 906,
     "metadata": {},
     "output_type": "execute_result"
    }
   ],
   "source": [
    "states[12151], getReward(states[12151]) # reward is negative of new state"
   ]
  },
  {
   "cell_type": "markdown",
   "metadata": {},
   "source": [
    "Distribution for arrivals $X \\sim [0, 1, 5] \\; w.p. \\; [0.5, 0.4, 0.1]$. \n",
    "\n",
    "Distribution of values $Y \\sim [1, 10] \\; w.p. \\;  [0.9, 0.1]$."
   ]
  },
  {
   "cell_type": "code",
   "execution_count": 908,
   "metadata": {},
   "outputs": [
    {
     "data": {
      "text/plain": [
       "([0.5,\n",
       "  0.36000000000000004,\n",
       "  0.04000000000000001,\n",
       "  0.05904900000000001,\n",
       "  0.032805,\n",
       "  0.007290000000000002,\n",
       "  0.0008100000000000004,\n",
       "  4.500000000000001e-05,\n",
       "  1.0000000000000004e-06],\n",
       " 1.0)"
      ]
     },
     "execution_count": 908,
     "metadata": {},
     "output_type": "execute_result"
    }
   ],
   "source": [
    "# all the values and probabilities for potential new pendings\n",
    "numProbs = {0:0.5, 1:0.4, 5:0.1}\n",
    "newPendings = [\n",
    "    (0,0),\n",
    "    (1,0),(0,1),\n",
    "    (5,0),(4,1),(3,2),(2,3),(1,4),(0,5)]\n",
    "newPendingProbs = [\n",
    "    (0.9**ones)*(0.1**tens)*math.comb(ones+tens,ones)*numProbs[ones+tens]\n",
    "    for (ones,tens) in newPendings]\n",
    "newPendingProbs, sum(newPendingProbs)"
   ]
  },
  {
   "cell_type": "markdown",
   "metadata": {},
   "source": [
    "demo transtitions from initial state\n",
    "\n",
    "```\n",
    "0 [0 0 0 0 0 0] [0 0 0 0 0 0] 0.5 0 0\n",
    "1 [0 0 0 0 0 0] [1 0 0 0 0 0] 0.36000000000000004 1386 -1\n",
    "2 [0 0 0 0 0 0] [0 1 0 0 0 0] 0.04000000000000001 126 -10\n",
    "3 [0 0 0 0 0 0] [5 0 0 0 0 0] 0.05904900000000001 6930 -5\n",
    "4 [0 0 0 0 0 0] [4 1 0 0 0 0] 0.032805 5670 -14\n",
    "5 [0 0 0 0 0 0] [3 2 0 0 0 0] 0.007290000000000002 4410 -23\n",
    "6 [0 0 0 0 0 0] [2 3 0 0 0 0] 0.0008100000000000004 3150 -32\n",
    "7 [0 0 0 0 0 0] [1 4 0 0 0 0] 4.500000000000001e-05 1890 -41\n",
    "8 [0 0 0 0 0 0] [0 5 0 0 0 0] 1.0000000000000004e-06 630 -50\n",
    "```"
   ]
  },
  {
   "cell_type": "code",
   "execution_count": 959,
   "metadata": {},
   "outputs": [
    {
     "data": {
      "text/plain": [
       "(15246, 15246)"
      ]
     },
     "execution_count": 959,
     "metadata": {},
     "output_type": "execute_result"
    }
   ],
   "source": [
    "transitions = [lil_matrix((15246,15246), dtype=float) for _ in range(6)]\n",
    "rewards = [lil_matrix((15246,15246), dtype=float) for _ in range(6)]\n",
    "transitions[0].shape"
   ]
  },
  {
   "cell_type": "code",
   "execution_count": 990,
   "metadata": {},
   "outputs": [
    {
     "name": "stderr",
     "output_type": "stream",
     "text": [
      "0it [00:00, ?it/s]/usr/local/lib/python3.8/site-packages/scipy/sparse/_index.py:82: SparseEfficiencyWarning: Changing the sparsity structure of a csr_matrix is expensive. lil_matrix is more efficient.\n",
      "  self._set_intXint(row, col, x.flat[0])\n",
      "15246it [00:34, 436.80it/s]\n"
     ]
    }
   ],
   "source": [
    "# action = 0, do nothing, reward from newstate\n",
    "for curInd, state in tqdm(enumerate(states)):\n",
    "    for i, (ones, tens) in enumerate(newPendings):\n",
    "        newState = np.copy(state)\n",
    "        newState[0] += ones\n",
    "        newState[1] += tens\n",
    "        prob = newPendingProbs[i]\n",
    "        \n",
    "        # shift history\n",
    "            interState[3:6] = interState[2:5]\n",
    "            interState[2] = a\n",
    "        try:\n",
    "            newInd = stateInds[tostr(newState)]\n",
    "        except KeyError: # not a valid new state, leave state alone\n",
    "            newInd = curInd\n",
    "        transitions[0][curInd, newInd] += prob\n",
    "        # rewards[0][curInd, newInd] = getReward(states[newInd])\n",
    "        rewards[0][curInd, newInd] = getReward(states[curInd])"
   ]
  },
  {
   "cell_type": "code",
   "execution_count": 961,
   "metadata": {},
   "outputs": [
    {
     "name": "stderr",
     "output_type": "stream",
     "text": [
      "15246it [00:02, 6142.59it/s]\n",
      "15246it [00:01, 11867.34it/s]\n",
      "15246it [00:00, 21601.60it/s]\n",
      "15246it [00:00, 35237.88it/s]\n",
      "15246it [00:00, 46669.80it/s]\n"
     ]
    }
   ],
   "source": [
    "# action = a, pop a (if possible), reward from newstate\n",
    "for a in range(1,6):\n",
    "    for curInd, state in tqdm(enumerate(states)):\n",
    "        interState = np.copy(state)\n",
    "        if sum(interState[2:]) + a > 5: # illegal action: violation of constraint\n",
    "            transitions[a][curInd, curInd] += 1 # stay \n",
    "            rewards[a][curInd, curInd] = -10000 # big penalty\n",
    "        elif sum(interState[:2]) < a:   # illegal action: not enough to process\n",
    "            transitions[a][curInd, curInd] += 1 # stay\n",
    "            rewards[a][curInd, curInd] = -10000 # big penalty\n",
    "        else: # legal action: process\n",
    "            p1, p10 = interState[0], interState[1]\n",
    "            remTens = a - p10\n",
    "            if remTens <= 0:  # only 10s consumed\n",
    "                p10 -= a\n",
    "            else:             # use the remainder to process 1s\n",
    "                p10 = 0\n",
    "                p1 -= remTens\n",
    "            interState[0] = p1\n",
    "            interState[1] = p10\n",
    "\n",
    "            # shift history\n",
    "            interState[3:6] = interState[2:5]\n",
    "            interState[2] = a\n",
    "\n",
    "            # new pendings\n",
    "            for i, (ones, tens) in enumerate(newPendings):\n",
    "                newState = np.copy(interState)\n",
    "                # add new withdrawals\n",
    "                newState[0] += ones\n",
    "                newState[1] += tens\n",
    "                prob = newPendingProbs[i]\n",
    "                try:\n",
    "                    newInd = stateInds[tostr(newState)]\n",
    "                except KeyError: # not a valid new state, leave state alone\n",
    "                    newInd = curInd\n",
    "                transitions[a][curInd, newInd] += prob\n",
    "                # rewards[a][curInd, newInd] = getReward(states[newInd])\n",
    "                rewards[a][curInd, newInd] = getReward(states[curInd])"
   ]
  },
  {
   "cell_type": "code",
   "execution_count": 962,
   "metadata": {},
   "outputs": [
    {
     "data": {
      "text/plain": [
       "(15246, 15246)"
      ]
     },
     "execution_count": 962,
     "metadata": {},
     "output_type": "execute_result"
    }
   ],
   "source": [
    "transitions = np.asarray([\n",
    "    csr_matrix(transitions[0]), // shape STATE,STATE'\n",
    "    csr_matrix(transitions[1]),\n",
    "    csr_matrix(transitions[2]),\n",
    "    csr_matrix(transitions[3]),\n",
    "    csr_matrix(transitions[4]),\n",
    "    csr_matrix(transitions[5]),\n",
    "])\n",
    "rewards = np.asarray([\n",
    "    csr_matrix(rewards[0]),\n",
    "    csr_matrix(rewards[1]),\n",
    "    csr_matrix(rewards[2]),\n",
    "    csr_matrix(rewards[3]),\n",
    "    csr_matrix(rewards[4]),\n",
    "    csr_matrix(rewards[5]),\n",
    "])\n",
    "transitions[1].shape"
   ]
  },
  {
   "cell_type": "code",
   "execution_count": 963,
   "metadata": {},
   "outputs": [],
   "source": [
    "util.check(transitions, rewards)"
   ]
  },
  {
   "cell_type": "code",
   "execution_count": 964,
   "metadata": {},
   "outputs": [
    {
     "data": {
      "text/plain": [
       "110"
      ]
     },
     "execution_count": 964,
     "metadata": {},
     "output_type": "execute_result"
    }
   ],
   "source": [
    "vi = mdp.ValueIteration(transitions, rewards, discount=0.9)\n",
    "vi.run()\n",
    "vi.iter"
   ]
  },
  {
   "cell_type": "code",
   "execution_count": 965,
   "metadata": {},
   "outputs": [
    {
     "data": {
      "text/plain": [
       "(-30.147182364496985, 0)"
      ]
     },
     "execution_count": 965,
     "metadata": {},
     "output_type": "execute_result"
    }
   ],
   "source": [
    "vi.V[0], vi.policy[0]"
   ]
  },
  {
   "cell_type": "code",
   "execution_count": 966,
   "metadata": {},
   "outputs": [
    {
     "data": {
      "text/plain": [
       "0.6148497966679785"
      ]
     },
     "execution_count": 966,
     "metadata": {},
     "output_type": "execute_result"
    }
   ],
   "source": [
    "np.asarray(vi.policy).mean()"
   ]
  },
  {
   "cell_type": "code",
   "execution_count": 967,
   "metadata": {},
   "outputs": [
    {
     "data": {
      "text/plain": [
       "(15246,)"
      ]
     },
     "execution_count": 967,
     "metadata": {},
     "output_type": "execute_result"
    }
   ],
   "source": [
    "opt_policy = np.asarray(vi.policy)\n",
    "opt_policy.shape"
   ]
  },
  {
   "cell_type": "markdown",
   "metadata": {},
   "source": [
    "Finding stationary distribution where $\\pi = \\pi T$ based on the transition matrix, $T$, calculated from the optimal policy."
   ]
  },
  {
   "cell_type": "code",
   "execution_count": 968,
   "metadata": {},
   "outputs": [],
   "source": [
    "# stationary distribution\n",
    "opt_transitions = lil_matrix((15246,15246), dtype=float)\n",
    "opt_rewards = lil_matrix((15246,15246), dtype=float)\n",
    "for i in range(15246):\n",
    "    opt_transitions[i] = transitions[opt_policy[i]][i]\n",
    "    opt_rewards[i] = rewards[opt_policy[i]][i]"
   ]
  },
  {
   "cell_type": "code",
   "execution_count": 969,
   "metadata": {},
   "outputs": [],
   "source": [
    "opt_transitions = csr_matrix(opt_transitions)\n",
    "opt_rewards = csr_matrix(opt_rewards)"
   ]
  },
  {
   "cell_type": "code",
   "execution_count": 970,
   "metadata": {},
   "outputs": [],
   "source": [
    "util.check(np.asarray([opt_transitions]), np.asarray([opt_rewards]))"
   ]
  },
  {
   "cell_type": "code",
   "execution_count": 971,
   "metadata": {},
   "outputs": [
    {
     "data": {
      "text/plain": [
       "((15246, 15246), (15246, 15246))"
      ]
     },
     "execution_count": 971,
     "metadata": {},
     "output_type": "execute_result"
    }
   ],
   "source": [
    "opt_transitions.shape, opt_rewards.shape"
   ]
  },
  {
   "cell_type": "code",
   "execution_count": 972,
   "metadata": {},
   "outputs": [
    {
     "name": "stdout",
     "output_type": "stream",
     "text": [
      "46\n"
     ]
    }
   ],
   "source": [
    "curr = lil_matrix((1, 15246))\n",
    "curr[0,0] = 1\n",
    "iters = 0\n",
    "while True:\n",
    "    old = curr.copy()\n",
    "    curr = curr.dot(opt_transitions)\n",
    "    diff = np.abs(curr.toarray() - old.toarray())\n",
    "    if diff.max() < 0.0001:\n",
    "        print(iters)\n",
    "        break\n",
    "    iters += 1"
   ]
  },
  {
   "cell_type": "code",
   "execution_count": 973,
   "metadata": {},
   "outputs": [
    {
     "data": {
      "text/plain": [
       "((15246, 15246), (15246, 1))"
      ]
     },
     "execution_count": 973,
     "metadata": {},
     "output_type": "execute_result"
    }
   ],
   "source": [
    "opt_rewards.shape, curr.transpose().shape"
   ]
  },
  {
   "cell_type": "markdown",
   "metadata": {},
   "source": [
    "Values of each state based on stationary are $v=R\\pi^T$, based on reward matrix, $R$, calculated from the optimal policy."
   ]
  },
  {
   "cell_type": "code",
   "execution_count": 974,
   "metadata": {},
   "outputs": [
    {
     "data": {
      "text/plain": [
       "(15246, 1)"
      ]
     },
     "execution_count": 974,
     "metadata": {},
     "output_type": "execute_result"
    }
   ],
   "source": [
    "vals = opt_rewards.dot(curr.transpose())\n",
    "vals.shape"
   ]
  },
  {
   "cell_type": "markdown",
   "metadata": {},
   "source": [
    "Expected value of stationary distribution $eval = \\pi v$.\n",
    "\n",
    "So full flow is \n",
    "\n",
    "$eval = \\pi (\\frac{1}{1-\\delta}R \\pi^T).$\n",
    "\n",
    "$eval = \\pi (v \\pi^T).$"
   ]
  },
  {
   "cell_type": "code",
   "execution_count": 975,
   "metadata": {},
   "outputs": [
    {
     "data": {
      "text/plain": [
       "array([[-0.86224195]])"
      ]
     },
     "execution_count": 975,
     "metadata": {},
     "output_type": "execute_result"
    }
   ],
   "source": [
    "curr.dot(vals).toarray()"
   ]
  },
  {
   "cell_type": "markdown",
   "metadata": {},
   "source": [
    "---- \n",
    "---\n",
    "---\n",
    "\n",
    "`PRIO-MINSLACK`"
   ]
  },
  {
   "cell_type": "code",
   "execution_count": 976,
   "metadata": {},
   "outputs": [],
   "source": [
    "# PRIO-MINSLACK\n",
    "# stationary distribution\n",
    "prio_transitions = lil_matrix((15246,15246), dtype=float)\n",
    "prio_rewards = lil_matrix((15246,15246), dtype=float)\n",
    "prio_policy = []\n",
    "for i, state in enumerate(states):\n",
    "    slack = 5 - sum(state[2:])\n",
    "    avail = sum(state[:2])\n",
    "    policy = 6\n",
    "    if slack <= avail:\n",
    "        policy = slack\n",
    "    else: # avail > slack => can only do avail\n",
    "        policy = avail\n",
    "    prio_policy.append(policy)\n",
    "    prio_transitions[i] = transitions[policy][i]\n",
    "    prio_rewards[i] = rewards[policy][i]"
   ]
  },
  {
   "cell_type": "code",
   "execution_count": 977,
   "metadata": {},
   "outputs": [],
   "source": [
    "prio_transitions = csr_matrix(prio_transitions)\n",
    "prio_rewards = csr_matrix(prio_rewards)\n",
    "prio_policy = np.asarray(prio_policy)"
   ]
  },
  {
   "cell_type": "code",
   "execution_count": 978,
   "metadata": {},
   "outputs": [],
   "source": [
    "util.check(np.asarray([prio_transitions]), np.asarray([prio_rewards]))"
   ]
  },
  {
   "cell_type": "code",
   "execution_count": 979,
   "metadata": {},
   "outputs": [
    {
     "data": {
      "text/plain": [
       "((15246, 15246), (15246, 15246))"
      ]
     },
     "execution_count": 979,
     "metadata": {},
     "output_type": "execute_result"
    }
   ],
   "source": [
    "prio_transitions.shape, prio_rewards.shape"
   ]
  },
  {
   "cell_type": "code",
   "execution_count": 980,
   "metadata": {},
   "outputs": [
    {
     "name": "stdout",
     "output_type": "stream",
     "text": [
      "415\n"
     ]
    }
   ],
   "source": [
    "curr = lil_matrix((1, 15246))\n",
    "curr[0,0] = 1\n",
    "iters = 0\n",
    "while True:\n",
    "    old = curr.copy()\n",
    "    curr = curr.dot(prio_transitions)\n",
    "    diff = np.abs(curr.toarray() - old.toarray())\n",
    "    if diff.max() < 0.0001:\n",
    "        print(iters)\n",
    "        break\n",
    "    iters += 1"
   ]
  },
  {
   "cell_type": "code",
   "execution_count": 981,
   "metadata": {},
   "outputs": [
    {
     "data": {
      "text/plain": [
       "((15246, 15246), (15246, 1))"
      ]
     },
     "execution_count": 981,
     "metadata": {},
     "output_type": "execute_result"
    }
   ],
   "source": [
    "prio_rewards.shape, curr.transpose().shape"
   ]
  },
  {
   "cell_type": "code",
   "execution_count": 982,
   "metadata": {},
   "outputs": [
    {
     "data": {
      "text/plain": [
       "(15246, 1)"
      ]
     },
     "execution_count": 982,
     "metadata": {},
     "output_type": "execute_result"
    }
   ],
   "source": [
    "vals = prio_rewards.dot(curr.transpose())\n",
    "vals.shape"
   ]
  },
  {
   "cell_type": "code",
   "execution_count": 983,
   "metadata": {},
   "outputs": [
    {
     "data": {
      "text/plain": [
       "array([[-9.93871727]])"
      ]
     },
     "execution_count": 983,
     "metadata": {},
     "output_type": "execute_result"
    }
   ],
   "source": [
    "curr.dot(vals).toarray()"
   ]
  },
  {
   "cell_type": "code",
   "execution_count": null,
   "metadata": {},
   "outputs": [],
   "source": []
  },
  {
   "cell_type": "code",
   "execution_count": 994,
   "metadata": {},
   "outputs": [
    {
     "data": {
      "text/plain": [
       "array([0, 0, 0, 0, 0, 0, 0, 0, 0, 0, 0, 0, 0, 0, 0, 0, 0, 0, 0, 0, 0, 0,\n",
       "       0, 0, 0, 0, 0, 0, 0, 0, 0, 0, 0, 0, 0, 0, 0, 0, 0, 0, 0, 0, 0, 0,\n",
       "       0, 0, 0, 0, 0, 0, 0, 0, 0, 0, 0, 0, 0, 0, 0, 0, 0, 0, 0, 0, 0, 0,\n",
       "       0, 0, 0, 0, 0, 0, 0, 0, 0, 0, 0, 0, 0, 0, 0, 0, 0, 0, 0, 0, 0, 0,\n",
       "       0, 0, 0, 0, 0, 0, 0, 0, 0, 0, 0, 0])"
      ]
     },
     "execution_count": 994,
     "metadata": {},
     "output_type": "execute_result"
    }
   ],
   "source": [
    "opt_policy[:100], opt_policy[:100]"
   ]
  },
  {
   "cell_type": "code",
   "execution_count": 992,
   "metadata": {},
   "outputs": [
    {
     "data": {
      "text/plain": [
       "(756, 0)"
      ]
     },
     "execution_count": 992,
     "metadata": {},
     "output_type": "execute_result"
    }
   ],
   "source": [
    "(prio_policy - opt_policy).argmax(), (prio_policy - opt_policy).min()"
   ]
  },
  {
   "cell_type": "code",
   "execution_count": 986,
   "metadata": {},
   "outputs": [
    {
     "data": {
      "text/plain": [
       "(array([0, 6, 0, 0, 0, 0]), 5, 1)"
      ]
     },
     "execution_count": 986,
     "metadata": {},
     "output_type": "execute_result"
    }
   ],
   "source": [
    "states[756], prio_policy[756], opt_policy[756]"
   ]
  },
  {
   "cell_type": "code",
   "execution_count": 987,
   "metadata": {},
   "outputs": [
    {
     "name": "stdout",
     "output_type": "stream",
     "text": [
      "251 [0 1 5 0 0 0] -60.0\n",
      "377 [0 2 5 0 0 0] -60.0\n",
      "881 [0 6 5 0 0 0] -60.0\n",
      "1637 [1 1 5 0 0 0] -60.0\n",
      "2141 [1 5 5 0 0 0] -60.0\n",
      "3401 [2 4 5 0 0 0] -60.0\n",
      "4661 [3 3 5 0 0 0] -60.0\n",
      "5921 [4 2 5 0 0 0] -60.0\n",
      "7181 [5 1 5 0 0 0] -60.0\n"
     ]
    }
   ],
   "source": [
    "for ind in prio_rewards[756].indices:\n",
    "    print(ind, states[ind], prio_rewards[756,ind])"
   ]
  },
  {
   "cell_type": "code",
   "execution_count": 988,
   "metadata": {},
   "outputs": [
    {
     "name": "stdout",
     "output_type": "stream",
     "text": [
      "686 [0 5 1 0 0 0] -60.0\n",
      "812 [0 6 1 0 0 0] -60.0\n",
      "1316 [ 0 10  1  0  0  0] -60.0\n",
      "2072 [1 5 1 0 0 0] -60.0\n",
      "2576 [1 9 1 0 0 0] -60.0\n",
      "3836 [2 8 1 0 0 0] -60.0\n",
      "5096 [3 7 1 0 0 0] -60.0\n",
      "6356 [4 6 1 0 0 0] -60.0\n",
      "7616 [5 5 1 0 0 0] -60.0\n"
     ]
    }
   ],
   "source": [
    "for ind in opt_rewards[756].indices:\n",
    "    print(ind, states[ind], opt_rewards[756,ind])"
   ]
  },
  {
   "cell_type": "code",
   "execution_count": null,
   "metadata": {},
   "outputs": [],
   "source": []
  },
  {
   "cell_type": "code",
   "execution_count": null,
   "metadata": {},
   "outputs": [],
   "source": []
  },
  {
   "cell_type": "code",
   "execution_count": null,
   "metadata": {},
   "outputs": [],
   "source": []
  },
  {
   "cell_type": "code",
   "execution_count": 999,
   "metadata": {},
   "outputs": [
    {
     "data": {
      "text/plain": [
       "[0, 1, 2, 3, 4, 4]"
      ]
     },
     "execution_count": 999,
     "metadata": {},
     "output_type": "execute_result"
    }
   ],
   "source": [
    "# policy\n",
    "[round(i) for i in np.array([0,1,2,3,4,5]) * 0.9]"
   ]
  },
  {
   "cell_type": "code",
   "execution_count": 1000,
   "metadata": {},
   "outputs": [
    {
     "data": {
      "text/plain": [
       "[0, 1, 1, 3, 4, 5]"
      ]
     },
     "execution_count": 1000,
     "metadata": {},
     "output_type": "execute_result"
    }
   ],
   "source": [
    "[0, 1, 1, 3, 4, 5]"
   ]
  },
  {
   "cell_type": "code",
   "execution_count": 891,
   "metadata": {},
   "outputs": [],
   "source": [
    "# alpha-MINSLACK\n",
    "# stationary distribution\n",
    "opt_transitions = lil_matrix((15246,15246), dtype=float)\n",
    "opt_rewards = lil_matrix((15246,15246), dtype=float)\n",
    "for i, state in enumerate(states):\n",
    "    slack = 5 - sum(state[2:])\n",
    "    # alpha=0.85\n",
    "    if slack > 3:\n",
    "        slack -= 1\n",
    "    avail = sum(state[:2])\n",
    "    policy = 6\n",
    "    if slack <= avail:\n",
    "        policy = slack\n",
    "    else: # avail > slack => can only do avail\n",
    "        policy = avail\n",
    "    opt_transitions[i] = transitions[policy][i]\n",
    "    opt_rewards[i] = rewards[policy][i]"
   ]
  },
  {
   "cell_type": "code",
   "execution_count": 892,
   "metadata": {},
   "outputs": [],
   "source": [
    "opt_transitions = csr_matrix(opt_transitions)\n",
    "opt_rewards = csr_matrix(opt_rewards)"
   ]
  },
  {
   "cell_type": "code",
   "execution_count": 893,
   "metadata": {},
   "outputs": [],
   "source": [
    "util.check(np.asarray([opt_transitions]), np.asarray([opt_rewards]))"
   ]
  },
  {
   "cell_type": "code",
   "execution_count": 894,
   "metadata": {},
   "outputs": [
    {
     "data": {
      "text/plain": [
       "((15246, 15246), (15246, 15246))"
      ]
     },
     "execution_count": 894,
     "metadata": {},
     "output_type": "execute_result"
    }
   ],
   "source": [
    "opt_transitions.shape, opt_rewards.shape"
   ]
  },
  {
   "cell_type": "code",
   "execution_count": 895,
   "metadata": {},
   "outputs": [
    {
     "name": "stdout",
     "output_type": "stream",
     "text": [
      "417\n"
     ]
    }
   ],
   "source": [
    "curr = lil_matrix((1, 15246))\n",
    "curr[0,0] = 1\n",
    "iters = 0\n",
    "while True:\n",
    "    old = curr.copy()\n",
    "    curr = curr.dot(opt_transitions)\n",
    "    diff = np.abs(curr.toarray() - old.toarray())\n",
    "    if diff.max() < 0.0001:\n",
    "        print(iters)\n",
    "        break\n",
    "    iters += 1"
   ]
  },
  {
   "cell_type": "code",
   "execution_count": 896,
   "metadata": {},
   "outputs": [
    {
     "data": {
      "text/plain": [
       "((15246, 15246), (15246, 1))"
      ]
     },
     "execution_count": 896,
     "metadata": {},
     "output_type": "execute_result"
    }
   ],
   "source": [
    "opt_rewards.shape, curr.transpose().shape"
   ]
  },
  {
   "cell_type": "code",
   "execution_count": 897,
   "metadata": {},
   "outputs": [
    {
     "data": {
      "text/plain": [
       "(15246, 1)"
      ]
     },
     "execution_count": 897,
     "metadata": {},
     "output_type": "execute_result"
    }
   ],
   "source": [
    "vals = opt_rewards.dot(curr.transpose())\n",
    "vals.shape"
   ]
  },
  {
   "cell_type": "code",
   "execution_count": 899,
   "metadata": {},
   "outputs": [
    {
     "data": {
      "text/plain": [
       "array([[-2.83564301]])"
      ]
     },
     "execution_count": 899,
     "metadata": {},
     "output_type": "execute_result"
    }
   ],
   "source": [
    "curr.dot(vals).toarray()"
   ]
  },
  {
   "cell_type": "code",
   "execution_count": null,
   "metadata": {},
   "outputs": [],
   "source": []
  },
  {
   "cell_type": "code",
   "execution_count": 600,
   "metadata": {},
   "outputs": [
    {
     "data": {
      "text/plain": [
       "((1, 15246), (15246, 1))"
      ]
     },
     "execution_count": 600,
     "metadata": {},
     "output_type": "execute_result"
    }
   ],
   "source": [
    "curr.shape, opt_transitions[0].transpose().shape"
   ]
  },
  {
   "cell_type": "code",
   "execution_count": 557,
   "metadata": {},
   "outputs": [
    {
     "data": {
      "text/plain": [
       "<1x15246 sparse matrix of type '<class 'numpy.float64'>'\n",
       "\twith 1 stored elements in List of Lists format>"
      ]
     },
     "execution_count": 557,
     "metadata": {},
     "output_type": "execute_result"
    }
   ],
   "source": [
    "curr = lil_matrix((1, 15246))\n",
    "curr[0,0] = 1\n",
    "curr\n",
    "\n",
    "csr_matrix.multipy(curr, )"
   ]
  },
  {
   "cell_type": "code",
   "execution_count": null,
   "metadata": {},
   "outputs": [],
   "source": []
  },
  {
   "cell_type": "code",
   "execution_count": null,
   "metadata": {},
   "outputs": [],
   "source": []
  },
  {
   "cell_type": "code",
   "execution_count": 561,
   "metadata": {},
   "outputs": [
    {
     "data": {
      "text/plain": [
       "array([[0.3, 0.7]])"
      ]
     },
     "execution_count": 561,
     "metadata": {},
     "output_type": "execute_result"
    }
   ],
   "source": [
    "curr = np.zeros((1, 2))\n",
    "curr[0][0] = 1\n",
    "\n",
    "trans = np.zeros((2,2))\n",
    "trans[0,0] = 0.3\n",
    "trans[0,1] = 0.7\n",
    "trans[1,0] = 0.5\n",
    "trans[1,1] = 0.5\n",
    "\n",
    "curr = np.matmul(curr, trans)\n",
    "curr"
   ]
  },
  {
   "cell_type": "code",
   "execution_count": 595,
   "metadata": {},
   "outputs": [
    {
     "data": {
      "text/plain": [
       "array([[1., 0.]])"
      ]
     },
     "execution_count": 595,
     "metadata": {},
     "output_type": "execute_result"
    }
   ],
   "source": [
    "curr = lil_matrix((1, 2))\n",
    "curr[0,0] = 1\n",
    "curr.toarray()"
   ]
  },
  {
   "cell_type": "code",
   "execution_count": 601,
   "metadata": {},
   "outputs": [
    {
     "data": {
      "text/plain": [
       "array([[0.3, 0.7]])"
      ]
     },
     "execution_count": 601,
     "metadata": {},
     "output_type": "execute_result"
    }
   ],
   "source": [
    "curr = lil_matrix((1, 2))\n",
    "curr[0,0] = 1\n",
    "\n",
    "trans = lil_matrix((2,2))\n",
    "trans[0,0] = 0.3\n",
    "trans[0,1] = 0.7\n",
    "trans[1,0] = 0.5\n",
    "trans[1,1] = 0.5\n",
    "\n",
    "curr = curr.dot(trans)\n",
    "curr.toarray()"
   ]
  },
  {
   "cell_type": "code",
   "execution_count": 615,
   "metadata": {},
   "outputs": [
    {
     "data": {
      "text/plain": [
       "array([[0.41666667, 0.58333333]])"
      ]
     },
     "execution_count": 615,
     "metadata": {},
     "output_type": "execute_result"
    }
   ],
   "source": [
    "curr = curr.dot(trans)\n",
    "curr.toarray()"
   ]
  },
  {
   "cell_type": "code",
   "execution_count": 616,
   "metadata": {},
   "outputs": [
    {
     "ename": "NameError",
     "evalue": "name 'opt_transtitions' is not defined",
     "output_type": "error",
     "traceback": [
      "\u001b[0;31m---------------------------------------------------------------------------\u001b[0m",
      "\u001b[0;31mNameError\u001b[0m                                 Traceback (most recent call last)",
      "\u001b[0;32m<ipython-input-616-752e64649158>\u001b[0m in \u001b[0;36m<module>\u001b[0;34m\u001b[0m\n\u001b[0;32m----> 1\u001b[0;31m \u001b[0mopt_transtitions\u001b[0m\u001b[0;34m\u001b[0m\u001b[0;34m\u001b[0m\u001b[0m\n\u001b[0m",
      "\u001b[0;31mNameError\u001b[0m: name 'opt_transtitions' is not defined"
     ]
    }
   ],
   "source": [
    "opt_transtitions"
   ]
  },
  {
   "cell_type": "code",
   "execution_count": 547,
   "metadata": {},
   "outputs": [
    {
     "data": {
      "text/plain": [
       "1.0"
      ]
     },
     "execution_count": 547,
     "metadata": {},
     "output_type": "execute_result"
    }
   ],
   "source": [
    "opt_transitions.transpose()[:,0].sum()"
   ]
  },
  {
   "cell_type": "code",
   "execution_count": 553,
   "metadata": {},
   "outputs": [],
   "source": [
    "curr = lil_matrix((1, 15246))\n",
    "curr[0][0] = 1\n",
    "\n",
    "out = opt_transitions.multiply(opt_transitions)"
   ]
  },
  {
   "cell_type": "code",
   "execution_count": 556,
   "metadata": {},
   "outputs": [
    {
     "data": {
      "text/plain": [
       "0.25"
      ]
     },
     "execution_count": 556,
     "metadata": {},
     "output_type": "execute_result"
    }
   ],
   "source": []
  },
  {
   "cell_type": "code",
   "execution_count": 494,
   "metadata": {},
   "outputs": [
    {
     "name": "stdout",
     "output_type": "stream",
     "text": [
      "13\n"
     ]
    }
   ],
   "source": [
    "curr = np.zeros(15246)\n",
    "curr[0] = 1 \n",
    "iters = 0\n",
    "while True:\n",
    "    old = np.copy(curr)\n",
    "    curr = opt_transitions.dot(curr)\n",
    "    diff = np.abs(curr - old)\n",
    "    if diff.max() < 0.0001:\n",
    "        print(iters)\n",
    "        break\n",
    "    iters += 1"
   ]
  },
  {
   "cell_type": "code",
   "execution_count": 502,
   "metadata": {},
   "outputs": [
    {
     "data": {
      "text/plain": [
       "6.103515625e-05"
      ]
     },
     "execution_count": 502,
     "metadata": {},
     "output_type": "execute_result"
    }
   ],
   "source": [
    "curr.sum()"
   ]
  },
  {
   "cell_type": "code",
   "execution_count": null,
   "metadata": {},
   "outputs": [],
   "source": []
  },
  {
   "cell_type": "code",
   "execution_count": null,
   "metadata": {},
   "outputs": [],
   "source": []
  },
  {
   "cell_type": "code",
   "execution_count": null,
   "metadata": {},
   "outputs": [],
   "source": []
  },
  {
   "cell_type": "code",
   "execution_count": 447,
   "metadata": {},
   "outputs": [
    {
     "name": "stdout",
     "output_type": "stream",
     "text": [
      "0\n"
     ]
    }
   ],
   "source": [
    "for i in range(15246):\n",
    "    pr = transitions[1][i].sum()\n",
    "    if pr < 0.99 or pr > 1.01:\n",
    "        print(i)\n",
    "        break"
   ]
  },
  {
   "cell_type": "code",
   "execution_count": 448,
   "metadata": {},
   "outputs": [
    {
     "data": {
      "text/plain": [
       "(5.0, array([0], dtype=int32))"
      ]
     },
     "execution_count": 448,
     "metadata": {},
     "output_type": "execute_result"
    }
   ],
   "source": [
    "transitions[1][0].sum(), transitions[1][0].indices"
   ]
  },
  {
   "cell_type": "code",
   "execution_count": 425,
   "metadata": {},
   "outputs": [
    {
     "data": {
      "text/plain": [
       "(array([0, 1, 0, 0, 0, 0]), array([0, 5, 1, 0, 0, 0]))"
      ]
     },
     "execution_count": 425,
     "metadata": {},
     "output_type": "execute_result"
    }
   ],
   "source": [
    "states[126], states[686]"
   ]
  },
  {
   "cell_type": "code",
   "execution_count": 433,
   "metadata": {},
   "outputs": [
    {
     "name": "stdout",
     "output_type": "stream",
     "text": [
      "good\n",
      "[0 1 0 0 0 0]\n",
      "[0 0 1 0 0 0]\n",
      "[0 0 1 0 0 0] 0.5 126 56\n",
      "[1 0 1 0 0 0] 0.36000000000000004 126 1442\n",
      "[0 1 1 0 0 0] 0.04000000000000001 126 182\n",
      "[5 0 1 0 0 0] 0.05904900000000001 126 6986\n",
      "[4 1 1 0 0 0] 0.032805 126 5726\n",
      "[3 2 1 0 0 0] 0.007290000000000002 126 4466\n",
      "[2 3 1 0 0 0] 0.0008100000000000004 126 3206\n",
      "[1 4 1 0 0 0] 4.500000000000001e-05 126 1946\n",
      "[0 5 1 0 0 0] 1.0000000000000004e-06 126 686\n"
     ]
    }
   ],
   "source": [
    "curInd = 126\n",
    "state = states[curInd]\n",
    "interState = np.copy(state)\n",
    "reward = 0\n",
    "if sum(interState[2:]) + 1 > 5: # illegal action: violation of constraint\n",
    "    print(\"bad\")\n",
    "elif sum(interState[:2]) < 1:   # illegal action: not enough to process\n",
    "    print(\"bad\")\n",
    "else: # legal action: process\n",
    "    print(\"good\")\n",
    "    p1, p10 = interState[0], interState[1]\n",
    "    remTens = 1 - p10\n",
    "    if remTens <= 0:  # only 10s consumed\n",
    "        p10 -= 1\n",
    "    else:             # use the remainder to process 1s\n",
    "        p10 = 0\n",
    "        p1 -= remTens\n",
    "    interState[0] = p1\n",
    "    interState[1] = p10\n",
    "    print(state)\n",
    "\n",
    "    interState[3:6] = interState[2:5]\n",
    "    interState[2] = 1\n",
    "    print(interState)\n",
    "    for i, (ones, tens) in enumerate(newPendings):\n",
    "        newState = np.copy(interState)\n",
    "        # add new withdrawals\n",
    "        newState[0] += ones\n",
    "        newState[1] += tens\n",
    "        prob = newPendingProbs[i]\n",
    "        try:\n",
    "            newInd = stateInds[tostr(newState)]\n",
    "        except KeyError: # not a valid new state, leave state alone\n",
    "            newInd = curInd\n",
    "        print(newState, prob, curInd, newInd)\n",
    "#     transitions[1][curInd, newInd] += prob\n",
    "#     rewards[1][curInd, newInd] = getReward(states[newInd])"
   ]
  },
  {
   "cell_type": "code",
   "execution_count": 401,
   "metadata": {},
   "outputs": [
    {
     "ename": "StochasticError",
     "evalue": "'PyMDPToolbox - The transition probability matrix is not stochastic.'",
     "output_type": "error",
     "traceback": [
      "\u001b[0;31m---------------------------------------------------------------------------\u001b[0m",
      "\u001b[0;31mStochasticError\u001b[0m                           Traceback (most recent call last)",
      "\u001b[0;32m<ipython-input-401-dd61daf085e0>\u001b[0m in \u001b[0;36m<module>\u001b[0;34m\u001b[0m\n\u001b[0;32m----> 1\u001b[0;31m \u001b[0mutil\u001b[0m\u001b[0;34m.\u001b[0m\u001b[0mcheck\u001b[0m\u001b[0;34m(\u001b[0m\u001b[0mtransitions\u001b[0m\u001b[0;34m,\u001b[0m \u001b[0mrewards\u001b[0m\u001b[0;34m)\u001b[0m\u001b[0;34m\u001b[0m\u001b[0;34m\u001b[0m\u001b[0m\n\u001b[0m",
      "\u001b[0;32m/usr/local/lib/python3.8/site-packages/mdptoolbox/util.py\u001b[0m in \u001b[0;36mcheck\u001b[0;34m(P, R)\u001b[0m\n\u001b[1;32m    292\u001b[0m     \u001b[0;31m# Check that the P's are square, stochastic and non-negative\u001b[0m\u001b[0;34m\u001b[0m\u001b[0;34m\u001b[0m\u001b[0;34m\u001b[0m\u001b[0m\n\u001b[1;32m    293\u001b[0m     \u001b[0;32mfor\u001b[0m \u001b[0maa\u001b[0m \u001b[0;32min\u001b[0m \u001b[0mrange\u001b[0m\u001b[0;34m(\u001b[0m\u001b[0maP\u001b[0m\u001b[0;34m)\u001b[0m\u001b[0;34m:\u001b[0m\u001b[0;34m\u001b[0m\u001b[0;34m\u001b[0m\u001b[0m\n\u001b[0;32m--> 294\u001b[0;31m         \u001b[0mcheckSquareStochastic\u001b[0m\u001b[0;34m(\u001b[0m\u001b[0mP\u001b[0m\u001b[0;34m[\u001b[0m\u001b[0maa\u001b[0m\u001b[0;34m]\u001b[0m\u001b[0;34m)\u001b[0m\u001b[0;34m\u001b[0m\u001b[0;34m\u001b[0m\u001b[0m\n\u001b[0m\u001b[1;32m    295\u001b[0m \u001b[0;34m\u001b[0m\u001b[0m\n\u001b[1;32m    296\u001b[0m \u001b[0;32mdef\u001b[0m \u001b[0mgetSpan\u001b[0m\u001b[0;34m(\u001b[0m\u001b[0mW\u001b[0m\u001b[0;34m)\u001b[0m\u001b[0;34m:\u001b[0m\u001b[0;34m\u001b[0m\u001b[0;34m\u001b[0m\u001b[0m\n",
      "\u001b[0;32m/usr/local/lib/python3.8/site-packages/mdptoolbox/util.py\u001b[0m in \u001b[0;36mcheckSquareStochastic\u001b[0;34m(matrix)\u001b[0m\n\u001b[1;32m    202\u001b[0m         \u001b[0;32mraise\u001b[0m \u001b[0m_error\u001b[0m\u001b[0;34m.\u001b[0m\u001b[0mSquareError\u001b[0m\u001b[0;34m\u001b[0m\u001b[0;34m\u001b[0m\u001b[0m\n\u001b[1;32m    203\u001b[0m     \u001b[0;32mif\u001b[0m \u001b[0;32mnot\u001b[0m \u001b[0misStochastic\u001b[0m\u001b[0;34m(\u001b[0m\u001b[0mmatrix\u001b[0m\u001b[0;34m)\u001b[0m\u001b[0;34m:\u001b[0m\u001b[0;34m\u001b[0m\u001b[0;34m\u001b[0m\u001b[0m\n\u001b[0;32m--> 204\u001b[0;31m         \u001b[0;32mraise\u001b[0m \u001b[0m_error\u001b[0m\u001b[0;34m.\u001b[0m\u001b[0mStochasticError\u001b[0m\u001b[0;34m\u001b[0m\u001b[0;34m\u001b[0m\u001b[0m\n\u001b[0m\u001b[1;32m    205\u001b[0m     \u001b[0;32mif\u001b[0m \u001b[0;32mnot\u001b[0m \u001b[0misNonNegative\u001b[0m\u001b[0;34m(\u001b[0m\u001b[0mmatrix\u001b[0m\u001b[0;34m)\u001b[0m\u001b[0;34m:\u001b[0m\u001b[0;34m\u001b[0m\u001b[0;34m\u001b[0m\u001b[0m\n\u001b[1;32m    206\u001b[0m         \u001b[0;32mraise\u001b[0m \u001b[0m_error\u001b[0m\u001b[0;34m.\u001b[0m\u001b[0mNonNegativeError\u001b[0m\u001b[0;34m\u001b[0m\u001b[0;34m\u001b[0m\u001b[0m\n",
      "\u001b[0;31mStochasticError\u001b[0m: 'PyMDPToolbox - The transition probability matrix is not stochastic.'"
     ]
    }
   ],
   "source": [
    "util.check(transitions, rewards)"
   ]
  },
  {
   "cell_type": "code",
   "execution_count": null,
   "metadata": {},
   "outputs": [],
   "source": []
  },
  {
   "cell_type": "code",
   "execution_count": 3,
   "metadata": {},
   "outputs": [
    {
     "ename": "TypeError",
     "evalue": "__init__() missing 3 required positional arguments: 'transitions', 'reward', and 'discount'",
     "output_type": "error",
     "traceback": [
      "\u001b[0;31m---------------------------------------------------------------------------\u001b[0m",
      "\u001b[0;31mTypeError\u001b[0m                                 Traceback (most recent call last)",
      "\u001b[0;32m<ipython-input-3-e754f6e15562>\u001b[0m in \u001b[0;36m<module>\u001b[0;34m\u001b[0m\n\u001b[0;32m----> 1\u001b[0;31m \u001b[0mmdp\u001b[0m\u001b[0;34m.\u001b[0m\u001b[0mValueIteration\u001b[0m\u001b[0;34m(\u001b[0m\u001b[0;34m)\u001b[0m\u001b[0;34m\u001b[0m\u001b[0;34m\u001b[0m\u001b[0m\n\u001b[0m",
      "\u001b[0;31mTypeError\u001b[0m: __init__() missing 3 required positional arguments: 'transitions', 'reward', and 'discount'"
     ]
    }
   ],
   "source": [
    "mdp.ValueIteration()"
   ]
  }
 ],
 "metadata": {
  "kernelspec": {
   "display_name": "Python 3",
   "language": "python",
   "name": "python3"
  },
  "language_info": {
   "codemirror_mode": {
    "name": "ipython",
    "version": 3
   },
   "file_extension": ".py",
   "mimetype": "text/x-python",
   "name": "python",
   "nbconvert_exporter": "python",
   "pygments_lexer": "ipython3",
   "version": "3.8.16"
  }
 },
 "nbformat": 4,
 "nbformat_minor": 4
}
