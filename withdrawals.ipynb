{
 "cells": [
  {
   "cell_type": "code",
   "execution_count": 435,
   "metadata": {},
   "outputs": [],
   "source": [
    "import matplotlib.pyplot as plt\n",
    "import numpy as np\n",
    "import pandas as pd\n",
    "from scipy.stats import poisson, uniform, expon\n",
    "from tqdm import tqdm"
   ]
  },
  {
   "cell_type": "code",
   "execution_count": 836,
   "metadata": {},
   "outputs": [],
   "source": [
    "class withdrawal:\n",
    "    def __init__(self):\n",
    "        self.value = 0\n",
    "        self.requested = 0\n",
    "        self.processed = 0"
   ]
  },
  {
   "cell_type": "code",
   "execution_count": 1052,
   "metadata": {},
   "outputs": [],
   "source": [
    "# constraints = [\n",
    "#     (10, 4),  # no more than 10 wdraws in  4 epochs\n",
    "#     (20, 10), # no more than 20 wdraws in 10 epochs\n",
    "# ]\n",
    "\n",
    "constraints = [\n",
    "    (2, 1),  # no more than 2 wdraws in  1 epochs\n",
    "    (3, 3),  # no more than 3 wdraws in  3 epochs\n",
    "]"
   ]
  },
  {
   "cell_type": "code",
   "execution_count": 1053,
   "metadata": {},
   "outputs": [
    {
     "data": {
      "text/plain": [
       "3"
      ]
     },
     "execution_count": 1053,
     "metadata": {},
     "output_type": "execute_result"
    }
   ],
   "source": [
    "T_MAX = max(constraints, key=lambda x:x[1])[1]\n",
    "T_MAX"
   ]
  },
  {
   "cell_type": "code",
   "execution_count": 1054,
   "metadata": {},
   "outputs": [
    {
     "data": {
      "text/plain": [
       "(0.9108530361667535, 1.6149194742477189)"
      ]
     },
     "execution_count": 1054,
     "metadata": {},
     "output_type": "execute_result"
    }
   ],
   "source": [
    "uniform.rvs(), expon.rvs(1)"
   ]
  },
  {
   "cell_type": "code",
   "execution_count": 1058,
   "metadata": {},
   "outputs": [
    {
     "name": "stderr",
     "output_type": "stream",
     "text": [
      "100%|██████████| 20/20 [00:00<00:00, 3962.69it/s]"
     ]
    },
    {
     "name": "stdout",
     "output_type": "stream",
     "text": [
      "2\n",
      "2\n",
      "1\n",
      "0\n",
      "2\n",
      "1\n",
      "0\n",
      "2\n",
      "1\n",
      "0\n",
      "2\n",
      "1\n",
      "0\n",
      "2\n",
      "1\n",
      "0\n",
      "2\n",
      "1\n",
      "0\n",
      "2\n"
     ]
    },
    {
     "name": "stderr",
     "output_type": "stream",
     "text": [
      "\n"
     ]
    }
   ],
   "source": [
    "history = []\n",
    "pending = []\n",
    "results = []\n",
    "perepoch = []\n",
    "for t in tqdm(range(20)):\n",
    "    # Expire oldest withdrawals\n",
    "    history = [h for h in history if (t - h[1]) <= T_MAX]\n",
    "    \n",
    "    # Calc minslack\n",
    "    slacks = []\n",
    "    for c in constraints:\n",
    "        delta_i, t_i = c\n",
    "        relevant_history = [h for h in history if (t - h[1]) < t_i]\n",
    "        slack_i = delta_i - len(relevant_history)\n",
    "        slacks.append(slack_i)\n",
    "    minSlack = min(slacks)\n",
    "    print(minSlack)\n",
    "    perepoch.append(minSlack)\n",
    "    \n",
    "    # Process withdrawals\n",
    "    withdrawals = pending[:minSlack]\n",
    "    newResults = [(w[0], t-w[1]) for w in withdrawals] # calc how long the withdrawal was in the queue\n",
    "    results.extend(newResults)\n",
    "    history.extend([(w[0], t) for w in withdrawals])\n",
    "    pending = pending[minSlack:]\n",
    "    \n",
    "    # Add new pendings\n",
    "    numWdraws = poisson.rvs(mu=8)\n",
    "    newValues = uniform.rvs(0, 1, size=numWdraws)\n",
    "    newPending = [(vi, t) for vi in newValues]\n",
    "    pending.extend(newPending)\n",
    "\n",
    "results = np.asarray(results)"
   ]
  },
  {
   "cell_type": "code",
   "execution_count": 1059,
   "metadata": {},
   "outputs": [
    {
     "data": {
      "text/plain": [
       "1.1"
      ]
     },
     "execution_count": 1059,
     "metadata": {},
     "output_type": "execute_result"
    }
   ],
   "source": [
    "np.mean(perepoch)"
   ]
  },
  {
   "cell_type": "code",
   "execution_count": 1034,
   "metadata": {},
   "outputs": [
    {
     "data": {
      "text/html": [
       "<div>\n",
       "<style scoped>\n",
       "    .dataframe tbody tr th:only-of-type {\n",
       "        vertical-align: middle;\n",
       "    }\n",
       "\n",
       "    .dataframe tbody tr th {\n",
       "        vertical-align: top;\n",
       "    }\n",
       "\n",
       "    .dataframe thead th {\n",
       "        text-align: right;\n",
       "    }\n",
       "</style>\n",
       "<table border=\"1\" class=\"dataframe\">\n",
       "  <thead>\n",
       "    <tr style=\"text-align: right;\">\n",
       "      <th></th>\n",
       "      <th>buckets</th>\n",
       "      <th>avgs</th>\n",
       "    </tr>\n",
       "  </thead>\n",
       "  <tbody>\n",
       "    <tr>\n",
       "      <th>0</th>\n",
       "      <td>(0.33, 0.34]</td>\n",
       "      <td>1.100000</td>\n",
       "    </tr>\n",
       "    <tr>\n",
       "      <th>1</th>\n",
       "      <td>(0.85, 0.86]</td>\n",
       "      <td>1.272727</td>\n",
       "    </tr>\n",
       "    <tr>\n",
       "      <th>2</th>\n",
       "      <td>(0.53, 0.54]</td>\n",
       "      <td>1.166667</td>\n",
       "    </tr>\n",
       "    <tr>\n",
       "      <th>3</th>\n",
       "      <td>(0.7, 0.71]</td>\n",
       "      <td>1.090909</td>\n",
       "    </tr>\n",
       "    <tr>\n",
       "      <th>4</th>\n",
       "      <td>(0.8, 0.81]</td>\n",
       "      <td>1.000000</td>\n",
       "    </tr>\n",
       "  </tbody>\n",
       "</table>\n",
       "</div>"
      ],
      "text/plain": [
       "        buckets      avgs\n",
       "0  (0.33, 0.34]  1.100000\n",
       "1  (0.85, 0.86]  1.272727\n",
       "2  (0.53, 0.54]  1.166667\n",
       "3   (0.7, 0.71]  1.090909\n",
       "4   (0.8, 0.81]  1.000000"
      ]
     },
     "execution_count": 1034,
     "metadata": {},
     "output_type": "execute_result"
    }
   ],
   "source": [
    "df = pd.DataFrame({\"vs\" : results[:,0], \"times\": results[:,1]})\n",
    "bins = np.arange(0, 1.01, 0.01)\n",
    "df[\"buckets\"] = pd.cut(df.vs, bins)\n",
    "df[\"avgs\"] = df.groupby('buckets')['times'].transform('mean')\n",
    "reduced = df[['buckets', 'avgs']].drop_duplicates()\n",
    "reduced.head()"
   ]
  },
  {
   "cell_type": "code",
   "execution_count": 1035,
   "metadata": {},
   "outputs": [
    {
     "data": {
      "image/png": "[encoded data removed]",
      "text/plain": [
       "<Figure size 648x432 with 1 Axes>"
      ]
     },
     "metadata": {
      "needs_background": "light"
     },
     "output_type": "display_data"
    }
   ],
   "source": [
    "f, ax = plt.subplots(figsize=(9,6))\n",
    "\n",
    "ax.plot(results[:,0], results[:,1], \n",
    "        linestyle=\"none\", marker='.', color='salmon', alpha=0.5, label='all withdrawals')\n",
    "ax.plot([b.left for b in reduced['buckets'].values], reduced['avgs'],\n",
    "        linestyle=\"none\", marker='o', color='black', alpha=1, label='bucketized average')\n",
    "\n",
    "ax.set_xlabel('value', size=14)\n",
    "ax.set_ylabel('time in queue', size=14)\n",
    "ax.legend()\n",
    "plt.show()"
   ]
  },
  {
   "cell_type": "code",
   "execution_count": 899,
   "metadata": {},
   "outputs": [
    {
     "data": {
      "image/png": "[encoded data removed]",
      "text/plain": [
       "<Figure size 648x432 with 1 Axes>"
      ]
     },
     "metadata": {
      "needs_background": "light"
     },
     "output_type": "display_data"
    }
   ],
   "source": [
    "f, ax = plt.subplots(figsize=(9,6))\n",
    "\n",
    "ax.plot(results[:,0], results[:,0] * results[:,1], \n",
    "        linestyle=\"none\", marker='.', color='green', alpha=0.5)\n",
    "\n",
    "ax.set_xlabel('value', size=14)\n",
    "ax.set_ylabel('v_i * w_i', size=14)\n",
    "plt.show()"
   ]
  },
  {
   "cell_type": "code",
   "execution_count": 900,
   "metadata": {},
   "outputs": [
    {
     "data": {
      "text/plain": [
       "42.18093403950085"
      ]
     },
     "execution_count": 900,
     "metadata": {},
     "output_type": "execute_result"
    }
   ],
   "source": [
    "np.mean(results[:,0] * results[:,1])"
   ]
  },
  {
   "cell_type": "markdown",
   "metadata": {},
   "source": [
    "# proportional minslack"
   ]
  },
  {
   "cell_type": "code",
   "execution_count": 560,
   "metadata": {},
   "outputs": [
    {
     "name": "stdout",
     "output_type": "stream",
     "text": [
      "alpha=0.25, weighted mean=2.475644616759217\n",
      "alpha=0.5, weighted mean=1.7313082649501532\n",
      "alpha=0.75, weighted mean=1.49528573583069\n",
      "alpha=1, weighted mean=1.3431687548861595\n"
     ]
    }
   ],
   "source": [
    "for alpha in [0.25, 0.5, 0.75, 1]:\n",
    "    history = []\n",
    "    pending = []\n",
    "    results = []\n",
    "    for t in range(10_000):\n",
    "        # Expire oldest withdrawals\n",
    "        history = [h for h in history if (t - h[1]) > T_MAX]\n",
    "        \n",
    "        # Calc minslack\n",
    "        slacks = []\n",
    "        for c in constraints:\n",
    "            delta_i, t_i = c\n",
    "            relevant_history = [h for h in history if h[1] <= t_i]\n",
    "            slack_i = delta_i - len(relevant_history)\n",
    "            slacks.append(slack_i)\n",
    "        minSlack = min(slacks)\n",
    "        propMinSlack = int(minSlack * alpha)\n",
    "        # print(\"history {}, pending {}, ms {}, pms {}\".format(history, pending, minSlack, propMinSlack))\n",
    "\n",
    "        # Process withdrawals\n",
    "        withdrawals = pending[:propMinSlack]\n",
    "        newResults = [(w[0], t-w[1]) for w in withdrawals] # calc how long the withdrawal was in the queue\n",
    "        results.extend(newResults)\n",
    "        history.extend([(w[0], t) for w in withdrawals])\n",
    "        pending = pending[minSlack:]\n",
    "    \n",
    "        # Add new pendings\n",
    "        numWdraws = poisson.rvs(mu=8)\n",
    "        newValues = expon.rvs(0.3, size=numWdraws)\n",
    "        newPending = [(vi, t) for vi in newValues]\n",
    "        pending.extend(newPending)\n",
    "\n",
    "        # Pending needs to be sorted now\n",
    "        pending.sort(reverse=True, key=lambda x:x[0])\n",
    "        \n",
    "        # print(\"history {}, pending {}, ms {}, pms {}\".format(history, pending, minSlack, propMinSlack))\n",
    "        # print(\"wdraws {}, pendingnew {}\".format(withdrawals, pending))\n",
    "\n",
    "    results = np.asarray(results)\n",
    "    print(\"alpha={}, weighted mean={}\".format(alpha, np.mean(results[:,0] * results[:,1])))"
   ]
  },
  {
   "cell_type": "code",
   "execution_count": 561,
   "metadata": {},
   "outputs": [
    {
     "data": {
      "text/plain": [
       "14"
      ]
     },
     "execution_count": 561,
     "metadata": {},
     "output_type": "execute_result"
    }
   ],
   "source": [
    "len(pending)"
   ]
  },
  {
   "cell_type": "code",
   "execution_count": 551,
   "metadata": {},
   "outputs": [
    {
     "data": {
      "text/html": [
       "<div>\n",
       "<style scoped>\n",
       "    .dataframe tbody tr th:only-of-type {\n",
       "        vertical-align: middle;\n",
       "    }\n",
       "\n",
       "    .dataframe tbody tr th {\n",
       "        vertical-align: top;\n",
       "    }\n",
       "\n",
       "    .dataframe thead th {\n",
       "        text-align: right;\n",
       "    }\n",
       "</style>\n",
       "<table border=\"1\" class=\"dataframe\">\n",
       "  <thead>\n",
       "    <tr style=\"text-align: right;\">\n",
       "      <th></th>\n",
       "      <th>buckets</th>\n",
       "      <th>avgs</th>\n",
       "    </tr>\n",
       "  </thead>\n",
       "  <tbody>\n",
       "    <tr>\n",
       "      <th>0</th>\n",
       "      <td>(4.2, 4.21]</td>\n",
       "      <td>1.000000</td>\n",
       "    </tr>\n",
       "    <tr>\n",
       "      <th>1</th>\n",
       "      <td>(2.83, 2.84]</td>\n",
       "      <td>1.000000</td>\n",
       "    </tr>\n",
       "    <tr>\n",
       "      <th>2</th>\n",
       "      <td>(2.38, 2.39]</td>\n",
       "      <td>1.000000</td>\n",
       "    </tr>\n",
       "    <tr>\n",
       "      <th>3</th>\n",
       "      <td>(1.39, 1.4]</td>\n",
       "      <td>1.000000</td>\n",
       "    </tr>\n",
       "    <tr>\n",
       "      <th>4</th>\n",
       "      <td>(0.88, 0.89]</td>\n",
       "      <td>1.019093</td>\n",
       "    </tr>\n",
       "  </tbody>\n",
       "</table>\n",
       "</div>"
      ],
      "text/plain": [
       "        buckets      avgs\n",
       "0   (4.2, 4.21]  1.000000\n",
       "1  (2.83, 2.84]  1.000000\n",
       "2  (2.38, 2.39]  1.000000\n",
       "3   (1.39, 1.4]  1.000000\n",
       "4  (0.88, 0.89]  1.019093"
      ]
     },
     "execution_count": 551,
     "metadata": {},
     "output_type": "execute_result"
    }
   ],
   "source": [
    "df = pd.DataFrame({\"vs\" : results[:,0], \"times\": results[:,1]})\n",
    "bins = np.arange(0, max(results[:,0]), 0.01)\n",
    "df[\"buckets\"] = pd.cut(df.vs, bins)\n",
    "df[\"avgs\"] = df.groupby('buckets')['times'].transform('mean')\n",
    "reduced = df[['buckets', 'avgs']].drop_duplicates()\n",
    "reduced.head()"
   ]
  },
  {
   "cell_type": "code",
   "execution_count": 552,
   "metadata": {},
   "outputs": [
    {
     "data": {
      "image/png": "[encoded data removed]",
      "text/plain": [
       "<Figure size 648x432 with 1 Axes>"
      ]
     },
     "metadata": {
      "needs_background": "light"
     },
     "output_type": "display_data"
    }
   ],
   "source": [
    "f, ax = plt.subplots(figsize=(9,6))\n",
    "\n",
    "ax.plot(results[:,0], results[:,1], \n",
    "        linestyle=\"none\", marker='.', color='salmon', alpha=0.5, label='all withdrawals')\n",
    "# ax.plot([b.left for b in reduced['buckets'].values], reduced['avgs'],\n",
    "#         linestyle=\"none\", marker='o', color='black', alpha=1, label='bucketized average')\n",
    "\n",
    "ax.set_xlabel('value', size=14)\n",
    "ax.set_ylabel('time in queue', size=14)\n",
    "ax.legend()\n",
    "plt.show()"
   ]
  },
  {
   "cell_type": "code",
   "execution_count": 485,
   "metadata": {},
   "outputs": [
    {
     "data": {
      "text/plain": [
       "1.5676226074572364"
      ]
     },
     "execution_count": 485,
     "metadata": {},
     "output_type": "execute_result"
    }
   ],
   "source": [
    "np.mean(results[:,0] * results[:,1])"
   ]
  },
  {
   "cell_type": "code",
   "execution_count": null,
   "metadata": {},
   "outputs": [],
   "source": []
  },
  {
   "cell_type": "code",
   "execution_count": 160,
   "metadata": {},
   "outputs": [
    {
     "data": {
      "text/plain": [
       "[(0.71, 0.72], (0.02, 0.03], (0.49, 0.5], (0.49, 0.5], (0.93, 0.94], ..., (0.47, 0.48], (0.67, 0.68], (0.12, 0.13], (0.64, 0.65], (0.36, 0.37]]\n",
       "Length: 4937\n",
       "Categories (100, interval[float64]): [(0.0, 0.01] < (0.01, 0.02] < (0.02, 0.03] < (0.03, 0.04] ... (0.96, 0.97] < (0.97, 0.98] < (0.98, 0.99] < (0.99, 1.0]]"
      ]
     },
     "execution_count": 160,
     "metadata": {},
     "output_type": "execute_result"
    }
   ],
   "source": [
    "df.buckets.values[:]"
   ]
  },
  {
   "cell_type": "code",
   "execution_count": 165,
   "metadata": {},
   "outputs": [
    {
     "data": {
      "text/html": [
       "<div>\n",
       "<style scoped>\n",
       "    .dataframe tbody tr th:only-of-type {\n",
       "        vertical-align: middle;\n",
       "    }\n",
       "\n",
       "    .dataframe tbody tr th {\n",
       "        vertical-align: top;\n",
       "    }\n",
       "\n",
       "    .dataframe thead th {\n",
       "        text-align: right;\n",
       "    }\n",
       "</style>\n",
       "<table border=\"1\" class=\"dataframe\">\n",
       "  <thead>\n",
       "    <tr style=\"text-align: right;\">\n",
       "      <th></th>\n",
       "      <th>buckets</th>\n",
       "      <th>avgs</th>\n",
       "    </tr>\n",
       "  </thead>\n",
       "  <tbody>\n",
       "    <tr>\n",
       "      <th>0</th>\n",
       "      <td>(0.71, 0.72]</td>\n",
       "      <td>5.744681</td>\n",
       "    </tr>\n",
       "    <tr>\n",
       "      <th>1</th>\n",
       "      <td>(0.02, 0.03]</td>\n",
       "      <td>5.350000</td>\n",
       "    </tr>\n",
       "    <tr>\n",
       "      <th>2</th>\n",
       "      <td>(0.49, 0.5]</td>\n",
       "      <td>6.686275</td>\n",
       "    </tr>\n",
       "    <tr>\n",
       "      <th>4</th>\n",
       "      <td>(0.93, 0.94]</td>\n",
       "      <td>5.608696</td>\n",
       "    </tr>\n",
       "    <tr>\n",
       "      <th>5</th>\n",
       "      <td>(0.64, 0.65]</td>\n",
       "      <td>6.551724</td>\n",
       "    </tr>\n",
       "  </tbody>\n",
       "</table>\n",
       "</div>"
      ],
      "text/plain": [
       "        buckets      avgs\n",
       "0  (0.71, 0.72]  5.744681\n",
       "1  (0.02, 0.03]  5.350000\n",
       "2   (0.49, 0.5]  6.686275\n",
       "4  (0.93, 0.94]  5.608696\n",
       "5  (0.64, 0.65]  6.551724"
      ]
     },
     "execution_count": 165,
     "metadata": {},
     "output_type": "execute_result"
    }
   ],
   "source": [
    "df = pd.DataFrame({\"vs\" : results[:,0], \"times\": results[:,1]})\n",
    "bins = np.arange(0, 1.01, 0.01)\n",
    "df[\"buckets\"] = pd.cut(df.vs, bins)\n",
    "df[\"avgs\"] = df.groupby('buckets')['times'].transform('mean')\n",
    "reduced = df[['buckets', 'avgs']].drop_duplicates()\n",
    "reduced.head()"
   ]
  },
  {
   "cell_type": "code",
   "execution_count": 191,
   "metadata": {},
   "outputs": [
    {
     "data": {
      "text/plain": [
       "<BarContainer object of 100 artists>"
      ]
     },
     "execution_count": 191,
     "metadata": {},
     "output_type": "execute_result"
    },
    {
     "data": {
      "image/png": "[encoded data removed]",
      "text/plain": [
       "<Figure size 432x288 with 1 Axes>"
      ]
     },
     "metadata": {
      "needs_background": "light"
     },
     "output_type": "display_data"
    }
   ],
   "source": [
    "plt.bar([b.left for b in reduced['buckets'].values], reduced['avgs'])"
   ]
  },
  {
   "cell_type": "code",
   "execution_count": null,
   "metadata": {},
   "outputs": [],
   "source": []
  },
  {
   "cell_type": "code",
   "execution_count": 150,
   "metadata": {},
   "outputs": [
    {
     "data": {
      "text/plain": [
       "0       5.744681\n",
       "1       5.350000\n",
       "2       6.686275\n",
       "3       6.686275\n",
       "4       5.608696\n",
       "          ...   \n",
       "4932    6.345455\n",
       "4933    6.637931\n",
       "4934    5.824561\n",
       "4935    6.551724\n",
       "4936    6.300000\n",
       "Name: times, Length: 4937, dtype: float64"
      ]
     },
     "execution_count": 150,
     "metadata": {},
     "output_type": "execute_result"
    }
   ],
   "source": [
    "df.groupby('buckets')['times'].transform('mean')"
   ]
  },
  {
   "cell_type": "code",
   "execution_count": 992,
   "metadata": {},
   "outputs": [],
   "source": [
    "history = []\n",
    "pending = []\n",
    "results = []"
   ]
  },
  {
   "cell_type": "code",
   "execution_count": 993,
   "metadata": {},
   "outputs": [],
   "source": [
    "t=0"
   ]
  },
  {
   "cell_type": "code",
   "execution_count": 994,
   "metadata": {},
   "outputs": [
    {
     "data": {
      "text/plain": [
       "2"
      ]
     },
     "execution_count": 994,
     "metadata": {},
     "output_type": "execute_result"
    }
   ],
   "source": [
    "# Calc minslack\n",
    "slacks = []\n",
    "for c in constraints:\n",
    "    delta_i, t_i = c\n",
    "    relevant_history = [h for h in history if (t - h[1]) <= t_i]\n",
    "    slack_i = delta_i - len(relevant_history)\n",
    "    slacks.append(slack_i)\n",
    "minSlack = min(slacks)\n",
    "minSlack"
   ]
  },
  {
   "cell_type": "code",
   "execution_count": 995,
   "metadata": {},
   "outputs": [
    {
     "data": {
      "text/plain": [
       "([], [])"
      ]
     },
     "execution_count": 995,
     "metadata": {},
     "output_type": "execute_result"
    }
   ],
   "source": [
    "# Process withdrawals\n",
    "withdrawals = pending[:minSlack]\n",
    "newResults = [(w[0], t-w[1]) for w in withdrawals] # calc how long the withdrawal was in the queue\n",
    "results.extend(newResults)\n",
    "history.extend([(w[0], t) for w in withdrawals])\n",
    "pending = pending[minSlack:]\n",
    "history, pending"
   ]
  },
  {
   "cell_type": "code",
   "execution_count": 996,
   "metadata": {},
   "outputs": [
    {
     "data": {
      "text/plain": [
       "([],\n",
       " [(0.33809753760303074, 0),\n",
       "  (0.7232209906358794, 0),\n",
       "  (0.4319109863214047, 0),\n",
       "  (0.25860820646527216, 0),\n",
       "  (0.8807662105893167, 0),\n",
       "  (0.4983191952648651, 0),\n",
       "  (0.9272267755782196, 0),\n",
       "  (0.37208767241033147, 0),\n",
       "  (0.9728572312371845, 0),\n",
       "  (0.6719518480453671, 0),\n",
       "  (0.46643496262932294, 0),\n",
       "  (0.16847746369187866, 0),\n",
       "  (0.6500841778127634, 0)])"
      ]
     },
     "execution_count": 996,
     "metadata": {},
     "output_type": "execute_result"
    }
   ],
   "source": [
    "# Add new pendings\n",
    "numWdraws = poisson.rvs(mu=10)\n",
    "newValues = uniform.rvs(0, 1, size=numWdraws)\n",
    "newPending = [(vi, t) for vi in newValues]\n",
    "pending.extend(newPending)\n",
    "history, pending"
   ]
  },
  {
   "cell_type": "code",
   "execution_count": 997,
   "metadata": {},
   "outputs": [],
   "source": [
    "t=1"
   ]
  },
  {
   "cell_type": "code",
   "execution_count": 998,
   "metadata": {},
   "outputs": [
    {
     "data": {
      "text/plain": [
       "2"
      ]
     },
     "execution_count": 998,
     "metadata": {},
     "output_type": "execute_result"
    }
   ],
   "source": [
    "# Calc minslack\n",
    "slacks = []\n",
    "for c in constraints:\n",
    "    delta_i, t_i = c\n",
    "    relevant_history = [h for h in history if (t - h[1]) <= t_i]\n",
    "    slack_i = delta_i - len(relevant_history)\n",
    "    slacks.append(slack_i)\n",
    "minSlack = min(slacks)\n",
    "minSlack"
   ]
  },
  {
   "cell_type": "code",
   "execution_count": 999,
   "metadata": {},
   "outputs": [
    {
     "data": {
      "text/plain": [
       "([(0.33809753760303074, 1), (0.7232209906358794, 1)],\n",
       " [(0.4319109863214047, 0),\n",
       "  (0.25860820646527216, 0),\n",
       "  (0.8807662105893167, 0),\n",
       "  (0.4983191952648651, 0),\n",
       "  (0.9272267755782196, 0),\n",
       "  (0.37208767241033147, 0),\n",
       "  (0.9728572312371845, 0),\n",
       "  (0.6719518480453671, 0),\n",
       "  (0.46643496262932294, 0),\n",
       "  (0.16847746369187866, 0),\n",
       "  (0.6500841778127634, 0)])"
      ]
     },
     "execution_count": 999,
     "metadata": {},
     "output_type": "execute_result"
    }
   ],
   "source": [
    "# Process withdrawals\n",
    "withdrawals = pending[:minSlack]\n",
    "newResults = [(w[0], t-w[1]) for w in withdrawals] # calc how long the withdrawal was in the queue\n",
    "results.extend(newResults)\n",
    "history.extend([(w[0], t) for w in withdrawals])\n",
    "pending = pending[minSlack:]\n",
    "history, pending"
   ]
  },
  {
   "cell_type": "code",
   "execution_count": 1000,
   "metadata": {},
   "outputs": [
    {
     "data": {
      "text/plain": [
       "([(0.33809753760303074, 1), (0.7232209906358794, 1)],\n",
       " [(0.4319109863214047, 0),\n",
       "  (0.25860820646527216, 0),\n",
       "  (0.8807662105893167, 0),\n",
       "  (0.4983191952648651, 0),\n",
       "  (0.9272267755782196, 0),\n",
       "  (0.37208767241033147, 0),\n",
       "  (0.9728572312371845, 0),\n",
       "  (0.6719518480453671, 0),\n",
       "  (0.46643496262932294, 0),\n",
       "  (0.16847746369187866, 0),\n",
       "  (0.6500841778127634, 0)])"
      ]
     },
     "execution_count": 1000,
     "metadata": {},
     "output_type": "execute_result"
    }
   ],
   "source": [
    "# Add new pendings\n",
    "numWdraws = poisson.rvs(mu=2)\n",
    "newValues = uniform.rvs(0, 1, size=numWdraws)\n",
    "newPending = [(vi, t) for vi in newValues]\n",
    "pending.extend(newPending)\n",
    "history, pending"
   ]
  },
  {
   "cell_type": "code",
   "execution_count": 1001,
   "metadata": {},
   "outputs": [],
   "source": [
    "t=2"
   ]
  },
  {
   "cell_type": "code",
   "execution_count": 1002,
   "metadata": {},
   "outputs": [
    {
     "data": {
      "text/plain": [
       "[(0.33809753760303074, 1), (0.7232209906358794, 1)]"
      ]
     },
     "execution_count": 1002,
     "metadata": {},
     "output_type": "execute_result"
    }
   ],
   "source": [
    "history = [h for h in history if (t - h[1]) <= T_MAX]\n",
    "history"
   ]
  },
  {
   "cell_type": "code",
   "execution_count": 1003,
   "metadata": {},
   "outputs": [
    {
     "data": {
      "text/plain": [
       "1"
      ]
     },
     "execution_count": 1003,
     "metadata": {},
     "output_type": "execute_result"
    }
   ],
   "source": [
    "# Calc minslack\n",
    "slacks = []\n",
    "for c in constraints:\n",
    "    delta_i, t_i = c\n",
    "    relevant_history = [h for h in history if (t - h[1]) < t_i]\n",
    "    slack_i = delta_i - len(relevant_history)\n",
    "    slacks.append(slack_i)\n",
    "minSlack = min(slacks)\n",
    "minSlack"
   ]
  },
  {
   "cell_type": "code",
   "execution_count": 1004,
   "metadata": {},
   "outputs": [
    {
     "data": {
      "text/plain": [
       "([(0.33809753760303074, 1), (0.7232209906358794, 1), (0.4319109863214047, 2)],\n",
       " [(0.25860820646527216, 0),\n",
       "  (0.8807662105893167, 0),\n",
       "  (0.4983191952648651, 0),\n",
       "  (0.9272267755782196, 0),\n",
       "  (0.37208767241033147, 0),\n",
       "  (0.9728572312371845, 0),\n",
       "  (0.6719518480453671, 0),\n",
       "  (0.46643496262932294, 0),\n",
       "  (0.16847746369187866, 0),\n",
       "  (0.6500841778127634, 0)])"
      ]
     },
     "execution_count": 1004,
     "metadata": {},
     "output_type": "execute_result"
    }
   ],
   "source": [
    "# Process withdrawals\n",
    "withdrawals = pending[:minSlack]\n",
    "newResults = [(w[0], t-w[1]) for w in withdrawals] # calc how long the withdrawal was in the queue\n",
    "results.extend(newResults)\n",
    "history.extend([(w[0], t) for w in withdrawals])\n",
    "pending = pending[minSlack:]\n",
    "history, pending"
   ]
  },
  {
   "cell_type": "code",
   "execution_count": 1005,
   "metadata": {},
   "outputs": [
    {
     "data": {
      "text/plain": [
       "([(0.33809753760303074, 1), (0.7232209906358794, 1), (0.4319109863214047, 2)],\n",
       " [(0.25860820646527216, 0),\n",
       "  (0.8807662105893167, 0),\n",
       "  (0.4983191952648651, 0),\n",
       "  (0.9272267755782196, 0),\n",
       "  (0.37208767241033147, 0),\n",
       "  (0.9728572312371845, 0),\n",
       "  (0.6719518480453671, 0),\n",
       "  (0.46643496262932294, 0),\n",
       "  (0.16847746369187866, 0),\n",
       "  (0.6500841778127634, 0),\n",
       "  (0.6967037909637617, 2)])"
      ]
     },
     "execution_count": 1005,
     "metadata": {},
     "output_type": "execute_result"
    }
   ],
   "source": [
    "# Add new pendings\n",
    "numWdraws = poisson.rvs(mu=2)\n",
    "newValues = uniform.rvs(0, 1, size=numWdraws)\n",
    "newPending = [(vi, t) for vi in newValues]\n",
    "pending.extend(newPending)\n",
    "history, pending"
   ]
  },
  {
   "cell_type": "code",
   "execution_count": 1006,
   "metadata": {},
   "outputs": [],
   "source": [
    "t=3"
   ]
  },
  {
   "cell_type": "code",
   "execution_count": 1007,
   "metadata": {},
   "outputs": [
    {
     "data": {
      "text/plain": [
       "[(0.33809753760303074, 1), (0.7232209906358794, 1), (0.4319109863214047, 2)]"
      ]
     },
     "execution_count": 1007,
     "metadata": {},
     "output_type": "execute_result"
    }
   ],
   "source": [
    "history = [h for h in history if (t - h[1]) <= T_MAX]\n",
    "history"
   ]
  },
  {
   "cell_type": "code",
   "execution_count": 1008,
   "metadata": {},
   "outputs": [
    {
     "data": {
      "text/plain": [
       "0"
      ]
     },
     "execution_count": 1008,
     "metadata": {},
     "output_type": "execute_result"
    }
   ],
   "source": [
    "# Calc minslack\n",
    "slacks = []\n",
    "for c in constraints:\n",
    "    delta_i, t_i = c\n",
    "    relevant_history = [h for h in history if (t - h[1]) <= t_i]\n",
    "    slack_i = delta_i - len(relevant_history)\n",
    "    slacks.append(slack_i)\n",
    "minSlack = min(slacks)\n",
    "minSlack"
   ]
  },
  {
   "cell_type": "code",
   "execution_count": 1009,
   "metadata": {},
   "outputs": [
    {
     "data": {
      "text/plain": [
       "([(0.33809753760303074, 1), (0.7232209906358794, 1), (0.4319109863214047, 2)],\n",
       " [(0.25860820646527216, 0),\n",
       "  (0.8807662105893167, 0),\n",
       "  (0.4983191952648651, 0),\n",
       "  (0.9272267755782196, 0),\n",
       "  (0.37208767241033147, 0),\n",
       "  (0.9728572312371845, 0),\n",
       "  (0.6719518480453671, 0),\n",
       "  (0.46643496262932294, 0),\n",
       "  (0.16847746369187866, 0),\n",
       "  (0.6500841778127634, 0),\n",
       "  (0.6967037909637617, 2)])"
      ]
     },
     "execution_count": 1009,
     "metadata": {},
     "output_type": "execute_result"
    }
   ],
   "source": [
    "# Process withdrawals\n",
    "withdrawals = pending[:minSlack]\n",
    "newResults = [(w[0], t-w[1]) for w in withdrawals] # calc how long the withdrawal was in the queue\n",
    "results.extend(newResults)\n",
    "history.extend([(w[0], t) for w in withdrawals])\n",
    "pending = pending[minSlack:]\n",
    "history, pending"
   ]
  },
  {
   "cell_type": "code",
   "execution_count": 1010,
   "metadata": {},
   "outputs": [
    {
     "data": {
      "text/plain": [
       "([(0.33809753760303074, 1), (0.7232209906358794, 1), (0.4319109863214047, 2)],\n",
       " [(0.25860820646527216, 0),\n",
       "  (0.8807662105893167, 0),\n",
       "  (0.4983191952648651, 0),\n",
       "  (0.9272267755782196, 0),\n",
       "  (0.37208767241033147, 0),\n",
       "  (0.9728572312371845, 0),\n",
       "  (0.6719518480453671, 0),\n",
       "  (0.46643496262932294, 0),\n",
       "  (0.16847746369187866, 0),\n",
       "  (0.6500841778127634, 0),\n",
       "  (0.6967037909637617, 2),\n",
       "  (0.09637508504536274, 3),\n",
       "  (0.9969732653357753, 3),\n",
       "  (0.8329954174729222, 3),\n",
       "  (0.9021274726368268, 3),\n",
       "  (0.17730267150638213, 3)])"
      ]
     },
     "execution_count": 1010,
     "metadata": {},
     "output_type": "execute_result"
    }
   ],
   "source": [
    "# Add new pendings\n",
    "numWdraws = poisson.rvs(mu=2)\n",
    "newValues = uniform.rvs(0, 1, size=numWdraws)\n",
    "newPending = [(vi, t) for vi in newValues]\n",
    "pending.extend(newPending)\n",
    "history, pending"
   ]
  },
  {
   "cell_type": "code",
   "execution_count": 1011,
   "metadata": {},
   "outputs": [],
   "source": [
    "t=4"
   ]
  },
  {
   "cell_type": "code",
   "execution_count": 1012,
   "metadata": {},
   "outputs": [
    {
     "data": {
      "text/plain": [
       "[(0.33809753760303074, 1), (0.7232209906358794, 1), (0.4319109863214047, 2)]"
      ]
     },
     "execution_count": 1012,
     "metadata": {},
     "output_type": "execute_result"
    }
   ],
   "source": [
    "history = [h for h in history if (t - h[1]) <= T_MAX]\n",
    "history"
   ]
  },
  {
   "cell_type": "code",
   "execution_count": 1013,
   "metadata": {},
   "outputs": [
    {
     "data": {
      "text/plain": [
       "0"
      ]
     },
     "execution_count": 1013,
     "metadata": {},
     "output_type": "execute_result"
    }
   ],
   "source": [
    "# Calc minslack\n",
    "slacks = []\n",
    "for c in constraints:\n",
    "    delta_i, t_i = c\n",
    "    relevant_history = [h for h in history if (t - h[1]) <= t_i]\n",
    "    slack_i = delta_i - len(relevant_history)\n",
    "    slacks.append(slack_i)\n",
    "minSlack = min(slacks)\n",
    "minSlack"
   ]
  },
  {
   "cell_type": "code",
   "execution_count": 816,
   "metadata": {},
   "outputs": [
    {
     "data": {
      "text/plain": [
       "([(0.3193783625585024, 1), (0.55258756118677, 1), (0.30556473899788883, 2)],\n",
       " [(0.7065200250294877, 3), (0.12991191504035682, 3)])"
      ]
     },
     "execution_count": 816,
     "metadata": {},
     "output_type": "execute_result"
    }
   ],
   "source": [
    "# Process withdrawals\n",
    "withdrawals = pending[:minSlack]\n",
    "newResults = [(w[0], t-w[1]) for w in withdrawals] # calc how long the withdrawal was in the queue\n",
    "results.extend(newResults)\n",
    "history.extend(withdrawals)\n",
    "pending = pending[minSlack:]\n",
    "history, pending"
   ]
  },
  {
   "cell_type": "code",
   "execution_count": 817,
   "metadata": {},
   "outputs": [
    {
     "data": {
      "text/plain": [
       "([(0.3193783625585024, 1), (0.55258756118677, 1), (0.30556473899788883, 2)],\n",
       " [(0.7065200250294877, 3),\n",
       "  (0.12991191504035682, 3),\n",
       "  (0.7402221941233551, 4),\n",
       "  (0.005814512606337696, 4),\n",
       "  (0.8625104780574232, 4),\n",
       "  (0.604733139223019, 4),\n",
       "  (0.5764183191138279, 4)])"
      ]
     },
     "execution_count": 817,
     "metadata": {},
     "output_type": "execute_result"
    }
   ],
   "source": [
    "# Add new pendings\n",
    "numWdraws = poisson.rvs(mu=2)\n",
    "newValues = uniform.rvs(0, 1, size=numWdraws)\n",
    "newPending = [(vi, t) for vi in newValues]\n",
    "pending.extend(newPending)\n",
    "history, pending"
   ]
  },
  {
   "cell_type": "code",
   "execution_count": 818,
   "metadata": {},
   "outputs": [],
   "source": [
    "t=5"
   ]
  },
  {
   "cell_type": "code",
   "execution_count": 819,
   "metadata": {},
   "outputs": [
    {
     "data": {
      "text/plain": [
       "[(0.30556473899788883, 2)]"
      ]
     },
     "execution_count": 819,
     "metadata": {},
     "output_type": "execute_result"
    }
   ],
   "source": [
    "history = [h for h in history if (t - h[1]) <= T_MAX]\n",
    "history"
   ]
  },
  {
   "cell_type": "code",
   "execution_count": 820,
   "metadata": {},
   "outputs": [
    {
     "data": {
      "text/plain": [
       "2"
      ]
     },
     "execution_count": 820,
     "metadata": {},
     "output_type": "execute_result"
    }
   ],
   "source": [
    "# Calc minslack\n",
    "slacks = []\n",
    "for c in constraints:\n",
    "    delta_i, t_i = c\n",
    "    relevant_history = [h for h in history if (t - h[1]) <= t_i]\n",
    "    slack_i = delta_i - len(relevant_history)\n",
    "    slacks.append(slack_i)\n",
    "minSlack = min(slacks)\n",
    "minSlack"
   ]
  },
  {
   "cell_type": "code",
   "execution_count": 821,
   "metadata": {},
   "outputs": [
    {
     "data": {
      "text/plain": [
       "([(0.30556473899788883, 2), (0.7065200250294877, 3), (0.12991191504035682, 3)],\n",
       " [(0.7402221941233551, 4),\n",
       "  (0.005814512606337696, 4),\n",
       "  (0.8625104780574232, 4),\n",
       "  (0.604733139223019, 4),\n",
       "  (0.5764183191138279, 4)])"
      ]
     },
     "execution_count": 821,
     "metadata": {},
     "output_type": "execute_result"
    }
   ],
   "source": [
    "# Process withdrawals\n",
    "withdrawals = pending[:minSlack]\n",
    "newResults = [(w[0], t-w[1]) for w in withdrawals] # calc how long the withdrawal was in the queue\n",
    "results.extend(newResults)\n",
    "history.extend(withdrawals)\n",
    "pending = pending[minSlack:]\n",
    "history, pending"
   ]
  },
  {
   "cell_type": "code",
   "execution_count": 822,
   "metadata": {},
   "outputs": [
    {
     "data": {
      "text/plain": [
       "([(0.30556473899788883, 2), (0.7065200250294877, 3), (0.12991191504035682, 3)],\n",
       " [(0.7402221941233551, 4),\n",
       "  (0.005814512606337696, 4),\n",
       "  (0.8625104780574232, 4),\n",
       "  (0.604733139223019, 4),\n",
       "  (0.5764183191138279, 4),\n",
       "  (0.5450065054350886, 5),\n",
       "  (0.562821559487976, 5)])"
      ]
     },
     "execution_count": 822,
     "metadata": {},
     "output_type": "execute_result"
    }
   ],
   "source": [
    "# Add new pendings\n",
    "numWdraws = poisson.rvs(mu=2)\n",
    "newValues = uniform.rvs(0, 1, size=numWdraws)\n",
    "newPending = [(vi, t) for vi in newValues]\n",
    "pending.extend(newPending)\n",
    "history, pending"
   ]
  },
  {
   "cell_type": "code",
   "execution_count": 823,
   "metadata": {},
   "outputs": [],
   "source": [
    "t=6"
   ]
  },
  {
   "cell_type": "code",
   "execution_count": 824,
   "metadata": {},
   "outputs": [
    {
     "data": {
      "text/plain": [
       "[(0.7065200250294877, 3), (0.12991191504035682, 3)]"
      ]
     },
     "execution_count": 824,
     "metadata": {},
     "output_type": "execute_result"
    }
   ],
   "source": [
    "history = [h for h in history if (t - h[1]) <= T_MAX]\n",
    "history"
   ]
  },
  {
   "cell_type": "code",
   "execution_count": 825,
   "metadata": {},
   "outputs": [
    {
     "data": {
      "text/plain": [
       "1"
      ]
     },
     "execution_count": 825,
     "metadata": {},
     "output_type": "execute_result"
    }
   ],
   "source": [
    "# Calc minslack\n",
    "slacks = []\n",
    "for c in constraints:\n",
    "    delta_i, t_i = c\n",
    "    relevant_history = [h for h in history if (t - h[1]) <= t_i]\n",
    "    slack_i = delta_i - len(relevant_history)\n",
    "    slacks.append(slack_i)\n",
    "minSlack = min(slacks)\n",
    "minSlack"
   ]
  },
  {
   "cell_type": "code",
   "execution_count": 826,
   "metadata": {},
   "outputs": [
    {
     "data": {
      "text/plain": [
       "([(0.7065200250294877, 3), (0.12991191504035682, 3), (0.7402221941233551, 4)],\n",
       " [(0.005814512606337696, 4),\n",
       "  (0.8625104780574232, 4),\n",
       "  (0.604733139223019, 4),\n",
       "  (0.5764183191138279, 4),\n",
       "  (0.5450065054350886, 5),\n",
       "  (0.562821559487976, 5)])"
      ]
     },
     "execution_count": 826,
     "metadata": {},
     "output_type": "execute_result"
    }
   ],
   "source": [
    "# Process withdrawals\n",
    "withdrawals = pending[:minSlack]\n",
    "newResults = [(w[0], t-w[1]) for w in withdrawals] # calc how long the withdrawal was in the queue\n",
    "results.extend(newResults)\n",
    "history.extend(withdrawals)\n",
    "pending = pending[minSlack:]\n",
    "history, pending"
   ]
  },
  {
   "cell_type": "code",
   "execution_count": 827,
   "metadata": {},
   "outputs": [
    {
     "data": {
      "text/plain": [
       "([(0.7065200250294877, 3), (0.12991191504035682, 3), (0.7402221941233551, 4)],\n",
       " [(0.005814512606337696, 4),\n",
       "  (0.8625104780574232, 4),\n",
       "  (0.604733139223019, 4),\n",
       "  (0.5764183191138279, 4),\n",
       "  (0.5450065054350886, 5),\n",
       "  (0.562821559487976, 5),\n",
       "  (0.8368518182141633, 6),\n",
       "  (0.20562957801453907, 6),\n",
       "  (0.28284804555560084, 6),\n",
       "  (0.3341172243046805, 6)])"
      ]
     },
     "execution_count": 827,
     "metadata": {},
     "output_type": "execute_result"
    }
   ],
   "source": [
    "# Add new pendings\n",
    "numWdraws = poisson.rvs(mu=2)\n",
    "newValues = uniform.rvs(0, 1, size=numWdraws)\n",
    "newPending = [(vi, t) for vi in newValues]\n",
    "pending.extend(newPending)\n",
    "history, pending"
   ]
  },
  {
   "cell_type": "code",
   "execution_count": 828,
   "metadata": {},
   "outputs": [],
   "source": [
    "t=7"
   ]
  },
  {
   "cell_type": "code",
   "execution_count": 829,
   "metadata": {},
   "outputs": [
    {
     "data": {
      "text/plain": [
       "[(0.7402221941233551, 4)]"
      ]
     },
     "execution_count": 829,
     "metadata": {},
     "output_type": "execute_result"
    }
   ],
   "source": [
    "history = [h for h in history if (t - h[1]) <= T_MAX]\n",
    "history"
   ]
  },
  {
   "cell_type": "code",
   "execution_count": 830,
   "metadata": {},
   "outputs": [
    {
     "data": {
      "text/plain": [
       "2"
      ]
     },
     "execution_count": 830,
     "metadata": {},
     "output_type": "execute_result"
    }
   ],
   "source": [
    "# Calc minslack\n",
    "slacks = []\n",
    "for c in constraints:\n",
    "    delta_i, t_i = c\n",
    "    relevant_history = [h for h in history if (t - h[1]) <= t_i]\n",
    "    slack_i = delta_i - len(relevant_history)\n",
    "    slacks.append(slack_i)\n",
    "minSlack = min(slacks)\n",
    "minSlack"
   ]
  },
  {
   "cell_type": "code",
   "execution_count": 831,
   "metadata": {},
   "outputs": [
    {
     "data": {
      "text/plain": [
       "([(0.7402221941233551, 4), (0.005814512606337696, 4), (0.8625104780574232, 4)],\n",
       " [(0.604733139223019, 4),\n",
       "  (0.5764183191138279, 4),\n",
       "  (0.5450065054350886, 5),\n",
       "  (0.562821559487976, 5),\n",
       "  (0.8368518182141633, 6),\n",
       "  (0.20562957801453907, 6),\n",
       "  (0.28284804555560084, 6),\n",
       "  (0.3341172243046805, 6)])"
      ]
     },
     "execution_count": 831,
     "metadata": {},
     "output_type": "execute_result"
    }
   ],
   "source": [
    "# Process withdrawals\n",
    "withdrawals = pending[:minSlack]\n",
    "newResults = [(w[0], t-w[1]) for w in withdrawals] # calc how long the withdrawal was in the queue\n",
    "results.extend(newResults)\n",
    "history.extend(withdrawals)\n",
    "pending = pending[minSlack:]\n",
    "history, pending"
   ]
  },
  {
   "cell_type": "code",
   "execution_count": 832,
   "metadata": {},
   "outputs": [
    {
     "data": {
      "text/plain": [
       "([(0.7402221941233551, 4), (0.005814512606337696, 4), (0.8625104780574232, 4)],\n",
       " [(0.604733139223019, 4),\n",
       "  (0.5764183191138279, 4),\n",
       "  (0.5450065054350886, 5),\n",
       "  (0.562821559487976, 5),\n",
       "  (0.8368518182141633, 6),\n",
       "  (0.20562957801453907, 6),\n",
       "  (0.28284804555560084, 6),\n",
       "  (0.3341172243046805, 6),\n",
       "  (0.7729846858340922, 7)])"
      ]
     },
     "execution_count": 832,
     "metadata": {},
     "output_type": "execute_result"
    }
   ],
   "source": [
    "# Add new pendings\n",
    "numWdraws = poisson.rvs(mu=2)\n",
    "newValues = uniform.rvs(0, 1, size=numWdraws)\n",
    "newPending = [(vi, t) for vi in newValues]\n",
    "pending.extend(newPending)\n",
    "history, pending"
   ]
  },
  {
   "cell_type": "code",
   "execution_count": 833,
   "metadata": {},
   "outputs": [],
   "source": [
    "t=8"
   ]
  },
  {
   "cell_type": "code",
   "execution_count": 834,
   "metadata": {},
   "outputs": [
    {
     "data": {
      "text/plain": [
       "[]"
      ]
     },
     "execution_count": 834,
     "metadata": {},
     "output_type": "execute_result"
    }
   ],
   "source": [
    "history = [h for h in history if (t - h[1]) <= T_MAX]\n",
    "history"
   ]
  },
  {
   "cell_type": "code",
   "execution_count": 825,
   "metadata": {},
   "outputs": [
    {
     "data": {
      "text/plain": [
       "1"
      ]
     },
     "execution_count": 825,
     "metadata": {},
     "output_type": "execute_result"
    }
   ],
   "source": [
    "# Calc minslack\n",
    "slacks = []\n",
    "for c in constraints:\n",
    "    delta_i, t_i = c\n",
    "    relevant_history = [h for h in history if (t - h[1]) <= t_i]\n",
    "    slack_i = delta_i - len(relevant_history)\n",
    "    slacks.append(slack_i)\n",
    "minSlack = min(slacks)\n",
    "minSlack"
   ]
  },
  {
   "cell_type": "code",
   "execution_count": 826,
   "metadata": {},
   "outputs": [
    {
     "data": {
      "text/plain": [
       "([(0.7065200250294877, 3), (0.12991191504035682, 3), (0.7402221941233551, 4)],\n",
       " [(0.005814512606337696, 4),\n",
       "  (0.8625104780574232, 4),\n",
       "  (0.604733139223019, 4),\n",
       "  (0.5764183191138279, 4),\n",
       "  (0.5450065054350886, 5),\n",
       "  (0.562821559487976, 5)])"
      ]
     },
     "execution_count": 826,
     "metadata": {},
     "output_type": "execute_result"
    }
   ],
   "source": [
    "# Process withdrawals\n",
    "withdrawals = pending[:minSlack]\n",
    "newResults = [(w[0], t-w[1]) for w in withdrawals] # calc how long the withdrawal was in the queue\n",
    "results.extend(newResults)\n",
    "history.extend(withdrawals)\n",
    "pending = pending[minSlack:]\n",
    "history, pending"
   ]
  },
  {
   "cell_type": "code",
   "execution_count": 827,
   "metadata": {},
   "outputs": [
    {
     "data": {
      "text/plain": [
       "([(0.7065200250294877, 3), (0.12991191504035682, 3), (0.7402221941233551, 4)],\n",
       " [(0.005814512606337696, 4),\n",
       "  (0.8625104780574232, 4),\n",
       "  (0.604733139223019, 4),\n",
       "  (0.5764183191138279, 4),\n",
       "  (0.5450065054350886, 5),\n",
       "  (0.562821559487976, 5),\n",
       "  (0.8368518182141633, 6),\n",
       "  (0.20562957801453907, 6),\n",
       "  (0.28284804555560084, 6),\n",
       "  (0.3341172243046805, 6)])"
      ]
     },
     "execution_count": 827,
     "metadata": {},
     "output_type": "execute_result"
    }
   ],
   "source": [
    "# Add new pendings\n",
    "numWdraws = poisson.rvs(mu=2)\n",
    "newValues = uniform.rvs(0, 1, size=numWdraws)\n",
    "newPending = [(vi, t) for vi in newValues]\n",
    "pending.extend(newPending)\n",
    "history, pending"
   ]
  },
  {
   "cell_type": "code",
   "execution_count": null,
   "metadata": {},
   "outputs": [],
   "source": []
  }
 ],
 "metadata": {
  "kernelspec": {
   "display_name": "Python 3",
   "language": "python",
   "name": "python3"
  },
  "language_info": {
   "codemirror_mode": {
    "name": "ipython",
    "version": 3
   },
   "file_extension": ".py",
   "mimetype": "text/x-python",
   "name": "python",
   "nbconvert_exporter": "python",
   "pygments_lexer": "ipython3",
   "version": "3.8.16"
  }
 },
 "nbformat": 4,
 "nbformat_minor": 4
}
