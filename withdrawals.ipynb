{
 "cells": [
  {
   "cell_type": "code",
   "execution_count": 204,
   "metadata": {},
   "outputs": [],
   "source": [
    "import matplotlib.pyplot as plt\n",
    "import numpy as np\n",
    "import pandas as pd\n",
    "from scipy.stats import poisson, uniform\n",
    "from tqdm import tqdm"
   ]
  },
  {
   "cell_type": "code",
   "execution_count": 3,
   "metadata": {},
   "outputs": [],
   "source": [
    "constraints = [\n",
    "    (10, 8),  # no more than 10 wdraws in  8 epochs\n",
    "    (20, 10), # no more than 20 wdraws in 10 epochs\n",
    "]"
   ]
  },
  {
   "cell_type": "code",
   "execution_count": 11,
   "metadata": {},
   "outputs": [
    {
     "data": {
      "text/plain": [
       "10"
      ]
     },
     "execution_count": 11,
     "metadata": {},
     "output_type": "execute_result"
    }
   ],
   "source": [
    "T_MAX = max(constraints, key=lambda x:x[1])[1]\n",
    "T_MAX"
   ]
  },
  {
   "cell_type": "code",
   "execution_count": 57,
   "metadata": {},
   "outputs": [
    {
     "data": {
      "text/plain": [
       "(array([0.36641832, 0.7468677 , 0.23832683, 0.41801524, 0.67367168,\n",
       "        0.40204133, 0.46168873, 0.86964308, 0.89587681, 0.58678066]),\n",
       " 20)"
      ]
     },
     "execution_count": 57,
     "metadata": {},
     "output_type": "execute_result"
    }
   ],
   "source": [
    "uniform.rvs(0, 1, size=10), poisson.rvs(mu=10)"
   ]
  },
  {
   "cell_type": "code",
   "execution_count": 232,
   "metadata": {},
   "outputs": [
    {
     "name": "stderr",
     "output_type": "stream",
     "text": [
      "100%|██████████| 100000/100000 [00:12<00:00, 8264.25it/s]\n"
     ]
    }
   ],
   "source": [
    "history = []\n",
    "pending = []\n",
    "results = []\n",
    "for t in tqdm(range(100000)):\n",
    "    # Expire oldest withdrawals\n",
    "    history = [h for h in history if (t - h[1]) > T_MAX]\n",
    "    \n",
    "    # Calc minslack\n",
    "    slacks = []\n",
    "    for c in constraints:\n",
    "        delta_i, t_i = c\n",
    "        relevant_history = [h for h in history if h[1] <= t_i]\n",
    "        slack_i = delta_i - len(relevant_history)\n",
    "        slacks.append(slack_i)\n",
    "    minSlack = min(slacks)\n",
    "    \n",
    "    # Process withdrawals\n",
    "    withdrawals = pending[:minSlack]\n",
    "    newResults = [(w[0], t-w[1]) for w in withdrawals] # calc how long the withdrawal was in the queue\n",
    "    results.extend(newResults)\n",
    "    history.extend(withdrawals)\n",
    "    pending = pending[minSlack:]\n",
    "    \n",
    "    \n",
    "    # Add new pendings\n",
    "    numWdraws = poisson.rvs(mu=8)\n",
    "    newValues = uniform.rvs(0, 1, size=numWdraws)\n",
    "    newPending = [(vi, t) for vi in newValues]\n",
    "    pending.extend(newPending)\n",
    "\n",
    "results = np.asarray(results)"
   ]
  },
  {
   "cell_type": "code",
   "execution_count": 237,
   "metadata": {},
   "outputs": [
    {
     "data": {
      "text/html": [
       "<div>\n",
       "<style scoped>\n",
       "    .dataframe tbody tr th:only-of-type {\n",
       "        vertical-align: middle;\n",
       "    }\n",
       "\n",
       "    .dataframe tbody tr th {\n",
       "        vertical-align: top;\n",
       "    }\n",
       "\n",
       "    .dataframe thead th {\n",
       "        text-align: right;\n",
       "    }\n",
       "</style>\n",
       "<table border=\"1\" class=\"dataframe\">\n",
       "  <thead>\n",
       "    <tr style=\"text-align: right;\">\n",
       "      <th></th>\n",
       "      <th>buckets</th>\n",
       "      <th>avgs</th>\n",
       "    </tr>\n",
       "  </thead>\n",
       "  <tbody>\n",
       "    <tr>\n",
       "      <th>0</th>\n",
       "      <td>(0.46, 0.47]</td>\n",
       "      <td>1.109219</td>\n",
       "    </tr>\n",
       "    <tr>\n",
       "      <th>1</th>\n",
       "      <td>(0.39, 0.4]</td>\n",
       "      <td>1.107427</td>\n",
       "    </tr>\n",
       "    <tr>\n",
       "      <th>2</th>\n",
       "      <td>(0.18, 0.19]</td>\n",
       "      <td>1.103151</td>\n",
       "    </tr>\n",
       "    <tr>\n",
       "      <th>3</th>\n",
       "      <td>(0.92, 0.93]</td>\n",
       "      <td>1.100198</td>\n",
       "    </tr>\n",
       "    <tr>\n",
       "      <th>6</th>\n",
       "      <td>(0.73, 0.74]</td>\n",
       "      <td>1.105987</td>\n",
       "    </tr>\n",
       "  </tbody>\n",
       "</table>\n",
       "</div>"
      ],
      "text/plain": [
       "        buckets      avgs\n",
       "0  (0.46, 0.47]  1.109219\n",
       "1   (0.39, 0.4]  1.107427\n",
       "2  (0.18, 0.19]  1.103151\n",
       "3  (0.92, 0.93]  1.100198\n",
       "6  (0.73, 0.74]  1.105987"
      ]
     },
     "execution_count": 237,
     "metadata": {},
     "output_type": "execute_result"
    }
   ],
   "source": [
    "df = pd.DataFrame({\"vs\" : results[:,0], \"times\": results[:,1]})\n",
    "bins = np.arange(0, 1.01, 0.01)\n",
    "df[\"buckets\"] = pd.cut(df.vs, bins)\n",
    "df[\"avgs\"] = df.groupby('buckets')['times'].transform('mean')\n",
    "reduced = df[['buckets', 'avgs']].drop_duplicates()\n",
    "reduced.head()"
   ]
  },
  {
   "cell_type": "code",
   "execution_count": 236,
   "metadata": {},
   "outputs": [
    {
     "data": {
      "image/png": "[encoded data removed]",
      "text/plain": [
       "<Figure size 648x432 with 1 Axes>"
      ]
     },
     "metadata": {
      "needs_background": "light"
     },
     "output_type": "display_data"
    }
   ],
   "source": [
    "f, ax = plt.subplots(figsize=(9,6))\n",
    "\n",
    "ax.plot(results[:,0], results[:,1], \n",
    "        linestyle=\"none\", marker='.', color='salmon', alpha=0.5, label='all withdrawals')\n",
    "ax.plot([b.left for b in reduced['buckets'].values], reduced['avgs'],\n",
    "        linestyle=\"none\", marker='o', color='black', alpha=1, label='bucketized average')\n",
    "\n",
    "ax.set_yticks([1,2,3,4])\n",
    "ax.set_xlabel('value', size=14)\n",
    "ax.set_ylabel('time in queue', size=14)\n",
    "ax.legend()\n",
    "plt.show()"
   ]
  },
  {
   "cell_type": "code",
   "execution_count": 243,
   "metadata": {},
   "outputs": [
    {
     "name": "stderr",
     "output_type": "stream",
     "text": [
      "No handles with labels found to put in legend.\n"
     ]
    },
    {
     "data": {
      "image/png": "[encoded data removed]",
      "text/plain": [
       "<Figure size 648x432 with 1 Axes>"
      ]
     },
     "metadata": {
      "needs_background": "light"
     },
     "output_type": "display_data"
    }
   ],
   "source": [
    "f, ax = plt.subplots(figsize=(9,6))\n",
    "\n",
    "ax.plot(results[:,0], results[:,0] * results[:,1], \n",
    "        linestyle=\"none\", marker='.', color='green', alpha=0.5)\n",
    "\n",
    "ax.set_yticks([1,2,3,4])\n",
    "ax.set_xlabel('value', size=14)\n",
    "ax.set_ylabel('v_i * w_i', size=14)\n",
    "plt.show()"
   ]
  },
  {
   "cell_type": "code",
   "execution_count": 242,
   "metadata": {},
   "outputs": [
    {
     "data": {
      "text/plain": [
       "0.5530532909625596"
      ]
     },
     "execution_count": 242,
     "metadata": {},
     "output_type": "execute_result"
    }
   ],
   "source": [
    "np.mean(results[:,0] * results[:,1])"
   ]
  },
  {
   "cell_type": "markdown",
   "metadata": {},
   "source": [
    "# proportional minslack"
   ]
  },
  {
   "cell_type": "code",
   "execution_count": null,
   "metadata": {},
   "outputs": [
    {
     "name": "stderr",
     "output_type": "stream",
     "text": [
      " 89%|████████▉ | 8885/10000 [00:29<00:10, 107.82it/s] "
     ]
    }
   ],
   "source": [
    "history = []\n",
    "pending = []\n",
    "results = []\n",
    "alpha = 0.4\n",
    "for t in tqdm(range(10_000)):\n",
    "    # Expire oldest withdrawals\n",
    "    history = [h for h in history if (t - h[1]) > T_MAX]\n",
    "    \n",
    "    # Calc minslack\n",
    "    slacks = []\n",
    "    for c in constraints:\n",
    "        delta_i, t_i = c\n",
    "        relevant_history = [h for h in history if h[1] <= t_i]\n",
    "        slack_i = delta_i - len(relevant_history)\n",
    "        slacks.append(slack_i)\n",
    "    minSlack = min(slacks)\n",
    "    propMinSlack = int(minSlack * alpha)\n",
    "    \n",
    "    # Process withdrawals\n",
    "    withdrawals = pending[:minSlack]\n",
    "    newResults = [(w[0], t-w[1]) for w in withdrawals] # calc how long the withdrawal was in the queue\n",
    "    results.extend(newResults)\n",
    "    history.extend(withdrawals)\n",
    "    pending = pending[minSlack:]\n",
    "    \n",
    "    \n",
    "    # Add new pendings\n",
    "    numWdraws = poisson.rvs(mu=10)\n",
    "    newValues = uniform.rvs(0, 1, size=numWdraws)\n",
    "    newPending = [(vi, t) for vi in newValues]\n",
    "    pending.extend(newPending)\n",
    "    \n",
    "    # Pending needs to be sorted now\n",
    "    pending.sort(reverse=True, key=lambda x:x[0])\n",
    "\n",
    "results = np.asarray(results)"
   ]
  },
  {
   "cell_type": "code",
   "execution_count": 293,
   "metadata": {},
   "outputs": [
    {
     "data": {
      "text/html": [
       "<div>\n",
       "<style scoped>\n",
       "    .dataframe tbody tr th:only-of-type {\n",
       "        vertical-align: middle;\n",
       "    }\n",
       "\n",
       "    .dataframe tbody tr th {\n",
       "        vertical-align: top;\n",
       "    }\n",
       "\n",
       "    .dataframe thead th {\n",
       "        text-align: right;\n",
       "    }\n",
       "</style>\n",
       "<table border=\"1\" class=\"dataframe\">\n",
       "  <thead>\n",
       "    <tr style=\"text-align: right;\">\n",
       "      <th></th>\n",
       "      <th>buckets</th>\n",
       "      <th>avgs</th>\n",
       "    </tr>\n",
       "  </thead>\n",
       "  <tbody>\n",
       "    <tr>\n",
       "      <th>0</th>\n",
       "      <td>(0.51, 0.52]</td>\n",
       "      <td>1.509785</td>\n",
       "    </tr>\n",
       "    <tr>\n",
       "      <th>1</th>\n",
       "      <td>(0.14, 0.15]</td>\n",
       "      <td>2.000000</td>\n",
       "    </tr>\n",
       "    <tr>\n",
       "      <th>2</th>\n",
       "      <td>(0.08, 0.09]</td>\n",
       "      <td>6.750000</td>\n",
       "    </tr>\n",
       "    <tr>\n",
       "      <th>3</th>\n",
       "      <td>(0.95, 0.96]</td>\n",
       "      <td>1.000000</td>\n",
       "    </tr>\n",
       "    <tr>\n",
       "      <th>4</th>\n",
       "      <td>(0.93, 0.94]</td>\n",
       "      <td>1.000000</td>\n",
       "    </tr>\n",
       "  </tbody>\n",
       "</table>\n",
       "</div>"
      ],
      "text/plain": [
       "        buckets      avgs\n",
       "0  (0.51, 0.52]  1.509785\n",
       "1  (0.14, 0.15]  2.000000\n",
       "2  (0.08, 0.09]  6.750000\n",
       "3  (0.95, 0.96]  1.000000\n",
       "4  (0.93, 0.94]  1.000000"
      ]
     },
     "execution_count": 293,
     "metadata": {},
     "output_type": "execute_result"
    }
   ],
   "source": [
    "df = pd.DataFrame({\"vs\" : results[:,0], \"times\": results[:,1]})\n",
    "bins = np.arange(0, 1.01, 0.01)\n",
    "df[\"buckets\"] = pd.cut(df.vs, bins)\n",
    "df[\"avgs\"] = df.groupby('buckets')['times'].transform('mean')\n",
    "reduced = df[['buckets', 'avgs']].drop_duplicates()\n",
    "reduced.head()"
   ]
  },
  {
   "cell_type": "code",
   "execution_count": 294,
   "metadata": {},
   "outputs": [
    {
     "data": {
      "image/png": "[encoded data removed]",
      "text/plain": [
       "<Figure size 648x432 with 1 Axes>"
      ]
     },
     "metadata": {
      "needs_background": "light"
     },
     "output_type": "display_data"
    }
   ],
   "source": [
    "f, ax = plt.subplots(figsize=(9,6))\n",
    "\n",
    "ax.plot(results[:,0], results[:,1], \n",
    "        linestyle=\"none\", marker='.', color='salmon', alpha=0.5, label='all withdrawals')\n",
    "ax.plot([b.left for b in reduced['buckets'].values], reduced['avgs'],\n",
    "        linestyle=\"none\", marker='o', color='black', alpha=1, label='bucketized average')\n",
    "\n",
    "ax.set_xlabel('value', size=14)\n",
    "ax.set_ylabel('time in queue', size=14)\n",
    "ax.legend()\n",
    "plt.show()"
   ]
  },
  {
   "cell_type": "code",
   "execution_count": 295,
   "metadata": {},
   "outputs": [
    {
     "data": {
      "text/plain": [
       "6.45374177217041"
      ]
     },
     "execution_count": 295,
     "metadata": {},
     "output_type": "execute_result"
    }
   ],
   "source": [
    "np.mean(results[:,0] * results[:,1])"
   ]
  },
  {
   "cell_type": "code",
   "execution_count": null,
   "metadata": {},
   "outputs": [],
   "source": []
  },
  {
   "cell_type": "code",
   "execution_count": 160,
   "metadata": {},
   "outputs": [
    {
     "data": {
      "text/plain": [
       "[(0.71, 0.72], (0.02, 0.03], (0.49, 0.5], (0.49, 0.5], (0.93, 0.94], ..., (0.47, 0.48], (0.67, 0.68], (0.12, 0.13], (0.64, 0.65], (0.36, 0.37]]\n",
       "Length: 4937\n",
       "Categories (100, interval[float64]): [(0.0, 0.01] < (0.01, 0.02] < (0.02, 0.03] < (0.03, 0.04] ... (0.96, 0.97] < (0.97, 0.98] < (0.98, 0.99] < (0.99, 1.0]]"
      ]
     },
     "execution_count": 160,
     "metadata": {},
     "output_type": "execute_result"
    }
   ],
   "source": [
    "df.buckets.values[:]"
   ]
  },
  {
   "cell_type": "code",
   "execution_count": 165,
   "metadata": {},
   "outputs": [
    {
     "data": {
      "text/html": [
       "<div>\n",
       "<style scoped>\n",
       "    .dataframe tbody tr th:only-of-type {\n",
       "        vertical-align: middle;\n",
       "    }\n",
       "\n",
       "    .dataframe tbody tr th {\n",
       "        vertical-align: top;\n",
       "    }\n",
       "\n",
       "    .dataframe thead th {\n",
       "        text-align: right;\n",
       "    }\n",
       "</style>\n",
       "<table border=\"1\" class=\"dataframe\">\n",
       "  <thead>\n",
       "    <tr style=\"text-align: right;\">\n",
       "      <th></th>\n",
       "      <th>buckets</th>\n",
       "      <th>avgs</th>\n",
       "    </tr>\n",
       "  </thead>\n",
       "  <tbody>\n",
       "    <tr>\n",
       "      <th>0</th>\n",
       "      <td>(0.71, 0.72]</td>\n",
       "      <td>5.744681</td>\n",
       "    </tr>\n",
       "    <tr>\n",
       "      <th>1</th>\n",
       "      <td>(0.02, 0.03]</td>\n",
       "      <td>5.350000</td>\n",
       "    </tr>\n",
       "    <tr>\n",
       "      <th>2</th>\n",
       "      <td>(0.49, 0.5]</td>\n",
       "      <td>6.686275</td>\n",
       "    </tr>\n",
       "    <tr>\n",
       "      <th>4</th>\n",
       "      <td>(0.93, 0.94]</td>\n",
       "      <td>5.608696</td>\n",
       "    </tr>\n",
       "    <tr>\n",
       "      <th>5</th>\n",
       "      <td>(0.64, 0.65]</td>\n",
       "      <td>6.551724</td>\n",
       "    </tr>\n",
       "  </tbody>\n",
       "</table>\n",
       "</div>"
      ],
      "text/plain": [
       "        buckets      avgs\n",
       "0  (0.71, 0.72]  5.744681\n",
       "1  (0.02, 0.03]  5.350000\n",
       "2   (0.49, 0.5]  6.686275\n",
       "4  (0.93, 0.94]  5.608696\n",
       "5  (0.64, 0.65]  6.551724"
      ]
     },
     "execution_count": 165,
     "metadata": {},
     "output_type": "execute_result"
    }
   ],
   "source": [
    "df = pd.DataFrame({\"vs\" : results[:,0], \"times\": results[:,1]})\n",
    "bins = np.arange(0, 1.01, 0.01)\n",
    "df[\"buckets\"] = pd.cut(df.vs, bins)\n",
    "df[\"avgs\"] = df.groupby('buckets')['times'].transform('mean')\n",
    "reduced = df[['buckets', 'avgs']].drop_duplicates()\n",
    "reduced.head()"
   ]
  },
  {
   "cell_type": "code",
   "execution_count": 191,
   "metadata": {},
   "outputs": [
    {
     "data": {
      "text/plain": [
       "<BarContainer object of 100 artists>"
      ]
     },
     "execution_count": 191,
     "metadata": {},
     "output_type": "execute_result"
    },
    {
     "data": {
      "image/png": "[encoded data removed]",
      "text/plain": [
       "<Figure size 432x288 with 1 Axes>"
      ]
     },
     "metadata": {
      "needs_background": "light"
     },
     "output_type": "display_data"
    }
   ],
   "source": [
    "plt.bar([b.left for b in reduced['buckets'].values], reduced['avgs'])"
   ]
  },
  {
   "cell_type": "code",
   "execution_count": null,
   "metadata": {},
   "outputs": [],
   "source": []
  },
  {
   "cell_type": "code",
   "execution_count": 150,
   "metadata": {},
   "outputs": [
    {
     "data": {
      "text/plain": [
       "0       5.744681\n",
       "1       5.350000\n",
       "2       6.686275\n",
       "3       6.686275\n",
       "4       5.608696\n",
       "          ...   \n",
       "4932    6.345455\n",
       "4933    6.637931\n",
       "4934    5.824561\n",
       "4935    6.551724\n",
       "4936    6.300000\n",
       "Name: times, Length: 4937, dtype: float64"
      ]
     },
     "execution_count": 150,
     "metadata": {},
     "output_type": "execute_result"
    }
   ],
   "source": [
    "df.groupby('buckets')['times'].transform('mean')"
   ]
  },
  {
   "cell_type": "code",
   "execution_count": null,
   "metadata": {},
   "outputs": [],
   "source": []
  }
 ],
 "metadata": {
  "kernelspec": {
   "display_name": "Python 3",
   "language": "python",
   "name": "python3"
  },
  "language_info": {
   "codemirror_mode": {
    "name": "ipython",
    "version": 3
   },
   "file_extension": ".py",
   "mimetype": "text/x-python",
   "name": "python",
   "nbconvert_exporter": "python",
   "pygments_lexer": "ipython3",
   "version": "3.8.16"
  }
 },
 "nbformat": 4,
 "nbformat_minor": 4
}
